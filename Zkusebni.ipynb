{
 "cells": [
  {
   "cell_type": "code",
   "execution_count": 1,
   "metadata": {},
   "outputs": [
    {
     "data": {
      "text/plain": [
       "'Institute of Economic Studies, Faculty of Social Sciences, Charles University in Prague'"
      ]
     },
     "execution_count": 1,
     "metadata": {},
     "output_type": "execute_result"
    }
   ],
   "source": [
    "s = 'Institute of Economic Studies, Faculty of Social Sciences, Charles University in Prague'\n",
    "s\n"
   ]
  },
  {
   "cell_type": "code",
   "execution_count": 2,
   "metadata": {},
   "outputs": [
    {
     "name": "stdout",
     "output_type": "stream",
     "text": [
      "Charles\n"
     ]
    }
   ],
   "source": [
    "print(s[59:66])\n"
   ]
  },
  {
   "cell_type": "code",
   "execution_count": 3,
   "metadata": {},
   "outputs": [
    {
     "name": "stdout",
     "output_type": "stream",
     "text": [
      "Institute of Economic Studies\n",
      "Faculty of Social Sciences\n",
      "Charles University in Prague\n"
     ]
    }
   ],
   "source": [
    "\n",
    "for part in s.split(', '):\n",
    "    print(part)"
   ]
  },
  {
   "cell_type": "code",
   "execution_count": 5,
   "metadata": {},
   "outputs": [
    {
     "data": {
      "text/plain": [
       "'The best teacher on IES is ME. He is cool because AWASOME'"
      ]
     },
     "execution_count": 5,
     "metadata": {},
     "output_type": "execute_result"
    }
   ],
   "source": [
    "s1 = 'ME'\n",
    "s2 = 'AWASOME'\n",
    "\n",
    "'The best teacher on IES is {}. He is cool because {}'.format(s1,s2)"
   ]
  },
  {
   "cell_type": "markdown",
   "metadata": {},
   "source": [
    "Vypise pouze values :))))"
   ]
  },
  {
   "cell_type": "code",
   "execution_count": 6,
   "metadata": {},
   "outputs": [
    {
     "name": "stdout",
     "output_type": "stream",
     "text": [
      "Gregor\n",
      "Horváth\n",
      "Baruník\n",
      "Bauer\n",
      "Havránek\n",
      "Janda\n",
      "Janský\n"
     ]
    }
   ],
   "source": [
    "l = ['Gregor','Horváth','Baruník','Bauer','Havránek','Janda','Janský']\n",
    "for el in l:\n",
    "    print(el)"
   ]
  },
  {
   "cell_type": "code",
   "execution_count": 7,
   "metadata": {},
   "outputs": [
    {
     "name": "stdout",
     "output_type": "stream",
     "text": [
      "['Gregor', 'Horváth', 'Baruník', 'Bauer', 'Havránek', 'Janda', 'Janský']\n"
     ]
    }
   ],
   "source": [
    "print(l)"
   ]
  },
  {
   "cell_type": "code",
   "execution_count": 28,
   "metadata": {},
   "outputs": [
    {
     "data": {
      "text/plain": [
       "[{'name': 'Martin Gregor',\n",
       "  'role': 'director of IES',\n",
       "  'age': 18,\n",
       "  'courses': ['JEM013', 'JEB064']},\n",
       " {'name': 'Jozef Baruník',\n",
       "  'role': 'econometric guru',\n",
       "  'age': 15,\n",
       "  'courses': ['JEM005',\n",
       "   'JEM116',\n",
       "   'JED414',\n",
       "   'JED415',\n",
       "   'JED412',\n",
       "   'JEM059',\n",
       "   'JEM061']}]"
      ]
     },
     "execution_count": 28,
     "metadata": {},
     "output_type": "execute_result"
    }
   ],
   "source": [
    "barunik = {'name':'Jozef Baruník','role':'econometric guru','age':15,'courses':['JEM005','JEM116','JED414','JED415','JED412','JEM059','JEM061']}\n",
    "list_of_dicts = [gregor,barunik]\n",
    "list_of_dicts"
   ]
  },
  {
   "cell_type": "code",
   "execution_count": 29,
   "metadata": {},
   "outputs": [],
   "source": [
    "def describeEmployee(d):\n",
    "    '''\n",
    "    retrieves important information about the teacher from the input dictionary and return it as a string\n",
    "    \n",
    "    Input: dictionary with the name, role and age and courses keys\n",
    "    Output: String with information\n",
    "    '''\n",
    "    result = '{}, {}, is at least {} years old. '.format(d['name'],d['role'],d['age'])\n",
    "    \n",
    "    result += 'He teaches {} courses. '.format(len(d['courses']))\n",
    "    \n",
    "    if len(d['courses']) > 5:\n",
    "        result += 'Probably he is a teaching-superhero!'\n",
    "    return result"
   ]
  },
  {
   "cell_type": "code",
   "execution_count": 30,
   "metadata": {},
   "outputs": [
    {
     "name": "stdout",
     "output_type": "stream",
     "text": [
      "Martin Gregor, director of IES, is at least 18 years old. He teaches 2 courses. \n",
      "Jozef Baruník, econometric guru, is at least 15 years old. He teaches 7 courses. Probably he is a teaching-superhero!\n"
     ]
    }
   ],
   "source": [
    "for el in list_of_dicts:\n",
    "    info = describeEmployee(el)\n",
    "    print(info)"
   ]
  },
  {
   "cell_type": "code",
   "execution_count": 31,
   "metadata": {},
   "outputs": [
    {
     "data": {
      "text/plain": [
       "['Horváth', 'Kukačka', 'Gregor']"
      ]
     },
     "execution_count": 31,
     "metadata": {},
     "output_type": "execute_result"
    }
   ],
   "source": [
    "\n",
    "x = ['Horváth','Baruník','Gregor']\n",
    "y = x\n",
    "\n",
    "y[1] = 'Kukačka'\n",
    "x"
   ]
  },
  {
   "cell_type": "code",
   "execution_count": 32,
   "metadata": {
    "scrolled": true
   },
   "outputs": [
    {
     "name": "stdout",
     "output_type": "stream",
     "text": [
      "1.0\n",
      "1.25\n",
      "1.6666666666666667\n",
      "2.5\n",
      "5.0\n"
     ]
    },
    {
     "ename": "ZeroDivisionError",
     "evalue": "division by zero",
     "output_type": "error",
     "traceback": [
      "\u001b[1;31m---------------------------------------------------------------------------\u001b[0m",
      "\u001b[1;31mZeroDivisionError\u001b[0m                         Traceback (most recent call last)",
      "\u001b[1;32m<ipython-input-32-3ba26d9ba93b>\u001b[0m in \u001b[0;36m<module>\u001b[1;34m\u001b[0m\n\u001b[0;32m      1\u001b[0m \u001b[1;32mfor\u001b[0m \u001b[0mi\u001b[0m \u001b[1;32min\u001b[0m \u001b[0mrange\u001b[0m\u001b[1;33m(\u001b[0m\u001b[1;36m5\u001b[0m\u001b[1;33m,\u001b[0m\u001b[1;33m-\u001b[0m\u001b[1;36m5\u001b[0m\u001b[1;33m,\u001b[0m\u001b[1;33m-\u001b[0m\u001b[1;36m1\u001b[0m\u001b[1;33m)\u001b[0m\u001b[1;33m:\u001b[0m\u001b[1;33m\u001b[0m\u001b[1;33m\u001b[0m\u001b[0m\n\u001b[1;32m----> 2\u001b[1;33m     \u001b[0mprint\u001b[0m\u001b[1;33m(\u001b[0m\u001b[1;36m5\u001b[0m\u001b[1;33m/\u001b[0m\u001b[0mi\u001b[0m\u001b[1;33m)\u001b[0m\u001b[1;33m\u001b[0m\u001b[1;33m\u001b[0m\u001b[0m\n\u001b[0m",
      "\u001b[1;31mZeroDivisionError\u001b[0m: division by zero"
     ]
    }
   ],
   "source": [
    "for i in range(5,-5,-1):\n",
    "    print(5/i)"
   ]
  },
  {
   "cell_type": "code",
   "execution_count": 33,
   "metadata": {},
   "outputs": [
    {
     "data": {
      "text/plain": [
       "'A STRING'"
      ]
     },
     "execution_count": 33,
     "metadata": {},
     "output_type": "execute_result"
    }
   ],
   "source": [
    "x = ['a', 'b']\n",
    "x.append('c')\n",
    "s = 'A string'\n",
    "s.upper()"
   ]
  },
  {
   "cell_type": "code",
   "execution_count": 34,
   "metadata": {},
   "outputs": [
    {
     "name": "stdout",
     "output_type": "stream",
     "text": [
      "['a', 'b', 'c']\n"
     ]
    }
   ],
   "source": [
    "print(x)"
   ]
  },
  {
   "cell_type": "code",
   "execution_count": 35,
   "metadata": {},
   "outputs": [],
   "source": [
    "# object\n",
    "x = [1, 5, 4]\n",
    "# method (attribute)\n",
    "x.sort()\n",
    "# another attribute \n",
    "x.__class__;"
   ]
  },
  {
   "cell_type": "code",
   "execution_count": 38,
   "metadata": {},
   "outputs": [],
   "source": [
    "dir(x)"
   ]
  },
  {
   "cell_type": "code",
   "execution_count": null,
   "metadata": {},
   "outputs": [],
   "source": [
    "dir(x);"
   ]
  },
  {
   "cell_type": "code",
   "execution_count": 39,
   "metadata": {},
   "outputs": [],
   "source": [
    "\n",
    "class Student: \n",
    "    def __init__(self):\n",
    "        self.status = None # placeholder\n",
    "    \n",
    "    def study(self):\n",
    "        self.status = 'Wise.'\n",
    "    \n",
    "    def procrastinate(self):\n",
    "        self.status = 'Dumb.'\n",
    "    \n",
    "    def show_status(self):\n",
    "        print(self.status)"
   ]
  },
  {
   "cell_type": "code",
   "execution_count": 41,
   "metadata": {},
   "outputs": [],
   "source": [
    "\n",
    "s = Student()"
   ]
  },
  {
   "cell_type": "code",
   "execution_count": 42,
   "metadata": {},
   "outputs": [
    {
     "data": {
      "text/plain": [
       "<__main__.Student at 0x4ce77bf508>"
      ]
     },
     "execution_count": 42,
     "metadata": {},
     "output_type": "execute_result"
    }
   ],
   "source": [
    "s"
   ]
  },
  {
   "cell_type": "markdown",
   "metadata": {},
   "source": [
    "# SCRAP"
   ]
  },
  {
   "cell_type": "code",
   "execution_count": 2,
   "metadata": {},
   "outputs": [],
   "source": [
    "\n",
    "%matplotlib inline\n",
    "import matplotlib.pyplot as plt\n",
    "import requests\n",
    "import json\n",
    "\n",
    "import pandas as pd\n",
    "import numpy as np\n",
    "from bs4 import BeautifulSoup"
   ]
  },
  {
   "cell_type": "code",
   "execution_count": 3,
   "metadata": {},
   "outputs": [],
   "source": [
    "xml = '''\n",
    "<?xml version=\"1.0\" encoding=\"utf-8\"?>\n",
    "<ies_data>\n",
    "    <courses>\n",
    "        <course id=\"JEM005\" ects=\"6\" name=\"Advanced Econometrics\">\n",
    "            <teacher-id>3421</teacher-id>\n",
    "            <teacher-id>1234</teacher-id>\n",
    "        </course>\n",
    "        <course id=\"JEM207\" ects=\"5\" name=\"Data Processing in Python\">\n",
    "            <teacher-id>3421</teacher-id>\n",
    "        </course>\n",
    "            <course id=\"JEM116\" ects=\"6\" name=\"Applied Econometrics I.\">\n",
    "            <teacher-id>1234</teacher-id>\n",
    "        </course>\n",
    "        <course id=\"JEM059\" ects=\"6\" name=\"Quantitative Finance I.\">\n",
    "            <teacher-id>1234</teacher-id>\n",
    "            <teacher-id>5678</teacher-id>\n",
    "        </course>\n",
    "        <course id=\"JEM061\" ects=\"6\" name=\"Quantitative Finance II.\">\n",
    "            <teacher-id>1234</teacher-id>\n",
    "            <teacher-id>5678</teacher-id>\n",
    "        </course>\n",
    "    </courses>\n",
    "    <teachers>\n",
    "        <teacher teacher-id=\"3421\">\n",
    "            <name>Martin Hronec</name>\n",
    "        </teacher>\n",
    "        <teacher teacher-id=\"1234\">\n",
    "            <name>Jozef Baruník</name>\n",
    "        </teacher>\n",
    "        <teacher teacher-id=\"5678\">\n",
    "            <name>Lukáš Vácha</name>\n",
    "        </teacher>\n",
    "    </teachers>\n",
    "</ies_data>\n",
    "'''\n",
    "\n",
    "soup = BeautifulSoup(xml,'lxml')"
   ]
  },
  {
   "cell_type": "code",
   "execution_count": 8,
   "metadata": {},
   "outputs": [
    {
     "data": {
      "text/plain": [
       "<course ects=\"6\" id=\"JEM059\" name=\"Quantitative Finance I.\">\n",
       "<teacher-id>1234</teacher-id>\n",
       "<teacher-id>5678</teacher-id>\n",
       "</course>"
      ]
     },
     "execution_count": 8,
     "metadata": {},
     "output_type": "execute_result"
    }
   ],
   "source": [
    "JEM059=soup.find('course', {'id':\"JEM059\"})\n",
    "JEM059\n",
    "\n"
   ]
  },
  {
   "cell_type": "code",
   "execution_count": 142,
   "metadata": {},
   "outputs": [
    {
     "data": {
      "text/plain": [
       "<name>Martin Hronec</name>"
      ]
     },
     "execution_count": 142,
     "metadata": {},
     "output_type": "execute_result"
    }
   ],
   "source": [
    "teacher=soup.find('name')\n",
    "teacher"
   ]
  },
  {
   "cell_type": "code",
   "execution_count": 9,
   "metadata": {},
   "outputs": [
    {
     "data": {
      "text/plain": [
       "'Quantitative Finance I.'"
      ]
     },
     "execution_count": 9,
     "metadata": {},
     "output_type": "execute_result"
    }
   ],
   "source": [
    "JEM059['name']"
   ]
  },
  {
   "cell_type": "code",
   "execution_count": 16,
   "metadata": {},
   "outputs": [
    {
     "ename": "KeyError",
     "evalue": "'teacher-id'",
     "output_type": "error",
     "traceback": [
      "\u001b[1;31m---------------------------------------------------------------------------\u001b[0m",
      "\u001b[1;31mKeyError\u001b[0m                                  Traceback (most recent call last)",
      "\u001b[1;32m<ipython-input-16-b5d6a27b8108>\u001b[0m in \u001b[0;36m<module>\u001b[1;34m\u001b[0m\n\u001b[1;32m----> 1\u001b[1;33m \u001b[0mJEM059\u001b[0m\u001b[1;33m[\u001b[0m\u001b[1;34m'teacher-id'\u001b[0m\u001b[1;33m]\u001b[0m\u001b[1;33m\u001b[0m\u001b[1;33m\u001b[0m\u001b[0m\n\u001b[0m",
      "\u001b[1;32m~\\Anaconda3\\lib\\site-packages\\bs4\\element.py\u001b[0m in \u001b[0;36m__getitem__\u001b[1;34m(self, key)\u001b[0m\n\u001b[0;32m    969\u001b[0m         \"\"\"tag[key] returns the value of the 'key' attribute for the tag,\n\u001b[0;32m    970\u001b[0m         and throws an exception if it's not there.\"\"\"\n\u001b[1;32m--> 971\u001b[1;33m         \u001b[1;32mreturn\u001b[0m \u001b[0mself\u001b[0m\u001b[1;33m.\u001b[0m\u001b[0mattrs\u001b[0m\u001b[1;33m[\u001b[0m\u001b[0mkey\u001b[0m\u001b[1;33m]\u001b[0m\u001b[1;33m\u001b[0m\u001b[1;33m\u001b[0m\u001b[0m\n\u001b[0m\u001b[0;32m    972\u001b[0m \u001b[1;33m\u001b[0m\u001b[0m\n\u001b[0;32m    973\u001b[0m     \u001b[1;32mdef\u001b[0m \u001b[0m__iter__\u001b[0m\u001b[1;33m(\u001b[0m\u001b[0mself\u001b[0m\u001b[1;33m)\u001b[0m\u001b[1;33m:\u001b[0m\u001b[1;33m\u001b[0m\u001b[1;33m\u001b[0m\u001b[0m\n",
      "\u001b[1;31mKeyError\u001b[0m: 'teacher-id'"
     ]
    }
   ],
   "source": [
    "JEM059['teacher-id']"
   ]
  },
  {
   "cell_type": "code",
   "execution_count": 19,
   "metadata": {},
   "outputs": [
    {
     "data": {
      "text/plain": [
       "<teacher-id>1234</teacher-id>"
      ]
     },
     "execution_count": 19,
     "metadata": {},
     "output_type": "execute_result"
    }
   ],
   "source": [
    "JEM059.find('teacher-id')"
   ]
  },
  {
   "cell_type": "code",
   "execution_count": 13,
   "metadata": {},
   "outputs": [
    {
     "data": {
      "text/plain": [
       "'Advanced Econometrics'"
      ]
     },
     "execution_count": 13,
     "metadata": {},
     "output_type": "execute_result"
    }
   ],
   "source": [
    "nameJEM005= soup.find('course',{'id':\"JEM005\"})['name']\n",
    "nameJEM005"
   ]
  },
  {
   "cell_type": "code",
   "execution_count": 20,
   "metadata": {},
   "outputs": [
    {
     "data": {
      "text/plain": [
       "<teacher-id>3421</teacher-id>"
      ]
     },
     "execution_count": 20,
     "metadata": {},
     "output_type": "execute_result"
    }
   ],
   "source": [
    "teacherJEM005= soup.find('course',{'id':\"JEM005\"}).find('teacher-id')\n",
    "teacherJEM005"
   ]
  },
  {
   "cell_type": "code",
   "execution_count": 22,
   "metadata": {},
   "outputs": [
    {
     "data": {
      "text/plain": [
       "<course ects=\"6\" id=\"JEM061\" name=\"Quantitative Finance II.\">\n",
       "<teacher-id>1234</teacher-id>\n",
       "<teacher-id>5678</teacher-id>\n",
       "</course>"
      ]
     },
     "execution_count": 22,
     "metadata": {},
     "output_type": "execute_result"
    }
   ],
   "source": [
    "JEM059.findNext('course')"
   ]
  },
  {
   "cell_type": "code",
   "execution_count": 27,
   "metadata": {},
   "outputs": [
    {
     "data": {
      "text/plain": [
       "<teacher teacher-id=\"3421\">\n",
       "<name>Martin Hronec</name>\n",
       "</teacher>"
      ]
     },
     "execution_count": 27,
     "metadata": {},
     "output_type": "execute_result"
    }
   ],
   "source": [
    "teacher1=JEM059.findNext('teacher')\n",
    "teacher1"
   ]
  },
  {
   "cell_type": "code",
   "execution_count": 28,
   "metadata": {},
   "outputs": [
    {
     "data": {
      "text/plain": [
       "<teacher teacher-id=\"1234\">\n",
       "<name>Jozef Baruník</name>\n",
       "</teacher>"
      ]
     },
     "execution_count": 28,
     "metadata": {},
     "output_type": "execute_result"
    }
   ],
   "source": [
    "teacher2=teacher1.findNext('teacher')\n",
    "teacher2"
   ]
  },
  {
   "cell_type": "code",
   "execution_count": 29,
   "metadata": {},
   "outputs": [
    {
     "data": {
      "text/plain": [
       "True"
      ]
     },
     "execution_count": 29,
     "metadata": {},
     "output_type": "execute_result"
    }
   ],
   "source": [
    "teacher1==teacher2.findPrevious('teacher')"
   ]
  },
  {
   "cell_type": "code",
   "execution_count": 33,
   "metadata": {},
   "outputs": [
    {
     "data": {
      "text/plain": [
       "<body><ies_data>\n",
       "<courses>\n",
       "<course ects=\"6\" id=\"JEM005\" name=\"Advanced Econometrics\">\n",
       "<teacher-id>3421</teacher-id>\n",
       "<teacher-id>1234</teacher-id>\n",
       "</course>\n",
       "<course ects=\"5\" id=\"JEM207\" name=\"Data Processing in Python\">\n",
       "<teacher-id>3421</teacher-id>\n",
       "</course>\n",
       "<course ects=\"6\" id=\"JEM116\" name=\"Applied Econometrics I.\">\n",
       "<teacher-id>1234</teacher-id>\n",
       "</course>\n",
       "<course ects=\"6\" id=\"JEM059\" name=\"Quantitative Finance I.\">\n",
       "<teacher-id>1234</teacher-id>\n",
       "<teacher-id>5678</teacher-id>\n",
       "</course>\n",
       "<course ects=\"6\" id=\"JEM061\" name=\"Quantitative Finance II.\">\n",
       "<teacher-id>1234</teacher-id>\n",
       "<teacher-id>5678</teacher-id>\n",
       "</course>\n",
       "</courses>\n",
       "<teachers>\n",
       "<teacher teacher-id=\"3421\">\n",
       "<name>Martin Hronec</name>\n",
       "</teacher>\n",
       "<teacher teacher-id=\"1234\">\n",
       "<name>Jozef Baruník</name>\n",
       "</teacher>\n",
       "<teacher teacher-id=\"5678\">\n",
       "<name>Lukáš Vácha</name>\n",
       "</teacher>\n",
       "</teachers>\n",
       "</ies_data>\n",
       "</body>"
      ]
     },
     "execution_count": 33,
     "metadata": {},
     "output_type": "execute_result"
    }
   ],
   "source": [
    "teacher1.parent\n"
   ]
  },
  {
   "cell_type": "code",
   "execution_count": 45,
   "metadata": {},
   "outputs": [
    {
     "data": {
      "text/plain": [
       "<courses>\n",
       "<course ects=\"6\" id=\"JEM005\" name=\"Advanced Econometrics\">\n",
       "<teacher-id>3421</teacher-id>\n",
       "<teacher-id>1234</teacher-id>\n",
       "</course>\n",
       "<course ects=\"5\" id=\"JEM207\" name=\"Data Processing in Python\">\n",
       "<teacher-id>3421</teacher-id>\n",
       "</course>\n",
       "<course ects=\"6\" id=\"JEM116\" name=\"Applied Econometrics I.\">\n",
       "<teacher-id>1234</teacher-id>\n",
       "</course>\n",
       "<course ects=\"6\" id=\"JEM059\" name=\"Quantitative Finance I.\">\n",
       "<teacher-id>1234</teacher-id>\n",
       "<teacher-id>5678</teacher-id>\n",
       "</course>\n",
       "<course ects=\"6\" id=\"JEM061\" name=\"Quantitative Finance II.\">\n",
       "<teacher-id>1234</teacher-id>\n",
       "<teacher-id>5678</teacher-id>\n",
       "</course>\n",
       "</courses>"
      ]
     },
     "execution_count": 45,
     "metadata": {},
     "output_type": "execute_result"
    }
   ],
   "source": [
    "allECTSIwillReceive=soup.find('courses')\n",
    "allECTSIwillReceive"
   ]
  },
  {
   "cell_type": "code",
   "execution_count": 48,
   "metadata": {},
   "outputs": [
    {
     "data": {
      "text/plain": [
       "[3421, 1234, 3421, 1234, 1234, 5678, 1234, 5678]"
      ]
     },
     "execution_count": 48,
     "metadata": {},
     "output_type": "execute_result"
    }
   ],
   "source": [
    "[int(t.text) for t in allECTSIwillReceive.findAll('teacher-id')]"
   ]
  },
  {
   "cell_type": "code",
   "execution_count": 50,
   "metadata": {
    "scrolled": true
   },
   "outputs": [
    {
     "ename": "KeyError",
     "evalue": "'name'",
     "output_type": "error",
     "traceback": [
      "\u001b[1;31m---------------------------------------------------------------------------\u001b[0m",
      "\u001b[1;31mKeyError\u001b[0m                                  Traceback (most recent call last)",
      "\u001b[1;32m<ipython-input-50-b2222c7b9d9a>\u001b[0m in \u001b[0;36m<module>\u001b[1;34m\u001b[0m\n\u001b[1;32m----> 1\u001b[1;33m \u001b[1;33m[\u001b[0m\u001b[0mint\u001b[0m\u001b[1;33m(\u001b[0m\u001b[0mt\u001b[0m\u001b[1;33m.\u001b[0m\u001b[0mtext\u001b[0m\u001b[1;33m)\u001b[0m \u001b[1;32mfor\u001b[0m \u001b[0mt\u001b[0m \u001b[1;32min\u001b[0m \u001b[0mallECTSIwillReceive\u001b[0m\u001b[1;33m[\u001b[0m\u001b[1;34m'name'\u001b[0m\u001b[1;33m]\u001b[0m\u001b[1;33m]\u001b[0m\u001b[1;33m\u001b[0m\u001b[1;33m\u001b[0m\u001b[0m\n\u001b[0m",
      "\u001b[1;32m~\\Anaconda3\\lib\\site-packages\\bs4\\element.py\u001b[0m in \u001b[0;36m__getitem__\u001b[1;34m(self, key)\u001b[0m\n\u001b[0;32m    969\u001b[0m         \"\"\"tag[key] returns the value of the 'key' attribute for the tag,\n\u001b[0;32m    970\u001b[0m         and throws an exception if it's not there.\"\"\"\n\u001b[1;32m--> 971\u001b[1;33m         \u001b[1;32mreturn\u001b[0m \u001b[0mself\u001b[0m\u001b[1;33m.\u001b[0m\u001b[0mattrs\u001b[0m\u001b[1;33m[\u001b[0m\u001b[0mkey\u001b[0m\u001b[1;33m]\u001b[0m\u001b[1;33m\u001b[0m\u001b[1;33m\u001b[0m\u001b[0m\n\u001b[0m\u001b[0;32m    972\u001b[0m \u001b[1;33m\u001b[0m\u001b[0m\n\u001b[0;32m    973\u001b[0m     \u001b[1;32mdef\u001b[0m \u001b[0m__iter__\u001b[0m\u001b[1;33m(\u001b[0m\u001b[0mself\u001b[0m\u001b[1;33m)\u001b[0m\u001b[1;33m:\u001b[0m\u001b[1;33m\u001b[0m\u001b[1;33m\u001b[0m\u001b[0m\n",
      "\u001b[1;31mKeyError\u001b[0m: 'name'"
     ]
    }
   ],
   "source": [
    "[int(t.text) for t in allECTSIwillReceive['name']]"
   ]
  },
  {
   "cell_type": "code",
   "execution_count": 55,
   "metadata": {},
   "outputs": [
    {
     "data": {
      "text/plain": [
       "<teacher-id>1234</teacher-id>"
      ]
     },
     "execution_count": 55,
     "metadata": {},
     "output_type": "execute_result"
    }
   ],
   "source": [
    "JEM059.find('teacher-id')"
   ]
  },
  {
   "cell_type": "code",
   "execution_count": 59,
   "metadata": {},
   "outputs": [
    {
     "data": {
      "text/plain": [
       "'Quantitative Finance I.'"
      ]
     },
     "execution_count": 59,
     "metadata": {},
     "output_type": "execute_result"
    }
   ],
   "source": [
    "JEM059['name']\n"
   ]
  },
  {
   "cell_type": "code",
   "execution_count": 65,
   "metadata": {
    "scrolled": true
   },
   "outputs": [
    {
     "data": {
      "text/plain": [
       "<courses>\n",
       "<course ects=\"6\" id=\"JEM005\" name=\"Advanced Econometrics\">\n",
       "<teacher-id>3421</teacher-id>\n",
       "<teacher-id>1234</teacher-id>\n",
       "</course>\n",
       "<course ects=\"5\" id=\"JEM207\" name=\"Data Processing in Python\">\n",
       "<teacher-id>3421</teacher-id>\n",
       "</course>\n",
       "<course ects=\"6\" id=\"JEM116\" name=\"Applied Econometrics I.\">\n",
       "<teacher-id>1234</teacher-id>\n",
       "</course>\n",
       "<course ects=\"6\" id=\"JEM059\" name=\"Quantitative Finance I.\">\n",
       "<teacher-id>1234</teacher-id>\n",
       "<teacher-id>5678</teacher-id>\n",
       "</course>\n",
       "<course ects=\"6\" id=\"JEM061\" name=\"Quantitative Finance II.\">\n",
       "<teacher-id>1234</teacher-id>\n",
       "<teacher-id>5678</teacher-id>\n",
       "</course>\n",
       "</courses>"
      ]
     },
     "execution_count": 65,
     "metadata": {},
     "output_type": "execute_result"
    }
   ],
   "source": [
    "courses=soup.find('courses')\n",
    "courses"
   ]
  },
  {
   "cell_type": "code",
   "execution_count": 72,
   "metadata": {},
   "outputs": [
    {
     "data": {
      "text/plain": [
       "<course ects=\"6\" id=\"JEM005\" name=\"Advanced Econometrics\">\n",
       "<teacher-id>3421</teacher-id>\n",
       "<teacher-id>1234</teacher-id>\n",
       "</course>"
      ]
     },
     "execution_count": 72,
     "metadata": {},
     "output_type": "execute_result"
    }
   ],
   "source": [
    "name=courses.find('course')\n",
    "name"
   ]
  },
  {
   "cell_type": "code",
   "execution_count": 73,
   "metadata": {
    "scrolled": true
   },
   "outputs": [
    {
     "data": {
      "text/plain": [
       "'Advanced Econometrics'"
      ]
     },
     "execution_count": 73,
     "metadata": {},
     "output_type": "execute_result"
    }
   ],
   "source": [
    "name['name']"
   ]
  },
  {
   "cell_type": "code",
   "execution_count": 85,
   "metadata": {
    "scrolled": true
   },
   "outputs": [
    {
     "data": {
      "text/plain": [
       "[3421, 1234, 3421, 1234, 1234, 5678, 1234, 5678]"
      ]
     },
     "execution_count": 85,
     "metadata": {},
     "output_type": "execute_result"
    }
   ],
   "source": [
    "[int(t.text) for t in courses.parent('teacher-id')]"
   ]
  },
  {
   "cell_type": "code",
   "execution_count": 88,
   "metadata": {},
   "outputs": [
    {
     "ename": "SyntaxError",
     "evalue": "invalid syntax (<ipython-input-88-529f365e2aa5>, line 1)",
     "output_type": "error",
     "traceback": [
      "\u001b[1;36m  File \u001b[1;32m\"<ipython-input-88-529f365e2aa5>\"\u001b[1;36m, line \u001b[1;32m1\u001b[0m\n\u001b[1;33m    1cast=soup.find('courses')\u001b[0m\n\u001b[1;37m        ^\u001b[0m\n\u001b[1;31mSyntaxError\u001b[0m\u001b[1;31m:\u001b[0m invalid syntax\n"
     ]
    }
   ],
   "source": [
    "1cast=soup.find('courses')"
   ]
  },
  {
   "cell_type": "code",
   "execution_count": 87,
   "metadata": {
    "scrolled": true
   },
   "outputs": [
    {
     "ename": "SyntaxError",
     "evalue": "invalid syntax (<ipython-input-87-2f7ee0ce789d>, line 1)",
     "output_type": "error",
     "traceback": [
      "\u001b[1;36m  File \u001b[1;32m\"<ipython-input-87-2f7ee0ce789d>\"\u001b[1;36m, line \u001b[1;32m1\u001b[0m\n\u001b[1;33m    2cast=soup.find('teachers')\u001b[0m\n\u001b[1;37m        ^\u001b[0m\n\u001b[1;31mSyntaxError\u001b[0m\u001b[1;31m:\u001b[0m invalid syntax\n"
     ]
    }
   ],
   "source": [
    "2cast=soup.find('teachers')"
   ]
  },
  {
   "cell_type": "code",
   "execution_count": null,
   "metadata": {},
   "outputs": [],
   "source": [
    "\n",
    "[int(t.text) for t in courses.parent('teacher-id')]"
   ]
  },
  {
   "cell_type": "code",
   "execution_count": 105,
   "metadata": {},
   "outputs": [
    {
     "data": {
      "text/plain": [
       "{'id': 'JEM005',\n",
       " 'name': 'Advanced Econometrics',\n",
       " 'ects': '6',\n",
       " 'teachers': [3421, 1234]}"
      ]
     },
     "execution_count": 105,
     "metadata": {},
     "output_type": "execute_result"
    }
   ],
   "source": [
    "counrse=[int(t.text) for t in course.findAll('course')]\n",
    "\n",
    "d = {\n",
    "    'id':course['id'],\n",
    "    'name':course['name'],\n",
    "    'ects':course['ects'],\n",
    "    'teachers':[int(t.text) for t in course.findAll('teacher-id')]\n",
    "}\n",
    "d"
   ]
  },
  {
   "cell_type": "code",
   "execution_count": 114,
   "metadata": {},
   "outputs": [
    {
     "data": {
      "text/plain": [
       "[{'id': 'JEM005',\n",
       "  'name': 'Advanced Econometrics',\n",
       "  'ects': '6',\n",
       "  'teachers': [3421, 1234]},\n",
       " {'id': 'JEM207',\n",
       "  'name': 'Data Processing in Python',\n",
       "  'ects': '5',\n",
       "  'teachers': [3421]},\n",
       " {'id': 'JEM116',\n",
       "  'name': 'Applied Econometrics I.',\n",
       "  'ects': '6',\n",
       "  'teachers': [1234]},\n",
       " {'id': 'JEM059',\n",
       "  'name': 'Quantitative Finance I.',\n",
       "  'ects': '6',\n",
       "  'teachers': [1234, 5678]},\n",
       " {'id': 'JEM061',\n",
       "  'name': 'Quantitative Finance II.',\n",
       "  'ects': '6',\n",
       "  'teachers': [1234, 5678]}]"
      ]
     },
     "execution_count": 114,
     "metadata": {},
     "output_type": "execute_result"
    }
   ],
   "source": [
    "l = []\n",
    "for course in soup.findAll('course'):\n",
    "    d = {'id':course['id'],\n",
    "         'name':course['name'],\n",
    "         'ects':course['ects'],\n",
    "         'teachers':[int(t.text) for t in course.findAll('teacher-id')]}\n",
    "    l.append(d)\n",
    "l"
   ]
  },
  {
   "cell_type": "code",
   "execution_count": 115,
   "metadata": {},
   "outputs": [
    {
     "data": {
      "text/plain": [
       "[{'ects': '6'}, {'ects': '5'}, {'ects': '6'}, {'ects': '6'}, {'ects': '6'}]"
      ]
     },
     "execution_count": 115,
     "metadata": {},
     "output_type": "execute_result"
    }
   ],
   "source": [
    "\n",
    "l = []\n",
    "for course in soup.findAll('course'):\n",
    "    d = {\n",
    "         'ects':course['ects'],\n",
    "    }\n",
    "    l.append(d)\n",
    "l"
   ]
  },
  {
   "cell_type": "code",
   "execution_count": 117,
   "metadata": {},
   "outputs": [
    {
     "data": {
      "text/plain": [
       "{'ects': '5'}"
      ]
     },
     "execution_count": 117,
     "metadata": {},
     "output_type": "execute_result"
    }
   ],
   "source": [
    "l[1]"
   ]
  },
  {
   "cell_type": "code",
   "execution_count": 119,
   "metadata": {},
   "outputs": [
    {
     "data": {
      "text/html": [
       "<div>\n",
       "<style scoped>\n",
       "    .dataframe tbody tr th:only-of-type {\n",
       "        vertical-align: middle;\n",
       "    }\n",
       "\n",
       "    .dataframe tbody tr th {\n",
       "        vertical-align: top;\n",
       "    }\n",
       "\n",
       "    .dataframe thead th {\n",
       "        text-align: right;\n",
       "    }\n",
       "</style>\n",
       "<table border=\"1\" class=\"dataframe\">\n",
       "  <thead>\n",
       "    <tr style=\"text-align: right;\">\n",
       "      <th></th>\n",
       "      <th>ects</th>\n",
       "    </tr>\n",
       "  </thead>\n",
       "  <tbody>\n",
       "    <tr>\n",
       "      <td>0</td>\n",
       "      <td>6</td>\n",
       "    </tr>\n",
       "    <tr>\n",
       "      <td>1</td>\n",
       "      <td>5</td>\n",
       "    </tr>\n",
       "    <tr>\n",
       "      <td>2</td>\n",
       "      <td>6</td>\n",
       "    </tr>\n",
       "    <tr>\n",
       "      <td>3</td>\n",
       "      <td>6</td>\n",
       "    </tr>\n",
       "    <tr>\n",
       "      <td>4</td>\n",
       "      <td>6</td>\n",
       "    </tr>\n",
       "  </tbody>\n",
       "</table>\n",
       "</div>"
      ],
      "text/plain": [
       "  ects\n",
       "0    6\n",
       "1    5\n",
       "2    6\n",
       "3    6\n",
       "4    6"
      ]
     },
     "execution_count": 119,
     "metadata": {},
     "output_type": "execute_result"
    }
   ],
   "source": [
    "\n",
    "pd.DataFrame(l)"
   ]
  },
  {
   "cell_type": "code",
   "execution_count": 127,
   "metadata": {
    "scrolled": true
   },
   "outputs": [
    {
     "data": {
      "text/plain": [
       "3"
      ]
     },
     "execution_count": 127,
     "metadata": {},
     "output_type": "execute_result"
    }
   ],
   "source": [
    "a=[1,2]\n",
    "sum(a)"
   ]
  },
  {
   "cell_type": "code",
   "execution_count": 135,
   "metadata": {},
   "outputs": [
    {
     "data": {
      "text/html": [
       "\n",
       "<html>\n",
       "    <head>\n",
       "        <title>Sample page</title>\n",
       "        \n",
       "    <script></script>\n",
       "    </head>\n",
       "    \n",
       "    <body>\n",
       "        <div id=\"header\">\n",
       "            My page header\n",
       "        </div>\n",
       "        <div id=\"content\">\n",
       "            <table>\n",
       "                <tr class=\"firstRow\">\n",
       "                    <td>name</td>\n",
       "                    <td>number</td>\n",
       "                </tr>\n",
       "                <tr class=\"normalRow\">\n",
       "                    <td>B</td>\n",
       "                    <td>2</td>\n",
       "                </tr>\n",
       "                <tr class=\"normalRow\">\n",
       "                    <td>C</td>\n",
       "                    <td>3</td>\n",
       "                </tr>\n",
       "            </table>\n",
       "        </div>\n",
       "    </body>\n",
       "</html>\n"
      ],
      "text/plain": [
       "<IPython.core.display.HTML object>"
      ]
     },
     "metadata": {},
     "output_type": "display_data"
    }
   ],
   "source": [
    "html = '''\n",
    "<html>\n",
    "    <head>\n",
    "        <title>Sample page</title>\n",
    "        \n",
    "    <script></script>\n",
    "    </head>\n",
    "    \n",
    "    <body>\n",
    "        <div id=\"header\">\n",
    "            My page header\n",
    "        </div>\n",
    "        <div id=\"content\">\n",
    "            <table>\n",
    "                <tr class=\"firstRow\">\n",
    "                    <td>name</td>\n",
    "                    <td>number</td>\n",
    "                </tr>\n",
    "                <tr class=\"normalRow\">\n",
    "                    <td>B</td>\n",
    "                    <td>2</td>\n",
    "                </tr>\n",
    "                <tr class=\"normalRow\">\n",
    "                    <td>C</td>\n",
    "                    <td>3</td>\n",
    "                </tr>\n",
    "            </table>\n",
    "        </div>\n",
    "    </body>\n",
    "</html>\n",
    "'''\n",
    "from IPython.core.display import display, HTML\n",
    "display(HTML(html))"
   ]
  },
  {
   "cell_type": "code",
   "execution_count": 280,
   "metadata": {},
   "outputs": [],
   "source": [
    "soup = BeautifulSoup(html,'lxml')"
   ]
  },
  {
   "cell_type": "code",
   "execution_count": 281,
   "metadata": {},
   "outputs": [
    {
     "data": {
      "text/plain": [
       "'name'"
      ]
     },
     "execution_count": 281,
     "metadata": {},
     "output_type": "execute_result"
    }
   ],
   "source": [
    "div=soup.find('td').text\n",
    "div\n"
   ]
  },
  {
   "cell_type": "code",
   "execution_count": 283,
   "metadata": {},
   "outputs": [
    {
     "ename": "AttributeError",
     "evalue": "'str' object has no attribute 'next_sibling'",
     "output_type": "error",
     "traceback": [
      "\u001b[1;31m---------------------------------------------------------------------------\u001b[0m",
      "\u001b[1;31mAttributeError\u001b[0m                            Traceback (most recent call last)",
      "\u001b[1;32m<ipython-input-283-6908716f67c1>\u001b[0m in \u001b[0;36m<module>\u001b[1;34m\u001b[0m\n\u001b[1;32m----> 1\u001b[1;33m \u001b[0mdiv\u001b[0m\u001b[1;33m.\u001b[0m\u001b[0mnext_sibling\u001b[0m\u001b[1;33m\u001b[0m\u001b[1;33m\u001b[0m\u001b[0m\n\u001b[0m",
      "\u001b[1;31mAttributeError\u001b[0m: 'str' object has no attribute 'next_sibling'"
     ]
    }
   ],
   "source": [
    "div.next_sibling"
   ]
  },
  {
   "cell_type": "code",
   "execution_count": 154,
   "metadata": {},
   "outputs": [
    {
     "data": {
      "text/plain": [
       "<td>number</td>"
      ]
     },
     "execution_count": 154,
     "metadata": {},
     "output_type": "execute_result"
    }
   ],
   "source": [
    "div.findNext('td')"
   ]
  },
  {
   "cell_type": "code",
   "execution_count": 149,
   "metadata": {},
   "outputs": [
    {
     "data": {
      "text/plain": [
       "<table>\n",
       "<tr class=\"firstRow\">\n",
       "<td>name</td>\n",
       "<td>number</td>\n",
       "</tr>\n",
       "<tr class=\"normalRow\">\n",
       "<td>B</td>\n",
       "<td>2</td>\n",
       "</tr>\n",
       "<tr class=\"normalRow\">\n",
       "<td>C</td>\n",
       "<td>3</td>\n",
       "</tr>\n",
       "</table>"
      ]
     },
     "execution_count": 149,
     "metadata": {},
     "output_type": "execute_result"
    }
   ],
   "source": [
    "soup.find('table')"
   ]
  },
  {
   "cell_type": "code",
   "execution_count": 152,
   "metadata": {},
   "outputs": [
    {
     "data": {
      "text/plain": [
       "[{'id': 'header'}, {'id': 'content'}]"
      ]
     },
     "execution_count": 152,
     "metadata": {},
     "output_type": "execute_result"
    }
   ],
   "source": [
    "l = []\n",
    "for div in soup.findAll('div'):\n",
    "    d = {\n",
    "         'id':div['id'],\n",
    "    }\n",
    "    l.append(d)\n",
    "l"
   ]
  },
  {
   "cell_type": "code",
   "execution_count": 158,
   "metadata": {},
   "outputs": [],
   "source": [
    "rows = soup.findAll('tr',{'class','normalRow'})"
   ]
  },
  {
   "cell_type": "code",
   "execution_count": 159,
   "metadata": {},
   "outputs": [
    {
     "data": {
      "text/plain": [
       "B    2\n",
       "C    3\n",
       "dtype: int64"
      ]
     },
     "execution_count": 159,
     "metadata": {},
     "output_type": "execute_result"
    }
   ],
   "source": [
    "\n",
    "d = {}\n",
    "\n",
    "for row in rows:\n",
    "    key = row.findAll('td')[0].text\n",
    "    val = int(row.findAll('td')[1].text)\n",
    "    d[key] = val\n",
    "pd.Series(d)"
   ]
  },
  {
   "cell_type": "code",
   "execution_count": 160,
   "metadata": {},
   "outputs": [
    {
     "data": {
      "text/plain": [
       "'C'"
      ]
     },
     "execution_count": 160,
     "metadata": {},
     "output_type": "execute_result"
    }
   ],
   "source": [
    "key\n"
   ]
  },
  {
   "cell_type": "code",
   "execution_count": 161,
   "metadata": {},
   "outputs": [
    {
     "data": {
      "text/plain": [
       "3"
      ]
     },
     "execution_count": 161,
     "metadata": {},
     "output_type": "execute_result"
    }
   ],
   "source": [
    "val"
   ]
  },
  {
   "cell_type": "code",
   "execution_count": 165,
   "metadata": {},
   "outputs": [
    {
     "data": {
      "text/plain": [
       "{'id': 'content'}"
      ]
     },
     "execution_count": 165,
     "metadata": {},
     "output_type": "execute_result"
    }
   ],
   "source": [
    "l[1]"
   ]
  },
  {
   "cell_type": "code",
   "execution_count": 173,
   "metadata": {},
   "outputs": [
    {
     "data": {
      "text/plain": [
       "[<td>C</td>, <td>3</td>]"
      ]
     },
     "execution_count": 173,
     "metadata": {},
     "output_type": "execute_result"
    }
   ],
   "source": [
    "key = row.findAll('td')\n",
    "key\n",
    "\n"
   ]
  },
  {
   "cell_type": "code",
   "execution_count": 174,
   "metadata": {},
   "outputs": [
    {
     "data": {
      "text/plain": [
       "'C'"
      ]
     },
     "execution_count": 174,
     "metadata": {},
     "output_type": "execute_result"
    }
   ],
   "source": [
    "key1 = row.findAll('td')[0].text\n",
    "\n",
    "key1"
   ]
  },
  {
   "cell_type": "code",
   "execution_count": 183,
   "metadata": {},
   "outputs": [
    {
     "data": {
      "text/plain": [
       "[<tr class=\"normalRow\">\n",
       " <td>B</td>\n",
       " <td>2</td>\n",
       " </tr>, <tr class=\"normalRow\">\n",
       " <td>C</td>\n",
       " <td>3</td>\n",
       " </tr>]"
      ]
     },
     "execution_count": 183,
     "metadata": {},
     "output_type": "execute_result"
    }
   ],
   "source": [
    "row = soup.findAll('tr',{'class':'normalRow'})\n",
    "row"
   ]
  },
  {
   "cell_type": "code",
   "execution_count": 178,
   "metadata": {},
   "outputs": [
    {
     "data": {
      "text/plain": [
       "<tr class=\"normalRow\">\n",
       "<td>B</td>\n",
       "<td>2</td>\n",
       "</tr>"
      ]
     },
     "execution_count": 178,
     "metadata": {},
     "output_type": "execute_result"
    }
   ],
   "source": [
    "row = soup.findAll('tr',{'class':'normalRow'})[0]\n",
    "row"
   ]
  },
  {
   "cell_type": "code",
   "execution_count": 186,
   "metadata": {},
   "outputs": [
    {
     "data": {
      "text/plain": [
       "B    2\n",
       "C    3\n",
       "dtype: int64"
      ]
     },
     "execution_count": 186,
     "metadata": {},
     "output_type": "execute_result"
    }
   ],
   "source": [
    "from bs4 import BeautifulSoup\n",
    "\n",
    "pd.Series({row.findAll('td')[0].text:int(row.findAll('td')[1].text) for row in BeautifulSoup(html,'xml').findAll('tr',{'class':'normalRow'})})"
   ]
  },
  {
   "cell_type": "code",
   "execution_count": 195,
   "metadata": {},
   "outputs": [],
   "source": [
    "row = soup.findAll('tr',{'class':'normalRow'})[0]"
   ]
  },
  {
   "cell_type": "code",
   "execution_count": 196,
   "metadata": {},
   "outputs": [
    {
     "data": {
      "text/plain": [
       "'B'"
      ]
     },
     "execution_count": 196,
     "metadata": {},
     "output_type": "execute_result"
    }
   ],
   "source": [
    "\n",
    "row.findAll('td')[0].text"
   ]
  },
  {
   "cell_type": "code",
   "execution_count": 197,
   "metadata": {},
   "outputs": [
    {
     "data": {
      "text/plain": [
       "2"
      ]
     },
     "execution_count": 197,
     "metadata": {},
     "output_type": "execute_result"
    }
   ],
   "source": [
    "int(row.findAll('td')[1].text)"
   ]
  },
  {
   "cell_type": "code",
   "execution_count": 201,
   "metadata": {},
   "outputs": [
    {
     "data": {
      "text/plain": [
       "{'B': 2, 'C': 3}"
      ]
     },
     "execution_count": 201,
     "metadata": {},
     "output_type": "execute_result"
    }
   ],
   "source": [
    "\n",
    "{row.findAll('td')[0].text:int(row.findAll('td')[1].text) for row in soup.findAll('tr',{'class':'normalRow'})}"
   ]
  },
  {
   "cell_type": "markdown",
   "metadata": {},
   "source": [
    "### Wiki example"
   ]
  },
  {
   "cell_type": "code",
   "execution_count": 202,
   "metadata": {
    "scrolled": false
   },
   "outputs": [
    {
     "data": {
      "text/plain": [
       "'<!DOCTYPE html>\\n<html class=\"client-nojs\" lang=\"cs\" dir=\"ltr\">\\n<head>\\n<meta charset=\"UTF-8\"/>\\n<title>Institut ekonomických studií Fakulty sociálních věd Univerzity Karlovy – Wikipedie</title>\\n<script>document.documentElement.className=\"client-js\";RLCONF={\"wgBreakFrames\":!1,\"wgSeparatorTransformTable\":[\",\\\\t.\",\"\\xa0\\\\t,\"],\"wgDigitTransformTable\":[\"\",\"\"],\"wgDefaultDateFormat\":\"ČSN basic dt\",\"wgMonthNames\":[\"\",\"leden\",\"únor\",\"březen\",\"duben\",\"květen\",\"červen\",\"červenec\",\"srpen\",\"září\",\"říjen\",\"listopad\",\"prosinec\"],\"wgMonthNamesShort\":[\"\",\"1.\",\"2.\",\"3.\",\"4.\",\"5.\",\"6.\",\"7.\",\"8.\",\"9.\",\"10.\",\"11.\",\"12.\"],\"wgRequestId\":\"XdlSFQpAAEEAAC@YWRoAAAAT\",\"wgCSPNonce\":!1,\"wgCanonicalNamespace\":\"\",\"wgCanonicalSpecialPageName\":!1,\"wgNamespaceNumber\":0,\"wgPageName\":\"Institut_ekonomických_studií_Fakulty_sociálních_věd_Univerzity_Karlovy\",\"wgTitle\":\"Institut ekonomických studií Fakulty sociálních věd Univerzity Karlovy\",\"wgCurRevisionId\":17648782,\"wgRevisionId\":17648782,\"wgArticleId\":439632,\"wgIsArticle\":!0,\"wgIsRedirect\":!1,\"wgAction\":\"view\",\"wgUserName\":null,\"wgUserGroups\":[\"*\"],\"wgCategories\":[\"Pahýly\",\"Fakulta sociálních věd Univerzity Karlovy\"],\\n\"wgPageContentLanguage\":\"cs\",\"wgPageContentModel\":\"wikitext\",\"wgRelevantPageName\":\"Institut_ekonomických_studií_Fakulty_sociálních_věd_Univerzity_Karlovy\",\"wgRelevantArticleId\":439632,\"wgIsProbablyEditable\":!0,\"wgRelevantPageIsProbablyEditable\":!0,\"wgRestrictionEdit\":[],\"wgRestrictionMove\":[],\"wgMediaViewerOnClick\":!0,\"wgMediaViewerEnabledByDefault\":!0,\"wgPopupsReferencePreviews\":!1,\"wgPopupsConflictsWithNavPopupGadget\":!1,\"wgVisualEditor\":{\"pageLanguageCode\":\"cs\",\"pageLanguageDir\":\"ltr\",\"pageVariantFallbacks\":\"cs\"},\"wgMFDisplayWikibaseDescriptions\":{\"search\":!0,\"nearby\":!0,\"watchlist\":!0,\"tagline\":!0},\"wgWMESchemaEditAttemptStepOversample\":!1,\"wgULSCurrentAutonym\":\"čeština\",\"wgNoticeProject\":\"wikipedia\",\"wgCoordinates\":{\"lat\":50.08222222,\"lon\":14.43111111},\"wgWikibaseItemId\":\"Q12021663\",\"wgCentralAuthMobileDomain\":!1,\"wgEditSubmitButtonLabelPublish\":!0};RLSTATE={\"ext.globalCssJs.user.styles\":\"ready\",\"site.styles\":\"ready\",\"noscript\":\"ready\",\\n\"user.styles\":\"ready\",\"ext.globalCssJs.user\":\"ready\",\"user\":\"ready\",\"user.options\":\"loading\",\"user.tokens\":\"loading\",\"ext.cite.styles\":\"ready\",\"mediawiki.legacy.shared\":\"ready\",\"mediawiki.legacy.commonPrint\":\"ready\",\"mediawiki.toc.styles\":\"ready\",\"wikibase.client.init\":\"ready\",\"ext.visualEditor.desktopArticleTarget.noscript\":\"ready\",\"ext.uls.interlanguage\":\"ready\",\"ext.wikimediaBadges\":\"ready\",\"mediawiki.skinning.interface\":\"ready\",\"skins.vector.styles\":\"ready\"};RLPAGEMODULES=[\"ext.cite.ux-enhancements\",\"site\",\"mediawiki.page.startup\",\"mediawiki.page.ready\",\"mediawiki.toc\",\"mediawiki.searchSuggest\",\"ext.gadget.WikiMiniAtlas\",\"ext.gadget.OSMmapa\",\"ext.gadget.direct-links-to-commons\",\"ext.gadget.ReferenceTooltips\",\"ext.gadget.courses\",\"ext.gadget.Wdsearch\",\"ext.gadget.refToolbar\",\"ext.gadget.LegacyToolbar2006\",\"ext.centralauth.centralautologin\",\"mmv.head\",\"mmv.bootstrap.autostart\",\"ext.popups\",\"ext.visualEditor.desktopArticleTarget.init\",\"ext.visualEditor.targetLoader\",\"ext.eventLogging\"\\n,\"ext.wikimediaEvents\",\"ext.navigationTiming\",\"ext.uls.compactlinks\",\"ext.uls.interface\",\"ext.cx.eventlogging.campaigns\",\"ext.centralNotice.geoIP\",\"ext.centralNotice.startUp\",\"skins.vector.js\"];</script>\\n<script>(RLQ=window.RLQ||[]).push(function(){mw.loader.implement(\"user.options@qiz4p\",function($,jQuery,require,module){/*@nomin*/mw.user.options.set({\"variant\":\"cs\"});\\n});mw.loader.implement(\"user.tokens@tffin\",function($,jQuery,require,module){/*@nomin*/mw.user.tokens.set({\"patrolToken\":\"+\\\\\\\\\",\"watchToken\":\"+\\\\\\\\\",\"csrfToken\":\"+\\\\\\\\\"});\\n});});</script>\\n<link rel=\"stylesheet\" href=\"/w/load.php?lang=cs&amp;modules=ext.cite.styles%7Cext.uls.interlanguage%7Cext.visualEditor.desktopArticleTarget.noscript%7Cext.wikimediaBadges%7Cmediawiki.legacy.commonPrint%2Cshared%7Cmediawiki.skinning.interface%7Cmediawiki.toc.styles%7Cskins.vector.styles%7Cwikibase.client.init&amp;only=styles&amp;skin=vector\"/>\\n<script async=\"\" src=\"/w/load.php?lang=cs&amp;modules=startup&amp;only=scripts&amp;raw=1&amp;skin=vector\"></script>\\n<meta name=\"ResourceLoaderDynamicStyles\" content=\"\"/>\\n<link rel=\"stylesheet\" href=\"/w/load.php?lang=cs&amp;modules=site.styles&amp;only=styles&amp;skin=vector\"/>\\n<meta name=\"generator\" content=\"MediaWiki 1.35.0-wmf.5\"/>\\n<meta name=\"referrer\" content=\"origin\"/>\\n<meta name=\"referrer\" content=\"origin-when-crossorigin\"/>\\n<meta name=\"referrer\" content=\"origin-when-cross-origin\"/>\\n<meta property=\"og:image\" content=\"https://upload.wikimedia.org/wikipedia/commons/thumb/6/64/Praha%2C_Nov%C3%A9_M%C4%9Bsto%2C_Opletalova%2C_IES_FSV_UK.JPG/1200px-Praha%2C_Nov%C3%A9_M%C4%9Bsto%2C_Opletalova%2C_IES_FSV_UK.JPG\"/>\\n<link rel=\"alternate\" href=\"android-app://org.wikipedia/http/cs.m.wikipedia.org/wiki/Institut_ekonomick%C3%BDch_studi%C3%AD_Fakulty_soci%C3%A1ln%C3%ADch_v%C4%9Bd_Univerzity_Karlovy\"/>\\n<link rel=\"alternate\" type=\"application/x-wiki\" title=\"Editovat\" href=\"/w/index.php?title=Institut_ekonomick%C3%BDch_studi%C3%AD_Fakulty_soci%C3%A1ln%C3%ADch_v%C4%9Bd_Univerzity_Karlovy&amp;action=edit\"/>\\n<link rel=\"edit\" title=\"Editovat\" href=\"/w/index.php?title=Institut_ekonomick%C3%BDch_studi%C3%AD_Fakulty_soci%C3%A1ln%C3%ADch_v%C4%9Bd_Univerzity_Karlovy&amp;action=edit\"/>\\n<link rel=\"apple-touch-icon\" href=\"/static/apple-touch/wikipedia.png\"/>\\n<link rel=\"shortcut icon\" href=\"/static/favicon/wikipedia.ico\"/>\\n<link rel=\"search\" type=\"application/opensearchdescription+xml\" href=\"/w/opensearch_desc.php\" title=\"Wikipedie (cs)\"/>\\n<link rel=\"EditURI\" type=\"application/rsd+xml\" href=\"//cs.wikipedia.org/w/api.php?action=rsd\"/>\\n<link rel=\"license\" href=\"//creativecommons.org/licenses/by-sa/3.0/\"/>\\n<link rel=\"canonical\" href=\"https://cs.wikipedia.org/wiki/Institut_ekonomick%C3%BDch_studi%C3%AD_Fakulty_soci%C3%A1ln%C3%ADch_v%C4%9Bd_Univerzity_Karlovy\"/>\\n<link rel=\"dns-prefetch\" href=\"//login.wikimedia.org\"/>\\n<link rel=\"dns-prefetch\" href=\"//meta.wikimedia.org\" />\\n<!--[if lt IE 9]><script src=\"/w/resources/lib/html5shiv/html5shiv.js\"></script><![endif]-->\\n</head>\\n<body class=\"mediawiki ltr sitedir-ltr mw-hide-empty-elt ns-0 ns-subject mw-editable page-Institut_ekonomických_studií_Fakulty_sociálních_věd_Univerzity_Karlovy rootpage-Institut_ekonomických_studií_Fakulty_sociálních_věd_Univerzity_Karlovy skin-vector action-view\">\\n<div id=\"mw-page-base\" class=\"noprint\"></div>\\n<div id=\"mw-head-base\" class=\"noprint\"></div>\\n<div id=\"content\" class=\"mw-body\" role=\"main\">\\n\\t<a id=\"top\"></a>\\n\\t<div id=\"siteNotice\" class=\"mw-body-content\"><!-- CentralNotice --></div>\\n\\t<div class=\"mw-indicators mw-body-content\">\\n<div id=\"mw-indicator-coordinates\" class=\"mw-indicator\">Souřadnice: <a class=\"external text\" href=\"//tools.wmflabs.org/geohack/geohack.php?params=50.08222222_N_14.43111111_E_type%3Alandmark&amp;language=cs&amp;pagename=Institut+ekonomick%C3%BDch+studi%C3%AD+Fakulty+soci%C3%A1ln%C3%ADch+v%C4%9Bd+Univerzity+Karlovy\"><span style=\"white-space:nowrap\">50°4′56″ s. š.</span>, <span style=\"white-space:nowrap\">14°25′52″ v. d.</span></a></div>\\n</div>\\n\\n\\t<h1 id=\"firstHeading\" class=\"firstHeading\" lang=\"cs\">Institut ekonomických studií Fakulty sociálních věd Univerzity Karlovy</h1>\\n\\t\\n\\t<div id=\"bodyContent\" class=\"mw-body-content\">\\n\\t\\t<div id=\"siteSub\" class=\"noprint\">Z Wikipedie, otevřen&eacute; encyklopedie</div>\\n\\t\\t<div id=\"contentSub\"></div>\\n\\t\\t\\n\\t\\t\\n\\t\\t\\n\\t\\t<div id=\"jump-to-nav\"></div>\\n\\t\\t<a class=\"mw-jump-link\" href=\"#mw-head\">Skočit na navigaci</a>\\n\\t\\t<a class=\"mw-jump-link\" href=\"#p-search\">Skočit na vyhled&aacute;v&aacute;n&iacute;</a>\\n\\t\\t<div id=\"mw-content-text\" lang=\"cs\" dir=\"ltr\" class=\"mw-content-ltr\"><div class=\"mw-parser-output\"><table class=\"infobox\" cellspacing=\"2\" style=\"text-align: left;\">\\n<tbody><tr><td colspan=\"2\" class=\"\" style=\"text-align: center; font-size: 125%; font-weight: bold; background-color: #2E73B9; color: white;\">Institut ekonomických studií</td></tr><tr><td colspan=\"2\" class=\"\" style=\"text-align:center;\"> <a href=\"/wiki/Soubor:Praha,_Nov%C3%A9_M%C4%9Bsto,_Opletalova,_IES_FSV_UK.JPG\" class=\"image\" title=\"Budova IES FSV UK v Praze v Opletalově ulici\"><img alt=\"Budova IES FSV UK v Praze v Opletalově ulici\" src=\"//upload.wikimedia.org/wikipedia/commons/thumb/6/64/Praha%2C_Nov%C3%A9_M%C4%9Bsto%2C_Opletalova%2C_IES_FSV_UK.JPG/250px-Praha%2C_Nov%C3%A9_M%C4%9Bsto%2C_Opletalova%2C_IES_FSV_UK.JPG\" decoding=\"async\" width=\"250\" height=\"333\" srcset=\"//upload.wikimedia.org/wikipedia/commons/thumb/6/64/Praha%2C_Nov%C3%A9_M%C4%9Bsto%2C_Opletalova%2C_IES_FSV_UK.JPG/375px-Praha%2C_Nov%C3%A9_M%C4%9Bsto%2C_Opletalova%2C_IES_FSV_UK.JPG 1.5x, //upload.wikimedia.org/wikipedia/commons/thumb/6/64/Praha%2C_Nov%C3%A9_M%C4%9Bsto%2C_Opletalova%2C_IES_FSV_UK.JPG/500px-Praha%2C_Nov%C3%A9_M%C4%9Bsto%2C_Opletalova%2C_IES_FSV_UK.JPG 2x\" data-file-width=\"2136\" data-file-height=\"2848\" /></a> <div style=\"\"><span class=\"wd\"><span lang=\"cs\">Budova IES FSV UK v Praze v Opletalově ulici</span></span></div></td></tr>               <tr><th style=\"background-color: #eeeeee; padding: 0 0.2em;\"><a href=\"/wiki/Zem%C4%9Bpisn%C3%A9_sou%C5%99adnice\" title=\"Zeměpisné souřadnice\">Souřadnice</a></th>\\n    <td class=\"plainlinks\" style=\"\">\\n<span class=\"wd\"><span></span><span class=\"coordinates\"><a class=\"external text\" href=\"//tools.wmflabs.org/geohack/geohack.php?params=50.08222222_N_14.43111111_E_type%3Alandmark&amp;language=cs&amp;pagename=Institut+ekonomick%C3%BDch+studi%C3%AD+Fakulty+soci%C3%A1ln%C3%ADch+v%C4%9Bd+Univerzity+Karlovy\"><span style=\"white-space:nowrap\">50°4′56″ s. š.</span>, <span style=\"white-space:nowrap\">14°25′52″ v. d.</span></a></span></span></td></tr>                                                                       <tr><td colspan=\"2\" style=\"text-align:center; font-size:smaller;\">Některá data mohou pocházet z <a href=\"https://www.wikidata.org/wiki/Q12021663\" class=\"extiw\" title=\"d:Q12021663\">datové položky</a>.</td></tr>\\n</tbody></table>\\n<p><b>Institut ekonomických studií</b> (zkráceně <b>IES</b>) vznikl v květnu <a href=\"/wiki/1993\" title=\"1993\">1993</a> při reorganizaci <a href=\"/wiki/Fakulta_soci%C3%A1ln%C3%ADch_v%C4%9Bd_Univerzity_Karlovy\" title=\"Fakulta sociálních věd Univerzity Karlovy\">Fakulty sociálních věd</a> <a href=\"/wiki/Univerzita_Karlova\" title=\"Univerzita Karlova\">Univerzity Karlovy</a> z Katedry ekonomie a Institutu ekonomických věd. Ředitelem institutu je v současné době doc. Martin Gregor, Ph.D., který v lednu 2010 vystřídal dosavadního ředitele prof. Ing. <a href=\"/wiki/Michal_Mejst%C5%99%C3%ADk\" title=\"Michal Mejstřík\">Michala Mejstříka</a>, CSc. Institut sídlí v budově Fakulty sociálních věd v Opletalově ulici.\\n</p><p>Podle srovnání provedeného <a href=\"/wiki/Hospod%C3%A1%C5%99sk%C3%A9_noviny\" title=\"Hospodářské noviny\">Hospodářskými novinami</a> v roce <a href=\"/wiki/2016\" title=\"2016\">2016</a> patřil k nejkvalitnějším českým vysokým školám se zaměřením na <a href=\"/wiki/Ekonomie\" title=\"Ekonomie\">ekonomii</a>.<sup id=\"cite_ref-1\" class=\"reference\"><a href=\"#cite_note-1\">&#91;1&#93;</a></sup> Podle žebříčku mezinárodní databáze RePEc je v současnosti nejlépe hodnoceným výzkumným pracovištěm zaměřeným na ekonomii.<sup id=\"cite_ref-2\" class=\"reference\"><a href=\"#cite_note-2\">&#91;2&#93;</a></sup> V mezinárodních žebříčcích je ekonomie vyučovaná na Univerzitě Karlově hodnocená v první 100 v oboru ekonomie<sup id=\"cite_ref-3\" class=\"reference\"><a href=\"#cite_note-3\">&#91;3&#93;</a></sup> a v první 200 v oboru finance<sup id=\"cite_ref-4\" class=\"reference\"><a href=\"#cite_note-4\">&#91;4&#93;</a></sup> (žebříček <a href=\"/wiki/%C5%A0anghajsk%C3%BD_%C5%BEeb%C5%99%C3%AD%C4%8Dek\" title=\"Šanghajský žebříček\">Global Ranking of Academic Subjects</a>), zatímco žebříček U.S. News Best Global Universities hodnotí Univerzitu Karlovu v kategorii ekonomie a obchod na 111. místě na světě.<a rel=\"nofollow\" class=\"external autonumber\" href=\"https://www.usnews.com/education/best-global-universities/czech-republic/economics-business\">[1]</a> Za umístěním stojí výzkumná činnost dvou ekonomických pracovišť Univerzity Karlovy, vedle IES FSV UK je jím také <a href=\"/wiki/CERGE-EI\" title=\"CERGE-EI\">CERGE-EI</a>. \\n</p>\\n<div id=\"toc\" class=\"toc\"><input type=\"checkbox\" role=\"button\" id=\"toctogglecheckbox\" class=\"toctogglecheckbox\" style=\"display:none\" /><div class=\"toctitle\" lang=\"cs\" dir=\"ltr\"><h2>Obsah</h2><span class=\"toctogglespan\"><label class=\"toctogglelabel\" for=\"toctogglecheckbox\"></label></span></div>\\n<ul>\\n<li class=\"toclevel-1 tocsection-1\"><a href=\"#Programy\"><span class=\"tocnumber\">1</span> <span class=\"toctext\">Programy</span></a></li>\\n<li class=\"toclevel-1 tocsection-2\"><a href=\"#Vyučující\"><span class=\"tocnumber\">2</span> <span class=\"toctext\">Vyučující</span></a></li>\\n<li class=\"toclevel-1 tocsection-3\"><a href=\"#Odkazy\"><span class=\"tocnumber\">3</span> <span class=\"toctext\">Odkazy</span></a>\\n<ul>\\n<li class=\"toclevel-2 tocsection-4\"><a href=\"#Reference\"><span class=\"tocnumber\">3.1</span> <span class=\"toctext\">Reference</span></a></li>\\n<li class=\"toclevel-2 tocsection-5\"><a href=\"#Externí_odkazy\"><span class=\"tocnumber\">3.2</span> <span class=\"toctext\">Externí odkazy</span></a></li>\\n</ul>\\n</li>\\n</ul>\\n</div>\\n\\n<h2><span class=\"mw-headline\" id=\"Programy\">Programy</span><span class=\"mw-editsection\"><span class=\"mw-editsection-bracket\">[</span><a href=\"/w/index.php?title=Institut_ekonomick%C3%BDch_studi%C3%AD_Fakulty_soci%C3%A1ln%C3%ADch_v%C4%9Bd_Univerzity_Karlovy&amp;veaction=edit&amp;section=1\" class=\"mw-editsection-visualeditor\" title=\"Editace sekce: Programy\">editovat</a><span class=\"mw-editsection-divider\"> | </span><a href=\"/w/index.php?title=Institut_ekonomick%C3%BDch_studi%C3%AD_Fakulty_soci%C3%A1ln%C3%ADch_v%C4%9Bd_Univerzity_Karlovy&amp;action=edit&amp;section=1\" title=\"Editace sekce: Programy\">editovat zdroj</a><span class=\"mw-editsection-bracket\">]</span></span></h2>\\n<p><a href=\"/wiki/Bakal%C3%A1%C5%99\" title=\"Bakalář\">Bakalářské</a> studium je zaměřené na intenzivní výuku <a href=\"/wiki/Matematika\" title=\"Matematika\">matematiky</a>, na teoretickou ekonomii, <a href=\"/wiki/Ekonometrie\" title=\"Ekonometrie\">ekonometrii</a>, aplikovanou ekonomii a finance.<sup id=\"cite_ref-5\" class=\"reference\"><a href=\"#cite_note-5\">&#91;5&#93;</a></sup> <a href=\"/wiki/Magistr\" title=\"Magistr\">Magisterské</a> studium umožňuje užší specializaci ve dvou oblastech: v <a href=\"/wiki/Ekonomick%C3%A1_teorie\" title=\"Ekonomická teorie\">ekonomických teoriích</a> a <a href=\"/wiki/V%C4%9Bdeck%C3%A9_modelov%C3%A1n%C3%AD\" title=\"Vědecké modelování\">modelování</a> či v oblasti financí, <a href=\"/wiki/Finan%C4%8Dn%C3%AD_trh\" title=\"Finanční trh\">finančních trhů</a> a bankovnictví.<sup id=\"cite_ref-6\" class=\"reference\"><a href=\"#cite_note-6\">&#91;6&#93;</a></sup> 70&#160;% kurzů v bakalářském programu a 88&#160;% kurzů v magisterském programu je vyučováno v angličtině, 91&#160;% absolventských prací je napsáno v angličtině.<sup id=\"cite_ref-:0_7-0\" class=\"reference\"><a href=\"#cite_note-:0-7\">&#91;7&#93;</a></sup> IES nabízí také možnost doktorského studia v oboru ekonomie zaměřené na ekonomickou teorii a její aplikace v ekonomických a finančních analýzách. Institut ročně absolvuje 90 bakalářů, 80 magistrů a 5 doktorandů.<sup id=\"cite_ref-:0_7-1\" class=\"reference\"><a href=\"#cite_note-:0-7\">&#91;7&#93;</a></sup> Studenti IES se výborně umisťují ve studentských soutěžích (BCG Strategy Cup, CFA Institute Research Challenge, <a href=\"/w/index.php?title=Global_Management_Challenge&amp;action=edit&amp;redlink=1\" class=\"new\" title=\"Global Management Challenge (stránka neexistuje)\">Global Management Challenge</a>, <a rel=\"nofollow\" class=\"external text\" href=\"http://ies.fsv.cuni.cz/cs/news/3935\">Rotman European Trading Competition</a>) a pravidelně získávají odborné ceny (Olga Radzyner Award, Mladý ekonom,<a rel=\"nofollow\" class=\"external autonumber\" href=\"http://www.cse.cz/page/mlady-ekonom\">[2]</a> Cena <a href=\"/wiki/Karel_Engli%C5%A1\" title=\"Karel Engliš\">Karla Engliše</a>,<a rel=\"nofollow\" class=\"external autonumber\" href=\"http://iesdev.fsv.cuni.cz/cs/news/4516\">[3]</a> <a href=\"/wiki/Cena_Josefa_Hl%C3%A1vky\" title=\"Cena Josefa Hlávky\">Cena Josefa Hlávky</a>, Energy Economics Contest<a rel=\"nofollow\" class=\"external autonumber\" href=\"http://ies.fsv.cuni.cz/cs/news/4269\">[4]</a>).\\n</p><p>Dostupné programy:\\n</p>\\n<ul><li>Ekonomie a finance (bakalářský program v češtině)</li>\\n<li>Bachelor in Economics and Finance (BEF - bakalářský placený program v angličtině)</li>\\n<li>Ekonomie a finance (magisterský program v češtině)</li>\\n<li>Master in Economics and Finance (MEF - magisterský placený program v angličtině)</li>\\n<li>Corporate Strategy and Finance (CSF - placený magisterský program v angličtině ve spolupráci s <a href=\"/w/index.php?title=University_of_Strasbourg&amp;action=edit&amp;redlink=1\" class=\"new\" title=\"University of Strasbourg (stránka neexistuje)\">University of Strasbourg</a>)</li></ul>\\n<h2><span id=\"Vyu.C4.8Duj.C3.ADc.C3.AD\"></span><span class=\"mw-headline\" id=\"Vyučující\">Vyučující</span><span class=\"mw-editsection\"><span class=\"mw-editsection-bracket\">[</span><a href=\"/w/index.php?title=Institut_ekonomick%C3%BDch_studi%C3%AD_Fakulty_soci%C3%A1ln%C3%ADch_v%C4%9Bd_Univerzity_Karlovy&amp;veaction=edit&amp;section=2\" class=\"mw-editsection-visualeditor\" title=\"Editace sekce: Vyučující\">editovat</a><span class=\"mw-editsection-divider\"> | </span><a href=\"/w/index.php?title=Institut_ekonomick%C3%BDch_studi%C3%AD_Fakulty_soci%C3%A1ln%C3%ADch_v%C4%9Bd_Univerzity_Karlovy&amp;action=edit&amp;section=2\" title=\"Editace sekce: Vyučující\">editovat zdroj</a><span class=\"mw-editsection-bracket\">]</span></span></h2>\\n<p>Mezi vyučujícími IES působí 4 ekonomové, kteří figurují mezi deseti nejlepšími českými ekonomy podle <a href=\"/w/index.php?title=Repec&amp;action=edit&amp;redlink=1\" class=\"new\" title=\"Repec (stránka neexistuje)\">RePEc</a> Country Ranking.<sup id=\"cite_ref-8\" class=\"reference\"><a href=\"#cite_note-8\">&#91;8&#93;</a></sup> Jsou jimi <a href=\"/wiki/Tom%C3%A1%C5%A1_Havr%C3%A1nek_(ekonom)\" title=\"Tomáš Havránek (ekonom)\">Tomáš Havránek</a>, <a href=\"/w/index.php?title=Roman_Horv%C3%A1th&amp;action=edit&amp;redlink=1\" class=\"new\" title=\"Roman Horváth (stránka neexistuje)\">Roman Horváth</a>, <a href=\"/w/index.php?title=Ev%C5%BEen_Ko%C4%8Denda&amp;action=edit&amp;redlink=1\" class=\"new\" title=\"Evžen Kočenda (stránka neexistuje)\">Evžen Kočenda</a> a <a href=\"/w/index.php?title=Zuzana_Havr%C3%A1nkov%C3%A1&amp;action=edit&amp;redlink=1\" class=\"new\" title=\"Zuzana Havránková (stránka neexistuje)\">Zuzana Havránková</a> (roz. Iršová). K dalším renomovaným vyučujícím patří například:\\n</p>\\n<ul><li><a href=\"/wiki/Old%C5%99ich_D%C4%9Bdek\" title=\"Oldřich Dědek\">Oldřich Dědek</a></li>\\n<li><a href=\"/wiki/Vladim%C3%ADr_Dlouh%C3%BD_(ekonom)\" title=\"Vladimír Dlouhý (ekonom)\">Vladimír Dlouhý</a></li>\\n<li><a href=\"/wiki/Tom%C3%A1%C5%A1_Holub_(ekonom)\" title=\"Tomáš Holub (ekonom)\">Tomáš Holub</a></li>\\n<li><a href=\"/wiki/Michal_Mejst%C5%99%C3%ADk\" title=\"Michal Mejstřík\">Michal Mejstřík</a></li>\\n<li><a href=\"/wiki/Zden%C4%9Bk_T%C5%AFma\" title=\"Zdeněk Tůma\">Zdeněk Tůma</a></li></ul>\\n<h2><span class=\"mw-headline\" id=\"Odkazy\">Odkazy</span><span class=\"mw-editsection\"><span class=\"mw-editsection-bracket\">[</span><a href=\"/w/index.php?title=Institut_ekonomick%C3%BDch_studi%C3%AD_Fakulty_soci%C3%A1ln%C3%ADch_v%C4%9Bd_Univerzity_Karlovy&amp;veaction=edit&amp;section=3\" class=\"mw-editsection-visualeditor\" title=\"Editace sekce: Odkazy\">editovat</a><span class=\"mw-editsection-divider\"> | </span><a href=\"/w/index.php?title=Institut_ekonomick%C3%BDch_studi%C3%AD_Fakulty_soci%C3%A1ln%C3%ADch_v%C4%9Bd_Univerzity_Karlovy&amp;action=edit&amp;section=3\" title=\"Editace sekce: Odkazy\">editovat zdroj</a><span class=\"mw-editsection-bracket\">]</span></span></h2>\\n<h3><span class=\"mw-headline\" id=\"Reference\">Reference</span><span class=\"mw-editsection\"><span class=\"mw-editsection-bracket\">[</span><a href=\"/w/index.php?title=Institut_ekonomick%C3%BDch_studi%C3%AD_Fakulty_soci%C3%A1ln%C3%ADch_v%C4%9Bd_Univerzity_Karlovy&amp;veaction=edit&amp;section=4\" class=\"mw-editsection-visualeditor\" title=\"Editace sekce: Reference\">editovat</a><span class=\"mw-editsection-divider\"> | </span><a href=\"/w/index.php?title=Institut_ekonomick%C3%BDch_studi%C3%AD_Fakulty_soci%C3%A1ln%C3%ADch_v%C4%9Bd_Univerzity_Karlovy&amp;action=edit&amp;section=4\" title=\"Editace sekce: Reference\">editovat zdroj</a><span class=\"mw-editsection-bracket\">]</span></span></h3>\\n<ol class=\"references\">\\n<li id=\"cite_note-1\"><span class=\"mw-cite-backlink\"><a href=\"#cite_ref-1\">↑</a></span> <span class=\"reference-text\"><cite style=\"font-style:normal;\">KEMÉNYOVÁ, Zuzana. Žebříčky HN: Nejlepší ekonomickou školou v Česku je Institut ekonomických studií Univerzity Karlovy. <i>Hospodářské noviny</i> [online]. 2016-01-20 [cit. 2019-02-05]. <a rel=\"nofollow\" class=\"external text\" href=\"https://byznys.ihned.cz/c1-65112220-zebricky-hn-nejlepsi-ekonomickou-skolou-v-cesku-je-institut-ekonomickych-studii-univerzity-karlovy\">Dostupné online</a>. (česky)</cite><span class=\"Z3988\" title=\"ctx_ver=Z39.88-2004&amp;rft_val_fmt=info%3Aofi%2Ffmt%3Akev%3Amtx%3Ajournal&amp;rfr_id=info:sid/cs.wikipedia.org:templatecitaceelperiodika&amp;rft.jtitle=Hospod%C3%A1%C5%99sk%C3%A9+noviny&amp;rft_id=https%3A%2F%2Fbyznys.ihned.cz%2Fc1-65112220-zebricky-hn-nejlepsi-ekonomickou-skolou-v-cesku-je-institut-ekonomickych-studii-univerzity-karlovy&amp;rft.atitle=%C5%BDeb%C5%99%C3%AD%C4%8Dky+HN%3A+Nejlep%C5%A1%C3%AD+ekonomickou+%C5%A1kolou+v+%C4%8Cesku+je+Institut+ekonomick%C3%BDch+studi%C3%AD+Univerzity+Karlovy&amp;rft.date=2016-01-20&amp;rft.aulast=Kem%C3%A9nyov%C3%A1&amp;rft.aufirst=Zuzana\"><span style=\"display:none\">&#160;</span></span></span>\\n</li>\\n<li id=\"cite_note-2\"><span class=\"mw-cite-backlink\"><a href=\"#cite_ref-2\">↑</a></span> <span class=\"reference-text\"><cite style=\"font-style:normal;\"> Within Country and State Economics Rankings: Czech Republic | IDEAS/RePEc. <i>ideas.repec.org</i> [online]. [cit. 2019-02-05]. <a rel=\"nofollow\" class=\"external text\" href=\"https://ideas.repec.org/top/top.czech.html#inst10\">Dostupné online</a>.</cite><span class=\"Z3988\" title=\"ctx_ver=Z39.88-2004&amp;rft_val_fmt=info%3Aofi%2Ffmt%3Akev%3Amtx%3Ajournal&amp;rfr_id=info:sid/cs.wikipedia.org:templatecitaceelperiodika&amp;rft.jtitle=ideas.repec.org&amp;rft_id=https%3A%2F%2Fideas.repec.org%2Ftop%2Ftop.czech.html%23inst10&amp;rft.atitle=Within+Country+and+State+Economics+Rankings%3A+Czech+Republic+%7C+IDEAS%2FRePEc\"><span style=\"display:none\">&#160;</span></span></span>\\n</li>\\n<li id=\"cite_note-3\"><span class=\"mw-cite-backlink\"><a href=\"#cite_ref-3\">↑</a></span> <span class=\"reference-text\"><cite style=\"font-style:normal;\"> ShanghaiRanking\\'s Global Ranking of Academic Subjects 2018 - Economics | Shanghai Ranking - 2018. <i>www.shanghairanking.com</i> [online]. [cit. 2019-02-06]. <a rel=\"nofollow\" class=\"external text\" href=\"http://www.shanghairanking.com/Shanghairanking-Subject-Rankings/economics.html\">Dostupné online</a>.</cite><span class=\"Z3988\" title=\"ctx_ver=Z39.88-2004&amp;rft_val_fmt=info%3Aofi%2Ffmt%3Akev%3Amtx%3Ajournal&amp;rfr_id=info:sid/cs.wikipedia.org:templatecitaceelperiodika&amp;rft.jtitle=www.shanghairanking.com&amp;rft_id=http%3A%2F%2Fwww.shanghairanking.com%2FShanghairanking-Subject-Rankings%2Feconomics.html&amp;rft.atitle=ShanghaiRanking%27s+Global+Ranking+of+Academic+Subjects+2018+-+Economics+%7C+Shanghai+Ranking+-+2018\"><span style=\"display:none\">&#160;</span></span></span>\\n</li>\\n<li id=\"cite_note-4\"><span class=\"mw-cite-backlink\"><a href=\"#cite_ref-4\">↑</a></span> <span class=\"reference-text\"><cite style=\"font-style:normal;\"> ShanghaiRanking\\'s Global Ranking of Academic Subjects 2018 - Finance | Shanghai Ranking - 2018. <i>www.shanghairanking.com</i> [online]. [cit. 2019-02-06]. <a rel=\"nofollow\" class=\"external text\" href=\"http://www.shanghairanking.com/Shanghairanking-Subject-Rankings/finance.html\">Dostupné online</a>.</cite><span class=\"Z3988\" title=\"ctx_ver=Z39.88-2004&amp;rft_val_fmt=info%3Aofi%2Ffmt%3Akev%3Amtx%3Ajournal&amp;rfr_id=info:sid/cs.wikipedia.org:templatecitaceelperiodika&amp;rft.jtitle=www.shanghairanking.com&amp;rft_id=http%3A%2F%2Fwww.shanghairanking.com%2FShanghairanking-Subject-Rankings%2Ffinance.html&amp;rft.atitle=ShanghaiRanking%27s+Global+Ranking+of+Academic+Subjects+2018+-+Finance+%7C+Shanghai+Ranking+-+2018\"><span style=\"display:none\">&#160;</span></span></span>\\n</li>\\n<li id=\"cite_note-5\"><span class=\"mw-cite-backlink\"><a href=\"#cite_ref-5\">↑</a></span> <span class=\"reference-text\"><cite style=\"font-style:normal;\"> IES&#160;:: Bakalářský program Ekonomie a finance. <i>ies.fsv.cuni.cz</i> [online]. [cit. 2019-02-05]. <a rel=\"nofollow\" class=\"external text\" href=\"http://ies.fsv.cuni.cz/cs/node/294\">Dostupné online</a>.</cite><span class=\"Z3988\" title=\"ctx_ver=Z39.88-2004&amp;rft_val_fmt=info%3Aofi%2Ffmt%3Akev%3Amtx%3Ajournal&amp;rfr_id=info:sid/cs.wikipedia.org:templatecitaceelperiodika&amp;rft.jtitle=ies.fsv.cuni.cz&amp;rft_id=http%3A%2F%2Fies.fsv.cuni.cz%2Fcs%2Fnode%2F294&amp;rft.atitle=IES+%3A%3A+Bakal%C3%A1%C5%99sk%C3%BD+program+Ekonomie+a+finance\"><span style=\"display:none\">&#160;</span></span></span>\\n</li>\\n<li id=\"cite_note-6\"><span class=\"mw-cite-backlink\"><a href=\"#cite_ref-6\">↑</a></span> <span class=\"reference-text\"><cite style=\"font-style:normal;\"> IES&#160;:: Magisterský program Ekonomie a finance. <i>ies.fsv.cuni.cz</i> [online]. [cit. 2019-02-05]. <a rel=\"nofollow\" class=\"external text\" href=\"http://ies.fsv.cuni.cz/cs/node/296\">Dostupné online</a>.</cite><span class=\"Z3988\" title=\"ctx_ver=Z39.88-2004&amp;rft_val_fmt=info%3Aofi%2Ffmt%3Akev%3Amtx%3Ajournal&amp;rfr_id=info:sid/cs.wikipedia.org:templatecitaceelperiodika&amp;rft.jtitle=ies.fsv.cuni.cz&amp;rft_id=http%3A%2F%2Fies.fsv.cuni.cz%2Fcs%2Fnode%2F296&amp;rft.atitle=IES+%3A%3A+Magistersk%C3%BD+program+Ekonomie+a+finance\"><span style=\"display:none\">&#160;</span></span></span>\\n</li>\\n<li id=\"cite_note-:0-7\"><span class=\"mw-cite-backlink\">↑ <a href=\"#cite_ref-:0_7-0\"><sup style=\"font-style: italic; font-weight: bold; vertical-align: top\">a</sup></a> <a href=\"#cite_ref-:0_7-1\"><sup style=\"font-style: italic; font-weight: bold; vertical-align: top\">b</sup></a></span> <span class=\"reference-text\"><cite style=\"font-style:normal;\"> IES&#160;:: Kdo jsme?. <i>ies.fsv.cuni.cz</i> [online]. [cit. 2019-02-06]. <a rel=\"nofollow\" class=\"external text\" href=\"http://ies.fsv.cuni.cz/cs/node/264\">Dostupné online</a>.</cite><span class=\"Z3988\" title=\"ctx_ver=Z39.88-2004&amp;rft_val_fmt=info%3Aofi%2Ffmt%3Akev%3Amtx%3Ajournal&amp;rfr_id=info:sid/cs.wikipedia.org:templatecitaceelperiodika&amp;rft.jtitle=ies.fsv.cuni.cz&amp;rft_id=http%3A%2F%2Fies.fsv.cuni.cz%2Fcs%2Fnode%2F264&amp;rft.atitle=IES+%3A%3A+Kdo+jsme%3F\"><span style=\"display:none\">&#160;</span></span></span>\\n</li>\\n<li id=\"cite_note-8\"><span class=\"mw-cite-backlink\"><a href=\"#cite_ref-8\">↑</a></span> <span class=\"reference-text\"><cite style=\"font-style:normal;\"> Within Country and State Economics Rankings: Czech Republic | IDEAS/RePEc. <i>ideas.repec.org</i> [online]. [cit. 2019-02-06]. <a rel=\"nofollow\" class=\"external text\" href=\"https://ideas.repec.org/top/top.czech.html#authors\">Dostupné online</a>.</cite><span class=\"Z3988\" title=\"ctx_ver=Z39.88-2004&amp;rft_val_fmt=info%3Aofi%2Ffmt%3Akev%3Amtx%3Ajournal&amp;rfr_id=info:sid/cs.wikipedia.org:templatecitaceelperiodika&amp;rft.jtitle=ideas.repec.org&amp;rft_id=https%3A%2F%2Fideas.repec.org%2Ftop%2Ftop.czech.html%23authors&amp;rft.atitle=Within+Country+and+State+Economics+Rankings%3A+Czech+Republic+%7C+IDEAS%2FRePEc\"><span style=\"display:none\">&#160;</span></span></span>\\n</li>\\n</ol>\\n<h3><span id=\"Extern.C3.AD_odkazy\"></span><span class=\"mw-headline\" id=\"Externí_odkazy\">Externí odkazy</span><span class=\"mw-editsection\"><span class=\"mw-editsection-bracket\">[</span><a href=\"/w/index.php?title=Institut_ekonomick%C3%BDch_studi%C3%AD_Fakulty_soci%C3%A1ln%C3%ADch_v%C4%9Bd_Univerzity_Karlovy&amp;veaction=edit&amp;section=5\" class=\"mw-editsection-visualeditor\" title=\"Editace sekce: Externí odkazy\">editovat</a><span class=\"mw-editsection-divider\"> | </span><a href=\"/w/index.php?title=Institut_ekonomick%C3%BDch_studi%C3%AD_Fakulty_soci%C3%A1ln%C3%ADch_v%C4%9Bd_Univerzity_Karlovy&amp;action=edit&amp;section=5\" title=\"Editace sekce: Externí odkazy\">editovat zdroj</a><span class=\"mw-editsection-bracket\">]</span></span></h3>\\n<ul><li><a rel=\"nofollow\" class=\"external text\" href=\"http://ies.fsv.cuni.cz\">Stránky Institutu ekonomických studií FSV UK </a></li>\\n<li><a rel=\"nofollow\" class=\"external text\" href=\"https://byznys.ihned.cz/c1-65112220-zebricky-hn-nejlepsi-ekonomickou-skolou-v-cesku-je-institut-ekonomickych-studii-univerzity-karlovy\">Srovnání škol v HN</a></li></ul>\\n<table class=\"plainlinks metadata noprint pahyl\" cellpadding=\"2\" style=\"background: transparent;\">\\n<tbody><tr>\\n<td><div class=\"floatleft\"><a href=\"/wiki/Soubor:Wiki_letter_w.svg\" class=\"image\" title=\"Pahýl\"><img alt=\"Pahýl\" src=\"//upload.wikimedia.org/wikipedia/commons/thumb/6/6c/Wiki_letter_w.svg/40px-Wiki_letter_w.svg.png\" decoding=\"async\" width=\"40\" height=\"40\" srcset=\"//upload.wikimedia.org/wikipedia/commons/thumb/6/6c/Wiki_letter_w.svg/60px-Wiki_letter_w.svg.png 1.5x, //upload.wikimedia.org/wikipedia/commons/thumb/6/6c/Wiki_letter_w.svg/80px-Wiki_letter_w.svg.png 2x\" data-file-width=\"44\" data-file-height=\"44\" /></a></div>\\n</td>\\n<td><i>Tento článek je příliš stručný nebo <a href=\"/wiki/Wikipedie:Pah%C3%BDl\" title=\"Wikipedie:Pahýl\">postrádá důležité informace</a>.<br />Pomozte Wikipedii tím, že jej vhodně <a class=\"external text\" href=\"https://cs.wikipedia.org/w/index.php?title=Institut_ekonomick%C3%BDch_studi%C3%AD_Fakulty_soci%C3%A1ln%C3%ADch_v%C4%9Bd_Univerzity_Karlovy&amp;action=edit\">rozšíříte</a>. Nevkládejte však <a href=\"/wiki/Wikipedie:Autorsk%C3%A9_pr%C3%A1vo#Publikování_cizích_autorských_děl\" title=\"Wikipedie:Autorské právo\">bez oprávnění</a> cizí texty.</i>\\n</td></tr></tbody></table>\\n<style data-mw-deduplicate=\"TemplateStyles:r16915398\">.mw-parser-output div/**/#portallinks a{font-weight:bold}</style><div id=\"portallinks\" class=\"catlinks\"><a href=\"/wiki/Port%C3%A1l:Obsah\" title=\"Portál:Obsah\">Portály</a>: <a href=\"/wiki/Port%C3%A1l:Praha\" title=\"Portál:Praha\">Praha</a>      \\n</div>\\n<!-- \\nNewPP limit report\\nParsed by mw1238\\nCached time: 20191103152313\\nCache expiry: 2592000\\nDynamic content: false\\nComplications: []\\nCPU time usage: 0.500 seconds\\nReal time usage: 0.639 seconds\\nPreprocessor visited node count: 3279/1000000\\nPreprocessor generated node count: 0/1500000\\nPost‐expand include size: 38185/2097152 bytes\\nTemplate argument size: 6588/2097152 bytes\\nHighest expansion depth: 20/40\\nExpensive parser function count: 0/500\\nUnstrip recursion depth: 0/20\\nUnstrip post‐expand size: 9228/5000000 bytes\\nNumber of Wikibase entities loaded: 1/400\\nLua time usage: 0.130/10.000 seconds\\nLua memory usage: 2.5 MB/50 MB\\n-->\\n<!--\\nTransclusion expansion time report (%,ms,calls,template)\\n100.00%  561.376      1 -total\\n 75.71%  425.041      1 Šablona:Infobox_-_organizace\\n 73.99%  415.384      1 Šablona:Infobox\\n 33.61%  188.672     87 Šablona:Infobox/řádek\\n 17.66%   99.124      1 Šablona:WD_štítek\\n 14.51%   81.457      4 Šablona:První_neprázdný\\n 11.01%   61.792      2 Šablona:Obrázek_z_WD\\n  7.26%   40.772      1 Šablona:Souřadnice_z_WD\\n  6.97%   39.118      8 Šablona:Citace_elektronického_periodika\\n  5.34%   29.989      2 Šablona:Popisek_obrázku_z_WD\\n-->\\n\\n<!-- Saved in parser cache with key cswiki:pcache:idhash:439632-0!canonical and timestamp 20191103152312 and revision id 17648782\\n -->\\n</div><noscript><img src=\"//cs.wikipedia.org/wiki/Special:CentralAutoLogin/start?type=1x1\" alt=\"\" title=\"\" width=\"1\" height=\"1\" style=\"border: none; position: absolute;\" /></noscript></div>\\n\\t\\t\\n\\t\\t<div class=\"printfooter\">Citováno z „<a dir=\"ltr\" href=\"https://cs.wikipedia.org/w/index.php?title=Institut_ekonomických_studií_Fakulty_sociálních_věd_Univerzity_Karlovy&amp;oldid=17648782\">https://cs.wikipedia.org/w/index.php?title=Institut_ekonomických_studií_Fakulty_sociálních_věd_Univerzity_Karlovy&amp;oldid=17648782</a>“</div>\\n\\t\\t\\n\\t\\t<div id=\"catlinks\" class=\"catlinks\" data-mw=\"interface\"><div id=\"mw-normal-catlinks\" class=\"mw-normal-catlinks\"><a href=\"/wiki/N%C3%A1pov%C4%9Bda:Kategorie\" title=\"Nápověda:Kategorie\">Kategorie</a>: <ul><li><a href=\"/wiki/Kategorie:Fakulta_soci%C3%A1ln%C3%ADch_v%C4%9Bd_Univerzity_Karlovy\" title=\"Kategorie:Fakulta sociálních věd Univerzity Karlovy\">Fakulta sociálních věd Univerzity Karlovy</a></li></ul></div><div id=\"mw-hidden-catlinks\" class=\"mw-hidden-catlinks mw-hidden-cats-hidden\">Skrytá kategorie: <ul><li><a href=\"/wiki/Kategorie:Pah%C3%BDly\" title=\"Kategorie:Pahýly\">Pahýly</a></li></ul></div></div>\\n\\t\\t<div class=\"visualClear\"></div>\\n\\t\\t\\n\\t</div>\\n</div>\\n<div id=\\'mw-data-after-content\\'>\\n\\t<div class=\"read-more-container\"></div>\\n</div>\\n\\n\\n\\t\\t<div id=\"mw-navigation\">\\n\\t\\t\\t<h2>Navigační menu</h2>\\n\\t\\t\\t<div id=\"mw-head\">\\n\\t\\t\\t\\t\\t\\t\\t\\t\\t<div id=\"p-personal\" role=\"navigation\" aria-labelledby=\"p-personal-label\">\\n\\t\\t\\t\\t\\t\\t<h3 id=\"p-personal-label\">Osobní nástroje</h3>\\n\\t\\t\\t\\t\\t\\t<ul>\\n\\t\\t\\t\\t\\t\\t\\t<li id=\"pt-anonuserpage\">Nejste přihlášen(a)</li><li id=\"pt-anontalk\"><a href=\"/wiki/Speci%C3%A1ln%C3%AD:Moje_diskuse\" title=\"Diskuse o editacích provedených z této IP adresy [n]\" accesskey=\"n\">Diskuse</a></li><li id=\"pt-anoncontribs\"><a href=\"/wiki/Speci%C3%A1ln%C3%AD:Moje_p%C5%99%C3%ADsp%C4%9Bvky\" title=\"Seznam editací provedených z této IP adresy [y]\" accesskey=\"y\">Příspěvky</a></li><li id=\"pt-createaccount\"><a href=\"/w/index.php?title=Speci%C3%A1ln%C3%AD:Vytvo%C5%99it_%C3%BA%C4%8Det&amp;returnto=Institut+ekonomick%C3%BDch+studi%C3%AD+Fakulty+soci%C3%A1ln%C3%ADch+v%C4%9Bd+Univerzity+Karlovy\" title=\"Doporučujeme vytvořit si účet a přihlásit se, ovšem není to povinné\">Vytvoření účtu</a></li><li id=\"pt-login\"><a href=\"/w/index.php?title=Speci%C3%A1ln%C3%AD:P%C5%99ihl%C3%A1sit&amp;returnto=Institut+ekonomick%C3%BDch+studi%C3%AD+Fakulty+soci%C3%A1ln%C3%ADch+v%C4%9Bd+Univerzity+Karlovy\" title=\"Doporučujeme vám přihlásit se, ovšem není to povinné. [o]\" accesskey=\"o\">Přihlášení</a></li>\\t\\t\\t\\t\\t\\t</ul>\\n\\t\\t\\t\\t\\t</div>\\n\\t\\t\\t\\t\\t\\t\\t\\t\\t<div id=\"left-navigation\">\\n\\t\\t\\t\\t\\t\\t\\t\\t\\t\\t<div id=\"p-namespaces\" role=\"navigation\" class=\"vectorTabs\" aria-labelledby=\"p-namespaces-label\">\\n\\t\\t\\t\\t\\t\\t<h3 id=\"p-namespaces-label\">Jmenné prostory</h3>\\n\\t\\t\\t\\t\\t\\t<ul>\\n\\t\\t\\t\\t\\t\\t\\t<li id=\"ca-nstab-main\" class=\"selected\"><a href=\"/wiki/Institut_ekonomick%C3%BDch_studi%C3%AD_Fakulty_soci%C3%A1ln%C3%ADch_v%C4%9Bd_Univerzity_Karlovy\" title=\"Zobrazit obsahovou stránku [c]\" accesskey=\"c\">Článek</a></li><li id=\"ca-talk\" class=\"new\"><a href=\"/w/index.php?title=Diskuse:Institut_ekonomick%C3%BDch_studi%C3%AD_Fakulty_soci%C3%A1ln%C3%ADch_v%C4%9Bd_Univerzity_Karlovy&amp;action=edit&amp;redlink=1\" rel=\"discussion\" title=\"Diskuse ke stránce (stránka neexistuje) [t]\" accesskey=\"t\">Diskuse</a></li>\\t\\t\\t\\t\\t\\t</ul>\\n\\t\\t\\t\\t\\t</div>\\n\\t\\t\\t\\t\\t\\t\\t\\t\\t\\t<div id=\"p-variants\" role=\"navigation\" class=\"vectorMenu emptyPortlet\" aria-labelledby=\"p-variants-label\">\\n\\t\\t\\t\\t\\t\\t\\t\\t\\t\\t\\t\\t<input type=\"checkbox\" class=\"vectorMenuCheckbox\" aria-labelledby=\"p-variants-label\" />\\n\\t\\t\\t\\t\\t\\t<h3 id=\"p-variants-label\">\\n\\t\\t\\t\\t\\t\\t\\t<span>Varianty</span>\\n\\t\\t\\t\\t\\t\\t</h3>\\n\\t\\t\\t\\t\\t\\t<ul class=\"menu\">\\n\\t\\t\\t\\t\\t\\t\\t\\t\\t\\t\\t\\t\\t</ul>\\n\\t\\t\\t\\t\\t</div>\\n\\t\\t\\t\\t\\t\\t\\t\\t\\t</div>\\n\\t\\t\\t\\t<div id=\"right-navigation\">\\n\\t\\t\\t\\t\\t\\t\\t\\t\\t\\t<div id=\"p-views\" role=\"navigation\" class=\"vectorTabs\" aria-labelledby=\"p-views-label\">\\n\\t\\t\\t\\t\\t\\t<h3 id=\"p-views-label\">Zobrazení</h3>\\n\\t\\t\\t\\t\\t\\t<ul>\\n\\t\\t\\t\\t\\t\\t\\t<li id=\"ca-view\" class=\"collapsible selected\"><a href=\"/wiki/Institut_ekonomick%C3%BDch_studi%C3%AD_Fakulty_soci%C3%A1ln%C3%ADch_v%C4%9Bd_Univerzity_Karlovy\">Číst</a></li><li id=\"ca-ve-edit\" class=\"collapsible\"><a href=\"/w/index.php?title=Institut_ekonomick%C3%BDch_studi%C3%AD_Fakulty_soci%C3%A1ln%C3%ADch_v%C4%9Bd_Univerzity_Karlovy&amp;veaction=edit\" title=\"Editovat tuto stránku [v]\" accesskey=\"v\">Editovat</a></li><li id=\"ca-edit\" class=\"collapsible\"><a href=\"/w/index.php?title=Institut_ekonomick%C3%BDch_studi%C3%AD_Fakulty_soci%C3%A1ln%C3%ADch_v%C4%9Bd_Univerzity_Karlovy&amp;action=edit\" title=\"Editovat tuto stránku [e]\" accesskey=\"e\">Editovat zdroj</a></li><li id=\"ca-history\" class=\"collapsible\"><a href=\"/w/index.php?title=Institut_ekonomick%C3%BDch_studi%C3%AD_Fakulty_soci%C3%A1ln%C3%ADch_v%C4%9Bd_Univerzity_Karlovy&amp;action=history\" title=\"Starší verze této stránky. [h]\" accesskey=\"h\">Zobrazit historii</a></li>\\t\\t\\t\\t\\t\\t</ul>\\n\\t\\t\\t\\t\\t</div>\\n\\t\\t\\t\\t\\t\\t\\t\\t\\t\\t<div id=\"p-cactions\" role=\"navigation\" class=\"vectorMenu emptyPortlet\" aria-labelledby=\"p-cactions-label\">\\n\\t\\t\\t\\t\\t\\t<input type=\"checkbox\" class=\"vectorMenuCheckbox\" aria-labelledby=\"p-cactions-label\" />\\n\\t\\t\\t\\t\\t\\t<h3 id=\"p-cactions-label\"><span>Další</span></h3>\\n\\t\\t\\t\\t\\t\\t<ul class=\"menu\">\\n\\t\\t\\t\\t\\t\\t\\t\\t\\t\\t\\t\\t\\t</ul>\\n\\t\\t\\t\\t\\t</div>\\n\\t\\t\\t\\t\\t\\t\\t\\t\\t\\t<div id=\"p-search\" role=\"search\">\\n\\t\\t\\t\\t\\t\\t<h3>\\n\\t\\t\\t\\t\\t\\t\\t<label for=\"searchInput\">Hledání</label>\\n\\t\\t\\t\\t\\t\\t</h3>\\n\\t\\t\\t\\t\\t\\t<form action=\"/w/index.php\" id=\"searchform\">\\n\\t\\t\\t\\t\\t\\t\\t<div id=\"simpleSearch\">\\n\\t\\t\\t\\t\\t\\t\\t\\t<input type=\"search\" name=\"search\" placeholder=\"Hledat na Wikipedii\" title=\"Prohledat tuto wiki [f]\" accesskey=\"f\" id=\"searchInput\"/><input type=\"hidden\" value=\"Speciální:Hledání\" name=\"title\"/><input type=\"submit\" name=\"fulltext\" value=\"Hledat\" title=\"Hledat stránky s tímto textem\" id=\"mw-searchButton\" class=\"searchButton mw-fallbackSearchButton\"/><input type=\"submit\" name=\"go\" value=\"Jít na\" title=\"Jít na stránku s tímto názvem, pokud existuje\" id=\"searchButton\" class=\"searchButton\"/>\\t\\t\\t\\t\\t\\t\\t</div>\\n\\t\\t\\t\\t\\t\\t</form>\\n\\t\\t\\t\\t\\t</div>\\n\\t\\t\\t\\t\\t\\t\\t\\t\\t</div>\\n\\t\\t\\t</div>\\n\\t\\t\\t<div id=\"mw-panel\">\\n\\t\\t\\t\\t<div id=\"p-logo\" role=\"banner\"><a class=\"mw-wiki-logo\" href=\"/wiki/Hlavn%C3%AD_strana\" title=\"Navštívit Hlavní stranu\"></a></div>\\n\\t\\t\\t\\t\\t\\t<div class=\"portal\" role=\"navigation\" id=\"p-navigation\" aria-labelledby=\"p-navigation-label\">\\n\\t\\t\\t<h3 id=\"p-navigation-label\">Navigace</h3>\\n\\t\\t\\t<div class=\"body\">\\n\\t\\t\\t\\t\\t\\t\\t\\t<ul>\\n\\t\\t\\t\\t\\t<li id=\"n-mainpage\"><a href=\"/wiki/Hlavn%C3%AD_strana\" title=\"Navštívit Hlavní stranu [z]\" accesskey=\"z\">Hlavní strana</a></li><li id=\"n-help\"><a href=\"/wiki/N%C3%A1pov%C4%9Bda:Obsah\" title=\"Místo, kde najdete pomoc\">Nápověda</a></li><li id=\"n-helpdesk\"><a href=\"/wiki/Wikipedie:Pot%C5%99ebuji_pomoc\" title=\"Pokud si nevíte rady, zeptejte se ostatních\">Potřebuji pomoc</a></li><li id=\"n-featuredcontent\"><a href=\"/wiki/Wikipedie:Nejlep%C5%A1%C3%AD_%C4%8Dl%C3%A1nky\" title=\"Přehled článků, které jsou považovány za nejlepší na české Wikipedii\">Nejlepší články</a></li><li id=\"n-randompage\"><a href=\"/wiki/Speci%C3%A1ln%C3%AD:N%C3%A1hodn%C3%A1_str%C3%A1nka\" title=\"Přejít na náhodně vybranou stránku [x]\" accesskey=\"x\">Náhodný článek</a></li><li id=\"n-recentchanges\"><a href=\"/wiki/Speci%C3%A1ln%C3%AD:Posledn%C3%AD_zm%C4%9Bny\" title=\"Seznam posledních změn na této wiki [r]\" accesskey=\"r\">Poslední změny</a></li><li id=\"n-portal\"><a href=\"/wiki/Wikipedie:Port%C3%A1l_Wikipedie\" title=\"O projektu, jak můžete pomoci, kde hledat\">Komunitní portál</a></li><li id=\"n-villagepump\"><a href=\"/wiki/Wikipedie:Pod_l%C3%ADpou\" title=\"Hlavní diskusní fórum\">Pod lípou</a></li><li id=\"n-sitesupport\"><a href=\"//donate.wikimedia.org/wiki/Special:FundraiserRedirector?utm_source=donate&amp;utm_medium=sidebar&amp;utm_campaign=C13_cs.wikipedia.org&amp;uselang=cs\" title=\"Podpořte nás\">Podpořte Wikipedii</a></li>\\t\\t\\t\\t</ul>\\n\\t\\t\\t\\t\\t\\t\\t</div>\\n\\t\\t</div>\\n\\t\\t\\t<div class=\"portal\" role=\"navigation\" id=\"p-tb\" aria-labelledby=\"p-tb-label\">\\n\\t\\t\\t<h3 id=\"p-tb-label\">Nástroje</h3>\\n\\t\\t\\t<div class=\"body\">\\n\\t\\t\\t\\t\\t\\t\\t\\t<ul>\\n\\t\\t\\t\\t\\t<li id=\"t-whatlinkshere\"><a href=\"/wiki/Speci%C3%A1ln%C3%AD:Co_odkazuje_na/Institut_ekonomick%C3%BDch_studi%C3%AD_Fakulty_soci%C3%A1ln%C3%ADch_v%C4%9Bd_Univerzity_Karlovy\" title=\"Seznam všech wikistránek, které sem odkazují [j]\" accesskey=\"j\">Odkazuje sem</a></li><li id=\"t-recentchangeslinked\"><a href=\"/wiki/Speci%C3%A1ln%C3%AD:Souvisej%C3%ADc%C3%AD_zm%C4%9Bny/Institut_ekonomick%C3%BDch_studi%C3%AD_Fakulty_soci%C3%A1ln%C3%ADch_v%C4%9Bd_Univerzity_Karlovy\" rel=\"nofollow\" title=\"Nedávné změny stránek, na které je odkazováno [k]\" accesskey=\"k\">Související změny</a></li><li id=\"t-upload\"><a href=\"//commons.wikimedia.org/wiki/Special:UploadWizard?uselang=cs\" title=\"Nahrát obrázky či jiná multimédia [u]\" accesskey=\"u\">Načíst soubor</a></li><li id=\"t-specialpages\"><a href=\"/wiki/Speci%C3%A1ln%C3%AD:Speci%C3%A1ln%C3%AD_str%C3%A1nky\" title=\"Seznam všech speciálních stránek [q]\" accesskey=\"q\">Speciální stránky</a></li><li id=\"t-permalink\"><a href=\"/w/index.php?title=Institut_ekonomick%C3%BDch_studi%C3%AD_Fakulty_soci%C3%A1ln%C3%ADch_v%C4%9Bd_Univerzity_Karlovy&amp;oldid=17648782\" title=\"Trvalý odkaz na současnou verzi této stránky\">Trvalý odkaz</a></li><li id=\"t-info\"><a href=\"/w/index.php?title=Institut_ekonomick%C3%BDch_studi%C3%AD_Fakulty_soci%C3%A1ln%C3%ADch_v%C4%9Bd_Univerzity_Karlovy&amp;action=info\" title=\"Více informací o této stránce\">Informace o stránce</a></li><li id=\"t-wikibase\"><a href=\"https://www.wikidata.org/wiki/Special:EntityPage/Q12021663\" title=\"Odkaz na propojenou položku datového úložiště [g]\" accesskey=\"g\">Položka Wikidat</a></li><li id=\"t-cite\"><a href=\"/w/index.php?title=Speci%C3%A1ln%C3%AD:Citovat&amp;page=Institut_ekonomick%C3%BDch_studi%C3%AD_Fakulty_soci%C3%A1ln%C3%ADch_v%C4%9Bd_Univerzity_Karlovy&amp;id=17648782\" title=\"Informace o tom, jak citovat tuto stránku\">Citovat stránku</a></li>\\t\\t\\t\\t</ul>\\n\\t\\t\\t\\t\\t\\t\\t</div>\\n\\t\\t</div>\\n\\t\\t\\t<div class=\"portal\" role=\"navigation\" id=\"p-coll-print_export\" aria-labelledby=\"p-coll-print_export-label\">\\n\\t\\t\\t<h3 id=\"p-coll-print_export-label\">Tisk/export</h3>\\n\\t\\t\\t<div class=\"body\">\\n\\t\\t\\t\\t\\t\\t\\t\\t<ul>\\n\\t\\t\\t\\t\\t<li id=\"coll-create_a_book\"><a href=\"/w/index.php?title=Speci%C3%A1ln%C3%AD:Kniha&amp;bookcmd=book_creator&amp;referer=Institut+ekonomick%C3%BDch+studi%C3%AD+Fakulty+soci%C3%A1ln%C3%ADch+v%C4%9Bd+Univerzity+Karlovy\">Vytvořit knihu</a></li><li id=\"coll-download-as-rl\"><a href=\"/w/index.php?title=Speci%C3%A1ln%C3%AD:ElectronPdf&amp;page=Institut+ekonomick%C3%BDch+studi%C3%AD+Fakulty+soci%C3%A1ln%C3%ADch+v%C4%9Bd+Univerzity+Karlovy&amp;action=show-download-screen\">Stáhnout jako PDF</a></li><li id=\"t-print\"><a href=\"/w/index.php?title=Institut_ekonomick%C3%BDch_studi%C3%AD_Fakulty_soci%C3%A1ln%C3%ADch_v%C4%9Bd_Univerzity_Karlovy&amp;printable=yes\" title=\"Tato stránka v podobě vhodné k tisku [p]\" accesskey=\"p\">Verze k tisku</a></li>\\t\\t\\t\\t</ul>\\n\\t\\t\\t\\t\\t\\t\\t</div>\\n\\t\\t</div>\\n\\t\\t\\t<div class=\"portal\" role=\"navigation\" id=\"p-lang\" aria-labelledby=\"p-lang-label\">\\n\\t\\t\\t<h3 id=\"p-lang-label\">V jiných jazycích</h3>\\n\\t\\t\\t<div class=\"body\">\\n\\t\\t\\t\\t\\t\\t\\t\\t<ul>\\n\\t\\t\\t\\t\\t\\t\\t\\t\\t</ul>\\n\\t\\t\\t\\t<div class=\"after-portlet after-portlet-lang\"><span class=\"wb-langlinks-add wb-langlinks-link\"><a href=\"https://www.wikidata.org/wiki/Special:EntityPage/Q12021663#sitelinks-wikipedia\" title=\"Přidat mezijazykové odkazy\" class=\"wbc-editpage\">Přidat odkazy</a></span></div>\\t\\t\\t</div>\\n\\t\\t</div>\\n\\t\\t\\t\\t</div>\\n\\t\\t</div>\\n\\t\\t\\t\\t<div id=\"footer\" role=\"contentinfo\">\\n\\t\\t\\t\\t\\t\\t<ul id=\"footer-info\">\\n\\t\\t\\t\\t\\t\\t\\t\\t<li id=\"footer-info-lastmod\"> Stránka byla naposledy editována 16. 9. 2019 v 13:14.</li>\\n\\t\\t\\t\\t\\t\\t\\t\\t<li id=\"footer-info-copyright\">Text je dostupný pod <a href=\"https://creativecommons.org/licenses/by-sa/3.0/deed.cs\">licencí Creative Commons Uveďte autora\\xa0– Zachovejte licenci</a>, případně za dalších podmínek. Podrobnosti naleznete na stránce <a href=\"https://foundation.wikimedia.org/wiki/Podmínky_užití\">Podmínky užití</a>.</li>\\n\\t\\t\\t\\t\\t\\t\\t</ul>\\n\\t\\t\\t\\t\\t\\t<ul id=\"footer-places\">\\n\\t\\t\\t\\t\\t\\t\\t\\t<li id=\"footer-places-privacy\"><a href=\"https://foundation.wikimedia.org/wiki/Privacy_policy\" class=\"extiw\" title=\"wmf:Privacy policy\">Ochrana osobních údajů</a></li>\\n\\t\\t\\t\\t\\t\\t\\t\\t<li id=\"footer-places-about\"><a href=\"/wiki/Wikipedie\" title=\"Wikipedie\">O Wikipedii</a></li>\\n\\t\\t\\t\\t\\t\\t\\t\\t<li id=\"footer-places-disclaimer\"><a href=\"/wiki/Wikipedie:Vylou%C4%8Den%C3%AD_odpov%C4%9Bdnosti\" title=\"Wikipedie:Vyloučení odpovědnosti\">Vyloučení odpovědnosti</a></li>\\n\\t\\t\\t\\t\\t\\t\\t\\t<li id=\"footer-places-developers\"><a href=\"https://www.mediawiki.org/wiki/Special:MyLanguage/How_to_contribute\">Vývojáři</a></li>\\n\\t\\t\\t\\t\\t\\t\\t\\t<li id=\"footer-places-statslink\"><a href=\"https://stats.wikimedia.org/v2/#/cs.wikipedia.org\">Statistics</a></li>\\n\\t\\t\\t\\t\\t\\t\\t\\t<li id=\"footer-places-cookiestatement\"><a href=\"https://foundation.wikimedia.org/wiki/Cookie_statement\">Prohlášení o\\xa0cookies</a></li>\\n\\t\\t\\t\\t\\t\\t\\t\\t<li id=\"footer-places-mobileview\"><a href=\"//cs.m.wikipedia.org/w/index.php?title=Institut_ekonomick%C3%BDch_studi%C3%AD_Fakulty_soci%C3%A1ln%C3%ADch_v%C4%9Bd_Univerzity_Karlovy&amp;mobileaction=toggle_view_mobile\" class=\"noprint stopMobileRedirectToggle\">Mobilní verze</a></li>\\n\\t\\t\\t\\t\\t\\t\\t</ul>\\n\\t\\t\\t\\t\\t\\t\\t\\t\\t\\t<ul id=\"footer-icons\" class=\"noprint\">\\n\\t\\t\\t\\t\\t\\t\\t\\t\\t\\t<li id=\"footer-copyrightico\">\\n\\t\\t\\t\\t\\t\\t<a href=\"https://wikimediafoundation.org/\"><img src=\"/static/images/wikimedia-button.png\" srcset=\"/static/images/wikimedia-button-1.5x.png 1.5x, /static/images/wikimedia-button-2x.png 2x\" width=\"88\" height=\"31\" alt=\"Wikimedia Foundation\"/></a>\\t\\t\\t\\t\\t</li>\\n\\t\\t\\t\\t\\t\\t\\t\\t\\t\\t<li id=\"footer-poweredbyico\">\\n\\t\\t\\t\\t\\t\\t<a href=\"https://www.mediawiki.org/\"><img src=\"/static/images/poweredby_mediawiki_88x31.png\" alt=\"Powered by MediaWiki\" srcset=\"/static/images/poweredby_mediawiki_132x47.png 1.5x, /static/images/poweredby_mediawiki_176x62.png 2x\" width=\"88\" height=\"31\"/></a>\\t\\t\\t\\t\\t</li>\\n\\t\\t\\t\\t\\t\\t\\t\\t\\t</ul>\\n\\t\\t\\t\\t\\t\\t<div style=\"clear: both;\"></div>\\n\\t\\t</div>\\n\\t\\t\\n\\n<script>(RLQ=window.RLQ||[]).push(function(){mw.config.set({\"wgPageParseReport\":{\"limitreport\":{\"cputime\":\"0.500\",\"walltime\":\"0.639\",\"ppvisitednodes\":{\"value\":3279,\"limit\":1000000},\"ppgeneratednodes\":{\"value\":0,\"limit\":1500000},\"postexpandincludesize\":{\"value\":38185,\"limit\":2097152},\"templateargumentsize\":{\"value\":6588,\"limit\":2097152},\"expansiondepth\":{\"value\":20,\"limit\":40},\"expensivefunctioncount\":{\"value\":0,\"limit\":500},\"unstrip-depth\":{\"value\":0,\"limit\":20},\"unstrip-size\":{\"value\":9228,\"limit\":5000000},\"entityaccesscount\":{\"value\":1,\"limit\":400},\"timingprofile\":[\"100.00%  561.376      1 -total\",\" 75.71%  425.041      1 Šablona:Infobox_-_organizace\",\" 73.99%  415.384      1 Šablona:Infobox\",\" 33.61%  188.672     87 Šablona:Infobox/řádek\",\" 17.66%   99.124      1 Šablona:WD_štítek\",\" 14.51%   81.457      4 Šablona:První_neprázdný\",\" 11.01%   61.792      2 Šablona:Obrázek_z_WD\",\"  7.26%   40.772      1 Šablona:Souřadnice_z_WD\",\"  6.97%   39.118      8 Šablona:Citace_elektronického_periodika\",\"  5.34%   29.989      2 Šablona:Popisek_obrázku_z_WD\"]},\"scribunto\":{\"limitreport-timeusage\":{\"value\":\"0.130\",\"limit\":\"10.000\"},\"limitreport-memusage\":{\"value\":2625675,\"limit\":52428800}},\"cachereport\":{\"origin\":\"mw1238\",\"timestamp\":\"20191103152313\",\"ttl\":2592000,\"transientcontent\":false}}});});</script>\\n<script type=\"application/ld+json\">{\"@context\":\"https:\\\\/\\\\/schema.org\",\"@type\":\"Article\",\"name\":\"Institut ekonomick\\\\u00fdch studi\\\\u00ed Fakulty soci\\\\u00e1ln\\\\u00edch v\\\\u011bd Univerzity Karlovy\",\"url\":\"https:\\\\/\\\\/cs.wikipedia.org\\\\/wiki\\\\/Institut_ekonomick%C3%BDch_studi%C3%AD_Fakulty_soci%C3%A1ln%C3%ADch_v%C4%9Bd_Univerzity_Karlovy\",\"sameAs\":\"http:\\\\/\\\\/www.wikidata.org\\\\/entity\\\\/Q12021663\",\"mainEntity\":\"http:\\\\/\\\\/www.wikidata.org\\\\/entity\\\\/Q12021663\",\"author\":{\"@type\":\"Organization\",\"name\":\"P\\\\u0159isp\\\\u011bvatel\\\\u00e9 projekt\\\\u016f Wikimedia\"},\"publisher\":{\"@type\":\"Organization\",\"name\":\"nadace Wikimedia\",\"logo\":{\"@type\":\"ImageObject\",\"url\":\"https:\\\\/\\\\/www.wikimedia.org\\\\/static\\\\/images\\\\/wmf-hor-googpub.png\"}},\"datePublished\":\"2009-06-06T20:44:00Z\",\"dateModified\":\"2019-09-16T12:14:56Z\",\"image\":\"https:\\\\/\\\\/upload.wikimedia.org\\\\/wikipedia\\\\/commons\\\\/6\\\\/64\\\\/Praha%2C_Nov%C3%A9_M%C4%9Bsto%2C_Opletalova%2C_IES_FSV_UK.JPG\",\"headline\":\"fakulta\"}</script>\\n<script>(RLQ=window.RLQ||[]).push(function(){mw.config.set({\"wgBackendResponseTime\":174,\"wgHostname\":\"mw1270\"});});</script>\\n</body>\\n</html>\\n'"
      ]
     },
     "execution_count": 202,
     "metadata": {},
     "output_type": "execute_result"
    }
   ],
   "source": [
    "import requests\n",
    "r = requests.get('https://cs.wikipedia.org/wiki/Institut_ekonomick%C3%BDch_studi%C3%AD_Fakulty_soci%C3%A1ln%C3%ADch_v%C4%9Bd_Univerzity_Karlovy')\n",
    "r.text"
   ]
  },
  {
   "cell_type": "code",
   "execution_count": 205,
   "metadata": {},
   "outputs": [
    {
     "data": {
      "text/plain": [
       "'Charles University, known also as Charles University in Prague (Czech: Univerzita Karlova; Latin: Universitas Carolina; German: Karls-Universität) or historically as the University of Prague (Latin: Universitas Pragensis), is the oldest and largest university in the Czech Republic. Founded in 1348, it was the first university in Central Europe.[3] It is one of the oldest universities in Europe in continuous operation.[4] Today, the university consists of 17 faculties located in Prague, Hradec Králové and Pilsen. Its academic publishing house is Karolinum Press. The university also operates several museums and two botanical gardens.\\n Its seal shows its protector Emperor Charles IV, with his coats of arms as King of the Romans and King of Bohemia, kneeling in front of Saint Wenceslas, the patron saint of Bohemia. It is surrounded by the inscription, Sigillum Universitatis Scolarium Studii Pragensis (English: Seal of the Prague academia).[5]\\n The establishment of a medieval university in Prague was inspired by Holy Roman Emperor Charles IV.[6] He asked his friend and ally, Pope Clement VI, to do so. On 26 January 1347 the pope issued the bull establishing a university in Prague, modeled on the University of Paris, with the full (4) number of faculties, that is including theological. On 7 April 1348 Charles, the king of Bohemia, gave to the established university privileges and immunities from the secular power in a Golden Bull[7] and on 14 January 1349 he repeated that as the King of the Romans. Most Czech sources since the 19th century—encyclopedias, general histories, materials of the University itself—prefer to give 1348 as the year of the founding of the university, rather than 1347 or 1349. This was caused by an anticlerical shift in the 19th century, shared by both Czechs and Germans.\\n The university was opened in 1349. The university was sectioned into parts called nations: the Bohemian, Bavarian, Polish and Saxon. The Bohemian natio included Bohemians, Moravians, southern Slavs, and Hungarians; the Bavarian included Austrians, Swabians, natives of Franconia and of the Rhine provinces; the Polish included Silesians, Poles, Ruthenians; the Saxon included inhabitants of the Margravate of Meissen, Thuringia, Upper and Lower Saxony, Denmark, and Sweden.[8] Ethnically Czech students made 16–20% of all students.[9] Archbishop Arnošt of Pardubice took an active part in the foundation by obliging the clergy to contribute and became a chancellor of the university (i.e., director or manager).\\n The first graduate was promoted in 1359. The lectures were held in the colleges, of which the oldest was named for the king the Carolinum, established in 1366. In 1372 the Faculty of Law became an independent university.[10]\\n In 1402 Jerome of Prague in Oxford copied out the Dialogus and Trialogus of John Wycliffe. The dean of the philosophical faculty, Jan Hus, translated Trialogus into the Czech language. In 1403 the university forbade its members to follow the teachings of Wycliffe, but his doctrine continued to gain in popularity.\\n In the Western Schism, the Bohemian natio took the side of king Wenceslaus and supported the Council of Pisa (1409). The other nationes of the university declared their support for the side of Pope Gregory XII, thus the vote was 1:3 against the Bohemians. Hus and other Bohemians, though, took advantage of Wenceslaus\\' opposition to Gregory. By the Decree of Kutná Hora (German: Kuttenberg) on 18 January 1409, the king subverted the university constitution by granting the Bohemian masters three votes. Only a single vote was left for all other three nationes combined, compared to one vote per each natio before. The result of this coup was the emigration of foreign (mostly German) professors and students, founding the University of Leipzig in May 1409. Before that, in 1408, the university had about 200 doctors and magisters, 500 bachelors, and 30,000 students; it now lost a large part of this number, accounts of the loss varying from 5000 to 20,000 including 46 professors.[8] In the autumn of 1409, Hus was elected rector of the now Czech-dominated rump university.\\n Thus, the Prague university lost the largest part of its students and faculty. From then on the university declined to a merely regional institution with a very low status.[11] Soon, in 1419, the faculties of theology and law disappeared, and only the faculty of arts remained in existence.\\n The faculty of arts became a centre of the Hussite movement, and the chief doctrinal authority of the Utraquists. No degrees were given in the years 1417–30; at times there were only eight or nine professors.[8] Emperor Sigismund, son of Charles IV, took what was left into his personal property and some progress was made. The emperor Ferdinand I called the Jesuits to Prague and in 1562 they opened an academy—the Clementinum. From 1541 till 1558 the Czech humanist Mattheus Collinus\\xa0[de] (1516–1566) was a professor of Greek language.[12] Some progress was made again when the emperor Rudolph II took up residence in Prague. In 1609 the obligatory celibacy of the professors was abolished.[13] In 1616 the Jesuit Academy became a university. (It could award academic degrees.)[13]\\n Jesuits were expelled 1618–1621 during the early stages of the Thirty Years\\' War, which was started in Prague by anti-Catholic and anti-Imperial Bohemians. By 1622 the Jesuits had a predominant influence over the emperor. An Imperial decree of 19 September 1622 gave the Jesuits supreme control over the entire school system of Bohemia, Moravia and Silesia. The last four professors at the Carolinum resigned and all of the Carolinum and nine colleges went to the Jesuits. The right of handing out degrees, of holding chancellorships and of appointing the secular professors was also granted to the Jesuits.\\n Cardinal Ernst Adalbert von Harrach actively opposed union of the university with another institution and the withdrawal of the archepiscopal right to the chancellorship and prevented the drawing up of the Golden Bull for the confirmation of the grant to Jesuits. Cardinal Ernst funded the Collegium Adalbertinum and in 1638 emperor Ferdinand III limited the teaching monopoly enjoyed by the Jesuits. He took from them the rights, properties and archives of the Carolinum making the university once more independent under an imperial protector. During the last years of the Thirty Years\\' War the Charles Bridge in Prague was courageously defended by students of the Carolinum and Clementinum. Since 1650 those who received any degrees took an oath to maintain the Immaculate Conception of the Blessed Virgin, renewed annually.\\n On 23 February 1654 emperor Ferdinand III merged Carolinum and Clementinum and created a single university with four faculties—Charles-Ferdinand University.[14] Carolinum had at that time only the faculty of arts, as the only faculty surviving the period of the Hussite Wars. Starting at this time, the university designated itself Charles-Ferdinand University (Latin: Universitatis Carolinae Ferdinandeae). The dilapidated Carolinum was rebuilt in 1718 at the expense of the state.\\n The rebuilding and the bureaucratic reforms of universities in the Habsburg monarchy in 1752 and 1754 deprived the university of many of its former privileges. In 1757 a Dominican and an Augustinian were appointed to give theological instruction. However, there was a gradual introduction of enlightened reforms, and this process culminated at the end of the century when even non-Catholics were granted the right to study. On 29 July 1784, German replaced Latin as the language of instruction.[15] For the first time Protestants were allowed, and soon after Jews. The university acknowledged the need for a Czech language and literature chair. Emperor Leopold II established it by a courtly decree on 28 October 1791. On 15 May 1792, scholar and historian Franz Martin Pelzel\\xa0[cs][16] was named the professor of the chair. He started his lectures on 13 March 1793.[17]\\n In the revolution of 1848, German and Czech students fought for the addition of the Czech language at the Charles-Ferdinand University as a language of lectures. Due to the demographic changes of the 19th century, Prague ceased to have a German-language majority around 1860. By 1863, 22 lecture courses were held in Czech, the remainder (out of 187) in German. In 1864, Germans suggested the creation of a separate Czech university. Czech professors rejected this because they did not wish to lose the continuity of university traditions.\\n It soon became clear that neither the Germans nor the Czechs were satisfied with the bilingual arrangement that the University arranged after the revolutions of 1848. The Czechs also refused to support the idea of the reinstitution of the 1349 student nations, instead declaring their support for the idea of keeping the university together, but dividing it into separate colleges, one German and one Czech. This would allow both Germans and Czechs to retain the collective traditions of the University. German-speakers, however, quickly vetoed this proposal, preferring a pure German university: they proposed to split Charles-Ferdinand University into two separate institutions.\\n After long negotiations, Charles-Ferdinand was divided into a German Charles-Ferdinand University (German: Deutsche Karl-Ferdinands-Universität) and a Czech Charles-Ferdinand University (Czech: Česká universita Karlo-Ferdinandova) by an act of the Cisleithanian Imperial Council, which Emperor Franz Joseph sanctioned on 28 February 1882.[18] Each section was entirely independent of the other, and enjoyed equal status. The two universities shared medical and scientific institutes, the old insignia, aula, library, and botanical garden, but common facilities were administrated by the German University. The first rector of the Czech University became Václav Vladivoj Tomek\\xa0[de].\\n In 1890, the Royal and Imperial Czech Charles Ferdinand University had 112 teachers and 2,191 students and the Royal and Imperial German Charles Ferdinand University had 146 teachers and 1,483 students. Both universities had three faculties; the Theological Faculty remained the common until 1891, when it was divided as well. In the winter semester of 1909–10 the German Charles-Ferdinand University had 1,778 students; these were divided into: 58 theological students, for both the secular priesthood and religious orders; 755 law students; 376 medical; 589 philosophical. Among the students were about 80 women. The professors were divided as follows: theology, 7 regular professors, 1 assistant professor, 1 docent; law, 12 regular professors, 2 assistant professors, 4 docents; medicine, 15 regular professors, 19 assistant, 30 docents; philosophy, 30 regular professors, 8 assistant, 19 docents, 7 lecturers. The Czech Charles-Ferdinand University in the winter semester of 1909–10 included 4,319 students; of these 131 were theological students belonging both to the secular and regular clergy; 1,962 law students; 687 medical; 1,539 philosophical; 256 students were women. The professors were divided as follows: theological faculty, 8 regular professors, 2 docents; law, 12 regular, 7 assistant professors, 12 docents; medicine, 16 regular professors, 22 assistant, 24 docents; philosophy, 29 regular, 16 assistant, 35 docents, 11 lecturers.[8]\\n The high point of the German University was the era preceding the First World War, when it was home to world-renowned scientists such as physicist and philosopher Ernst Mach, Moritz Winternitz and Albert Einstein. In addition, the German-language students included prominent individuals such as future writers Max Brod, Franz Kafka, and Johannes Urzidil.[19] The \"Lese- und Redehalle der deutschen Studenten in Prag\" (\"Reading and Lecture Hall of the German students in Prague\"), founded in 1848, was an important social and scientific centre. Their library contained in 1885 more than 23,519 books and offered 248 scientific journals, 19 daily newspapers, 49 periodicals and 34 papers of entertainment. Regular lectures were held to scientific and political themes.\\n Even before the Austro-Hungarian Empire was abolished in late 1918, to be succeeded by Czechoslovakia, Czech politicians demanded that the insignia of 1348 were exclusively to be kept by the Czech university.[citation needed] The Act No. 197/1919 Sb. z. a n. established the Protestant Theological Faculty, but not as a part of the Charles University.[20] That changed on 10 May 1990, when it finally became a faculty of the university.[21] In 1920, the so-called Lex Mareš (No. 135/1920 Sb. z. a n.) was issued, named for its initiator, professor of physiology František Mareš, which determined that the Czech university was to be the successor to the original university.[22] Dropping the Habsburg name Ferdinand, it designated itself Charles University, while the German university was not named in the document, and then became officially called the German University in Prague (German: Deutsche Universität Prag).[23][24]\\n In 1921 the Germans considered moving[25] their university to Liberec (German: Reichenberg), in northern Bohemia. In 1930, about 42,000 inhabitants of Prague spoke German as their native language, while millions lived in northern, southern and western Bohemia, in Czech Silesia and parts of Moravia near the borders with Austria and Germany.\\n In October 1932, after Naegle\\'s death, the Czechs started again a controversy over the insignia. Ethnic tensions intensified, although some professors of the German University were members of the Czechoslovak government. Any agreement to use the insignia for both the universities was rejected.[citation needed] On 21 November 1934, the German University had to hand over the insigniae to the Czechs. The German University senate sent a delegation to Minister of Education Krčmář to protest the writ. At noon on 24 November 1934, several thousand students of the Czech University protested in front of the German university building. The Czech rector Karel Domin gave a speech urging the crowd to attack, while the outnumbered German students tried to resist. Under the threat of violence, on 25 November 1934 rector Otto Grosser\\xa0[de] (1873–1951) handed over the insigniae. These troubles of 1934 harmed relations between the two universities and nationalities.\\n The tide turned in 1938 when, following the Munich Agreement, German troops entered the border areas of Czechoslovakia (the so-called Sudetenland), as did Polish and Hungarian troops elsewhere. On 15 March 1939 Germans forced Czecho-Slovakia to split apart and the Czech lands were occupied by Nazis as the Protectorate of Bohemia and Moravia. Reichsprotektor Konstantin von Neurath handed the historical insigniae to the German University, which was officially renamed Deutsche Karls-Universität in Prag. On 1 September 1939 the German University was subordinated to the Reich Ministry of Education in Berlin and on 4 November 1939 it was proclaimed to be Reichsuniversität.[26]\\n On 28 October 1939, during a demonstration, Jan Opletal was shot. His burial on 15 November 1939 became another demonstration.[27] On 17 November 1939 (now marked as International Students\\' Day) the Czech University and all other Czech institutions of higher learning were closed, remaining closed until the end of the War. Nine student leaders were executed and about 1,200 Czech students were interned in Sachsenhausen and not released until 1943. About 20[28] or 35[29] interned students died in the camp. On 8 May 1940 the Czech University was officially renamed Czech Charles University (Czech: Česká universita Karlova) by government regulation 188/1940 Coll.\\n World War II marks the end of the coexistence of the two universities in Prague.\\n Although the university began to recover rapidly after 1945, it did not enjoy academic freedom for long. After the communist coup in 1948, the new regime started to arrange purges and repress all forms of disagreement with the official ideology, and continued to do so for the next four decades, with the second wave of purges during the \"normalization\" period in the beginning of the 1970s.[30] Only in the late 1980s did the situation start to improve; students organized various activities and several peaceful demonstrations in the wake of the Revolutions of 1989 abroad.[31] This initiated the \"Velvet Revolution\" in 1989, in which both students and faculty of the university played a large role. Václav Havel—a writer, dramatist and philosopher was recruited from the independent academic community and appointed president of the republic in December 1989.\\n Charles University does not have one joint campus. The academic facilities occupy many locations throughout the city of Prague and three of the faculties are located in other cities (two of them in Hradec Králové, one in Pilsen). The historical main building from the 14th century called Carolinum is situated in the Old Town of Prague and constitutes the university\\'s center. It is the seat of the rector and of the Academic Senate of Charles university. Carolinum is also the venue for official academic ceremonies such as matriculations or graduations.\\n The Botanical Garden of Charles University, maintained by its Faculty of Science, is located in the New Town.\\n Among the four original faculties of Charles University were: the faculty of law, medicine, art (philosophy) and theology (now catholic theology). Today, Charles University consists of 17 faculties, based primarily in Prague, two houses in Hradec Králové and one in Plzeň.\\n According to Academic Ranking of World Universities (Shanghai Ranking), Charles University ranked in the upper 1.5 percent of the world’s best universities in 2011. It came 201st to 300th out of 17,000 universities worldwide.[37] It is the best university in the Czech Republic and one of the best universities in Central and Eastern Europe only overtaken by Russian Lomonosov Moscow State University at 74th place.[38][39] It was placed 31st in Times BRICS & Emerging Economies Rankings 2014 (after 23rd University of Warsaw).[40]\\n It was ranked in 2013 as 201–300 best in the World among 500 universities evaluated by Academic Ranking of World Universities (Shanghai Ranking), 233rd among 500 in QS World University Rankings, 351–400 among 400 universities in Times Higher Education World University Rankings and 485th in CWTS Leiden Ranking of 500 universities. Earlier rankings are presented in following table:[41]\\n Rector of the University Václav Hampl said in 2008: “I am very pleased that Charles University achieved such a great success and I would like to thank to all who have contributed to it. An overwhelming majority of schools with a similar placement like Charles University have incomparably better financing and therefore this success is not only a reflection of professional qualities of our academics but also their personal efforts and dedication.“[42]\\n According to QS Subject Ranking is Charles University among 51–100 best universities in world in geography and linguistics.[43]\\n In Germany the Charles University in Prague cooperates with the Goethe-University in Frankfurt/Main. Both cities are linked by a long-lasting partnership agreement.[45]\\n Coordinates: 50°05′18″N 14°24′13″E\\ufeff / \\ufeff50.0884°N 14.4037°E\\ufeff / 50.0884; 14.4037\\n'"
      ]
     },
     "execution_count": 205,
     "metadata": {},
     "output_type": "execute_result"
    }
   ],
   "source": [
    "import requests\n",
    "from bs4 import BeautifulSoup\n",
    "response = requests.get('https://en.wikipedia.org/wiki/Charles_University')\n",
    "soup = BeautifulSoup(response.text,'lxml')\n",
    "div = soup.find('div',{'id':'mw-content-text'}) #  #mw-content-text > div > p:nth-child(10)texts)\n",
    "article = ' '.join([p.text for p in div.find_all('p')])\n",
    "article"
   ]
  },
  {
   "cell_type": "code",
   "execution_count": 208,
   "metadata": {},
   "outputs": [
    {
     "ename": "NameError",
     "evalue": "name 'DEEPAI_API_KEY' is not defined",
     "output_type": "error",
     "traceback": [
      "\u001b[1;31m---------------------------------------------------------------------------\u001b[0m",
      "\u001b[1;31mNameError\u001b[0m                                 Traceback (most recent call last)",
      "\u001b[1;32m<ipython-input-208-9ae40bb6bbd9>\u001b[0m in \u001b[0;36m<module>\u001b[1;34m\u001b[0m\n\u001b[0;32m      5\u001b[0m         \u001b[1;34m'image'\u001b[0m\u001b[1;33m:\u001b[0m \u001b[0mimg\u001b[0m\u001b[1;33m,\u001b[0m\u001b[1;33m\u001b[0m\u001b[1;33m\u001b[0m\u001b[0m\n\u001b[0;32m      6\u001b[0m     },\n\u001b[1;32m----> 7\u001b[1;33m     \u001b[0mheaders\u001b[0m\u001b[1;33m=\u001b[0m\u001b[1;33m{\u001b[0m\u001b[1;34m'api-key'\u001b[0m\u001b[1;33m:\u001b[0m \u001b[0mDEEPAI_API_KEY\u001b[0m\u001b[1;33m}\u001b[0m\u001b[1;33m\u001b[0m\u001b[1;33m\u001b[0m\u001b[0m\n\u001b[0m\u001b[0;32m      8\u001b[0m )\n\u001b[0;32m      9\u001b[0m \u001b[0mr\u001b[0m\u001b[1;33m.\u001b[0m\u001b[0mjson\u001b[0m\u001b[1;33m(\u001b[0m\u001b[1;33m)\u001b[0m\u001b[1;33m\u001b[0m\u001b[1;33m\u001b[0m\u001b[0m\n",
      "\u001b[1;31mNameError\u001b[0m: name 'DEEPAI_API_KEY' is not defined"
     ]
    }
   ],
   "source": [
    "img = 'http://ies.fsv.cuni.cz/default/file/get/id/31996'\n",
    "r = requests.post(\n",
    "    \"https://api.deepai.org/api/demographic-recognition\",\n",
    "    data={\n",
    "        'image': img,\n",
    "    },\n",
    "    headers={'api-key': DEEPAI_API_KEY}\n",
    ")\n",
    "r.json()"
   ]
  },
  {
   "cell_type": "code",
   "execution_count": 209,
   "metadata": {},
   "outputs": [],
   "source": [
    "class Parent:\n",
    "    '''\n",
    "    A very brief and helpful description of the Parent class\n",
    "    '''\n",
    "    def __init__(self,arg):\n",
    "        '''\n",
    "        Exact and brief description of parent's constructor\n",
    "        '''\n",
    "        self.attribute = 'x'\n",
    "        self.id = arg\n",
    "        \n",
    "    def parentMethod(self):\n",
    "        '''\n",
    "        Good description of parentMethod\n",
    "        '''\n",
    "        pass\n",
    "    \n",
    "class Child(Parent):\n",
    "    '''\n",
    "    This is what Child is good for\n",
    "    '''\n",
    "    def __init__(self,arg,desc):\n",
    "        '''\n",
    "        Exact and brief description of Child's contructor\n",
    "        '''\n",
    "        super().__init__(arg)\n",
    "        self.desc = desc\n",
    "    \n",
    "    def childMethod(self,arg):\n",
    "        '''\n",
    "        Good description of childMethod\n",
    "        '''\n",
    "        return len(arg)\n",
    "\n",
    "    \n",
    "par = Parent('A parent')\n",
    "ch = Child(999,'A child')"
   ]
  },
  {
   "cell_type": "markdown",
   "metadata": {},
   "source": [
    "### Task 1\n",
    "plus celkovy navod"
   ]
  },
  {
   "cell_type": "markdown",
   "metadata": {},
   "source": [
    "http://ies.fsv.cuni.cz/en/node/48"
   ]
  },
  {
   "cell_type": "code",
   "execution_count": 216,
   "metadata": {},
   "outputs": [],
   "source": [
    "import requests\n",
    "from bs4 import BeautifulSoup\n",
    "response = requests.get('http://ies.fsv.cuni.cz/en/node/48')\n",
    "soup = BeautifulSoup(response.text,'lxml')\n"
   ]
  },
  {
   "cell_type": "code",
   "execution_count": 217,
   "metadata": {},
   "outputs": [
    {
     "data": {
      "text/plain": [
       "<head>\n",
       "<meta charset=\"utf-8\"/>\n",
       "<meta content=\"IE=edge\" http-equiv=\"X-UA-Compatible\"/>\n",
       "<meta content=\"en\" http-equiv=\"Content-Language\"/>\n",
       "<meta content=\"INDEX,FOLLOW\" name=\"robots\"/>\n",
       "<meta content=\"Global\" name=\"document-distribution\"/>\n",
       "<meta content=\"Public\" name=\"cache-control\"/>\n",
       "<meta content=\"eControl by Motion Media\" name=\"generator\"/>\n",
       "<meta content=\"IES - Institute of economics studies\" name=\"author\"/>\n",
       "<meta content=\"IES - Institute of economics studies\" name=\"copyright\"/>\n",
       "<meta content=\"IES - Institute of economics studies\" name=\"description\"/>\n",
       "<meta content=\"IES,institute,social,economics,cuni,charles,university\" name=\"keywords\"/>\n",
       "<meta content=\"width=device-width, initial-scale=1\" name=\"viewport\"/>\n",
       "<title>IES :: Current faculty</title>\n",
       "<link href=\"/favicon.ico\" rel=\"shortcut icon\" type=\"image/x-icon\"/>\n",
       "<link href=\"/en/rss/1\" rel=\"alternate\" title=\"IES - News\" type=\"application/rss+xml\"/>\n",
       "<link href=\"/en/rss/2\" rel=\"alternate\" title=\"IES - PhD program\" type=\"application/rss+xml\"/>\n",
       "<link href=\"apple-touch-icon.png\" rel=\"apple-touch-icon\"/>\n",
       "<!-- Place favicon.ico in the root directory -->\n",
       "<link href=\"/css/common.css\" rel=\"stylesheet\"/>\n",
       "<script src=\"/js/vendor/modernizr-2.8.3.min.js\"></script>\n",
       "<script src=\"//ajax.googleapis.com/ajax/libs/jquery/1.11.2/jquery.min.js\"></script>\n",
       "<script>window.jQuery || document.write('<script src=\"/js/vendor/jquery-1.11.2.min.js\"><\\/script>')</script>\n",
       "<script type=\"text/javascript\">  \n",
       "          jQuery.noConflict();\n",
       "        </script>\n",
       "<script src=\"/js/jquery.caroufredsel.min.js\"></script>\n",
       "<script src=\"/js/jquery.lightbox.min.js\"></script>\n",
       "<!-- HTML5 shim and Respond.js IE8 support of HTML5 elements and media queries -->\n",
       "<!--[if lt IE 9]>\n",
       "          <script src=\"/js/vendor/html5shiv.js\"></script>\n",
       "          <script src=\"/js/vendor/respond.min.js\"></script>\n",
       "        <![endif]-->\n",
       "</head>"
      ]
     },
     "execution_count": 217,
     "metadata": {},
     "output_type": "execute_result"
    }
   ],
   "source": [
    "soup.find('head')"
   ]
  },
  {
   "cell_type": "code",
   "execution_count": 221,
   "metadata": {},
   "outputs": [
    {
     "data": {
      "text/plain": [
       "<td class=\"peopleTableCellAcf\">\n",
       "                                                                Associate Professor\n",
       "\n",
       "                          </td>"
      ]
     },
     "execution_count": 221,
     "metadata": {},
     "output_type": "execute_result"
    }
   ],
   "source": [
    "tituly=soup.find('td',{'class':\"peopleTableCellAcf\"})\n",
    "tituly"
   ]
  },
  {
   "cell_type": "code",
   "execution_count": 226,
   "metadata": {},
   "outputs": [
    {
     "data": {
      "text/plain": [
       "<body>\n",
       "<!--[if lt IE 8]>\n",
       "            <p class=\"browserupgrade\">You are using an <strong>outdated</strong> browser. Please <a href=\"http://browsehappy.com/\">upgrade your browser</a> to improve your experience.</p>\n",
       "        <![endif]-->\n",
       "<header id=\"topAnchor\">\n",
       "<div class=\"header-top\">\n",
       "<div class=\"container\">\n",
       "<div class=\"row\">\n",
       "<div class=\"col-lg-5 col-md-7 col-sm-7 col-xs-12 header-right\">\n",
       "<div class=\"row header-links\">\n",
       "<div class=\"col-sm-12 col-xs-9\">\n",
       "<ul>\n",
       "<li>\n",
       "<a href=\"http://ies.fsv.cuni.cz/default/admin_auth/login/\" target=\"_blank\" title=\"\">E-Control</a>\n",
       "</li>\n",
       "<li>\n",
       "<a href=\"/en/node/263\" title=\"\">Contact</a>\n",
       "</li>\n",
       "<li>\n",
       "<a href=\"http://fsveng.fsv.cuni.cz/\" target=\"_blank\" title=\"\">FSV UK</a>\n",
       "</li>\n",
       "<li>\n",
       "<a href=\"http://dl1.cuni.cz/course/index.php?categoryid=44\" target=\"_blank\" title=\"\">Moodle</a>\n",
       "</li>\n",
       "<li>\n",
       "<a href=\"https://is.cuni.cz/studium/\" target=\"_blank\" title=\"\">SIS</a>\n",
       "</li>\n",
       "<li>\n",
       "<a href=\"http://karolinka.fsv.cuni.cz\" target=\"_blank\" title=\"\">Karolinka</a>\n",
       "</li>\n",
       "</ul>\n",
       "</div>\n",
       "<div class=\"header-info\">\n",
       "<div class=\"col-md-5 col-sm-4 no-padding align-center\">\n",
       "<a href=\"https://www.facebook.com/pages/IES-FSV-UK/119722473676\" target=\"_blank\" title=\"facebook\">\n",
       "<img src=\"/img/fb.svg\" width=\"24\"/>\n",
       "</a>\n",
       "                                         \n",
       "                                        <a href=\"https://www.linkedin.com/school/iesfsvcuni/\" target=\"_blank\" title=\"linkedin\">\n",
       "<img src=\"/img/linkedin.svg\" width=\"24\"/>\n",
       "</a>\n",
       "</div>\n",
       "<div class=\"col-md-5 col-sm-6 hidden-xs no-padding\">\n",
       "<form action=\"/default/index/search/lang/en\" method=\"get\">\n",
       "<input name=\"search[text]\" placeholder=\"Enter search term\" required=\"\" type=\"search\"/>\n",
       "<button class=\"no-padding\" title=\"Click for search\" type=\"submit\"></button>\n",
       "</form>\n",
       "</div>\n",
       "<div class=\"col-md-2 col-sm-2 col-xs-3 lang\">\n",
       "<a href=\"/cs/node/48\" title=\"Czech language\">cz</a>\n",
       "<a class=\"active\" href=\"\" title=\"English language\">en</a>\n",
       "</div>\n",
       "</div>\n",
       "</div>\n",
       "</div>\n",
       "<div class=\"col-lg-7 col-md-5 col-sm-5 col-xs-12 logo\">\n",
       "<a href=\"/\" title=\"Institute of Economic Studies\">\n",
       "<img alt=\"Logo\" src=\"/img/logo.png\"/>\n",
       "</a>\n",
       "<h1>\n",
       "                                Institute of Economic Studies<br/>\n",
       "<small>Faculty of Social Sciences<br/>Charles University</small>\n",
       "</h1>\n",
       "</div>\n",
       "</div>\n",
       "</div>\n",
       "</div>\n",
       "<nav class=\"navbar yamm navbar-default\" role=\"navigation\">\n",
       "<div class=\"container-fluid\">\n",
       "<!-- Brand and toggle get grouped for better mobile display -->\n",
       "<div class=\"navbar-header\">\n",
       "<button class=\"navbar-toggle collapsed\" data-target=\"#collapse-menu\" data-toggle=\"collapse\" type=\"button\">\n",
       "<span class=\"sr-only\">Toggle navigation</span>\n",
       "<span class=\"icon-bar\"></span>\n",
       "<span class=\"icon-bar\"></span>\n",
       "<span class=\"icon-bar\"></span>\n",
       "</button>\n",
       "</div>\n",
       "<div class=\"collapse navbar-collapse\" id=\"collapse-menu\">\n",
       "<ul class=\"nav navbar-nav\">\n",
       "<li class=\"dropdown\">\n",
       "<a aria-expanded=\"false\" class=\"dropdown-toggle\" data-toggle=\"dropdown\" href=\"/en/node/20\" role=\"button\" title=\"About us\">About us</a>\n",
       "<ul class=\"dropdown-menu\" role=\"menu\">\n",
       "<li>\n",
       "<div class=\"yamm-content\">\n",
       "<div class=\"row\">\n",
       "<div class=\"col-sm-4 col-xs-12\">\n",
       "<h5>Profile</h5>\n",
       "<ul>\n",
       "<li>\n",
       "<a href=\"/en/node/264\" title=\"About us\">About us</a>\n",
       "</li>\n",
       "<li>\n",
       "<a href=\"/en/node/386\" title=\"Global rankings\">Global rankings</a>\n",
       "</li>\n",
       "<li>\n",
       "<a href=\"/en/node/290\" title=\"Charles University\">Charles University</a>\n",
       "</li>\n",
       "</ul>\n",
       "<h5>Education</h5>\n",
       "<ul>\n",
       "<li>\n",
       "<a href=\"/en/node/63\" title=\"Study programs\">Study programs</a>\n",
       "</li>\n",
       "<li>\n",
       "<a href=\"/en/node/306\" title=\"Visiting professors\">Visiting professors</a>\n",
       "</li>\n",
       "<li>\n",
       "<a href=\"/en/node/65\" title=\"CFA Institute University Affiliation\">CFA Institute University Affiliation</a>\n",
       "</li>\n",
       "</ul>\n",
       "<h5>Organization</h5>\n",
       "<ul>\n",
       "<li>\n",
       "<a href=\"/en/node/37\" title=\"Management\">Management</a>\n",
       "</li>\n",
       "<li>\n",
       "<a href=\"/en/node/34\" title=\"Advisory Board\">Advisory Board</a>\n",
       "</li>\n",
       "<li>\n",
       "<a href=\"/en/node/305\" title=\"Corporate support\">Corporate support</a>\n",
       "</li>\n",
       "</ul>\n",
       "</div>\n",
       "<div class=\"col-sm-4 col-xs-12\">\n",
       "<h5>Members</h5>\n",
       "<ul>\n",
       "<li>\n",
       "<a href=\"/en/node/48\" title=\"Current faculty\">Current faculty</a>\n",
       "</li>\n",
       "<li>\n",
       "<a href=\"/en/node/49\" title=\"External lecturers\">External lecturers</a>\n",
       "</li>\n",
       "<li>\n",
       "<a href=\"/en/node/51\" title=\"PhD candidates\">PhD candidates</a>\n",
       "</li>\n",
       "<li>\n",
       "<a href=\"/en/node/50\" title=\"Administration\">Administration</a>\n",
       "</li>\n",
       "<li>\n",
       "<a href=\"/en/node/53\" title=\"By departments\">By departments</a>\n",
       "</li>\n",
       "<li>\n",
       "<a href=\"/en/node/52\" title=\"Distinguished faculty\">Distinguished faculty</a>\n",
       "</li>\n",
       "</ul>\n",
       "<h5>Alumni</h5>\n",
       "<ul>\n",
       "<li>\n",
       "<a href=\"/en/node/265\" title=\"Awards and prizes\">Awards and prizes</a>\n",
       "</li>\n",
       "<li>\n",
       "<a href=\"/en/node/44\" title=\"Profiles of graduates\">Profiles of graduates</a>\n",
       "</li>\n",
       "<li>\n",
       "<a href=\"/en/node/45\" title=\"Alumni Association\">Alumni Association</a>\n",
       "</li>\n",
       "<li>\n",
       "<a href=\"/en/node/43\" title=\"Placement\">Placement</a>\n",
       "</li>\n",
       "<li>\n",
       "<a href=\"/en/node/109\" title=\"Theses\">Theses</a>\n",
       "</li>\n",
       "</ul>\n",
       "</div>\n",
       "<div class=\"col-sm-4 col-xs-12\">\n",
       "<h5>Research</h5>\n",
       "<ul>\n",
       "<li>\n",
       "<a href=\"/en/node/60\" title=\"Overview\">Overview</a>\n",
       "</li>\n",
       "<li>\n",
       "<a href=\"/en/node/59\" title=\"Awards\">Awards</a>\n",
       "</li>\n",
       "<li>\n",
       "<a href=\"/en/node/401\" title=\"Citations\">Citations</a>\n",
       "</li>\n",
       "<li>\n",
       "<a href=\"/en/node/410\" title=\"Research seminars\">Research seminars</a>\n",
       "</li>\n",
       "<li>\n",
       "<a href=\"/en/node/340\" title=\"Research groups and datasets\">Research groups and datasets</a>\n",
       "</li>\n",
       "<li>\n",
       "<a href=\"/en/node/58\" title=\"Publications\">Publications</a>\n",
       "</li>\n",
       "<li>\n",
       "<a href=\"/en/node/57\" title=\"Working Papers\">Working Papers</a>\n",
       "</li>\n",
       "<li>\n",
       "<a href=\"/en/node/56\" title=\"Occassional Papers\">Occassional Papers</a>\n",
       "</li>\n",
       "</ul>\n",
       "<h5>Conferences and Grants</h5>\n",
       "<ul>\n",
       "<li>\n",
       "<a href=\"/en/node/143\" title=\"Our conferences\">Our conferences</a>\n",
       "</li>\n",
       "<li>\n",
       "<a href=\"/en/node/40\" title=\"Conferences\">Conferences</a>\n",
       "</li>\n",
       "<li>\n",
       "<a href=\"/en/node/155\" title=\"Grants\">Grants</a>\n",
       "</li>\n",
       "</ul>\n",
       "</div>\n",
       "<div class=\"clearfix\"></div>\n",
       "</div>\n",
       "</div>\n",
       "</li>\n",
       "</ul>\n",
       "</li>\n",
       "<li class=\"dropdown\">\n",
       "<a aria-expanded=\"false\" class=\"dropdown-toggle\" data-toggle=\"dropdown\" href=\"/en/node/21\" role=\"button\" title=\"For applicants\">For applicants</a>\n",
       "<ul class=\"dropdown-menu\" role=\"menu\">\n",
       "<li>\n",
       "<div class=\"yamm-content\">\n",
       "<div class=\"row\">\n",
       "<div class=\"col-sm-4 col-xs-12\">\n",
       "<h5>First step to success</h5>\n",
       "<ul>\n",
       "<li>\n",
       "<a href=\"/en/node/67\" title=\"Why Charles University in Prague?\">Why Charles University in Prague?</a>\n",
       "</li>\n",
       "<li>\n",
       "<a href=\"/en/node/269\" title=\"Open Day\">Open Day</a>\n",
       "</li>\n",
       "<li>\n",
       "<a href=\"/en/node/300\" title=\"Graduate profile\">Graduate profile</a>\n",
       "</li>\n",
       "</ul>\n",
       "</div>\n",
       "<div class=\"col-sm-4 col-xs-12\">\n",
       "<h5>Study programs</h5>\n",
       "<ul>\n",
       "<li>\n",
       "<a a=\"\" ekonomie=\"\" finance=\"\" href=\"/en/node/294\" title=\"Bachelor's program \">Bachelor's program \"Ekonomie a finance\" </a>\n",
       "</li>\n",
       "<li>\n",
       "<a href=\"/en/node/295\" title=\"Bachelor in Economics and Finance (BEF)\">Bachelor in Economics and Finance (BEF)</a>\n",
       "</li>\n",
       "<li>\n",
       "<a a=\"\" ekonomie=\"\" finance=\"\" href=\"/en/node/296\" title=\"Master's program \">Master's program \"Ekonomie a finance\"</a>\n",
       "</li>\n",
       "<li>\n",
       "<a href=\"/en/node/297\" title=\"Master in Economics and Finance (MEF)\">Master in Economics and Finance (MEF)</a>\n",
       "</li>\n",
       "<li>\n",
       "<a href=\"/en/node/298\" title=\"Corporate Strategy and Finance (CSF)\">Corporate Strategy and Finance (CSF)</a>\n",
       "</li>\n",
       "<li>\n",
       "<a href=\"/en/node/301\" title=\"Doctoral Program in Economics and Finance\">Doctoral Program in Economics and Finance</a>\n",
       "</li>\n",
       "<li>\n",
       "<a href=\"/en/node/368\" title=\"Life-long education courses\">Life-long education courses</a>\n",
       "</li>\n",
       "</ul>\n",
       "</div>\n",
       "<div class=\"col-sm-4 col-xs-12\">\n",
       "<h5>Admission</h5>\n",
       "<ul>\n",
       "<li>\n",
       "<a href=\"/en/node/69\" title=\"Bachelor in Economics and Finance (BEF)\">Bachelor in Economics and Finance (BEF)</a>\n",
       "</li>\n",
       "<li>\n",
       "<a href=\"/en/node/70\" title=\"Master's degrees (MEF and CSF)\">Master's degrees (MEF and CSF)</a>\n",
       "</li>\n",
       "<li>\n",
       "<a href=\"/en/node/186\" title=\"PhD Program\">PhD Program</a>\n",
       "</li>\n",
       "<li>\n",
       "<a href=\"/en/node/349\" title=\"Advanced Placement (AP) tests\">Advanced Placement (AP) tests</a>\n",
       "</li>\n",
       "<li>\n",
       "<a href=\"/en/node/187\" title=\"FAQ\">FAQ</a>\n",
       "</li>\n",
       "</ul>\n",
       "</div>\n",
       "<div class=\"clearfix\"></div>\n",
       "</div>\n",
       "</div>\n",
       "</li>\n",
       "</ul>\n",
       "</li>\n",
       "<li class=\"dropdown\">\n",
       "<a aria-expanded=\"false\" class=\"dropdown-toggle\" data-toggle=\"dropdown\" href=\"/en/node/22\" role=\"button\" title=\"For students\">For students</a>\n",
       "<ul class=\"dropdown-menu\" role=\"menu\">\n",
       "<li>\n",
       "<div class=\"yamm-content\">\n",
       "<div class=\"row\">\n",
       "<div class=\"col-sm-4 col-xs-12\">\n",
       "<h5>Useful information</h5>\n",
       "<ul>\n",
       "<li>\n",
       "<a href=\"/en/node/274\" title=\"Recommended timetables\">Recommended timetables</a>\n",
       "</li>\n",
       "<li>\n",
       "<a href=\"/en/node/80\" title=\"Academic Calendar\">Academic Calendar</a>\n",
       "</li>\n",
       "<li>\n",
       "<a href=\"/en/node/84\" title=\"Office hours\">Office hours</a>\n",
       "</li>\n",
       "<li>\n",
       "<a href=\"/en/node/188\" title=\"Databases and software\">Databases and software</a>\n",
       "</li>\n",
       "<li>\n",
       "<a href=\"/en/node/189\" title=\"Libraries\">Libraries</a>\n",
       "</li>\n",
       "<li>\n",
       "<a href=\"/en/node/79\" title=\"Catch-up lessons market\">Catch-up lessons market</a>\n",
       "</li>\n",
       "<li>\n",
       "<a href=\"/en/node/275\" title=\"FAQ\">FAQ</a>\n",
       "</li>\n",
       "</ul>\n",
       "<h5>Certificates</h5>\n",
       "<ul>\n",
       "<li>\n",
       "<a href=\"/en/node/99\" title=\"CFA Program Awareness Scholarships\">CFA Program Awareness Scholarships</a>\n",
       "</li>\n",
       "<li>\n",
       "<a href=\"/en/node/387\" title=\"ACCA Exemption Accreditation\">ACCA Exemption Accreditation</a>\n",
       "</li>\n",
       "</ul>\n",
       "</div>\n",
       "<div class=\"col-sm-4 col-xs-12\">\n",
       "<h5>Study programs</h5>\n",
       "<ul>\n",
       "<li>\n",
       "<a href=\"/en/node/91\" title=\"Bachelor degrees\">Bachelor degrees</a>\n",
       "</li>\n",
       "<li>\n",
       "<a href=\"/en/node/318\" title=\"Master degrees\">Master degrees</a>\n",
       "</li>\n",
       "<li>\n",
       "<a href=\"/en/node/94\" title=\"Ph.D. degree\">Ph.D. degree</a>\n",
       "</li>\n",
       "<li>\n",
       "<a href=\"/en/node/277\" title=\"Math courses recognition\">Math courses recognition</a>\n",
       "</li>\n",
       "<li>\n",
       "<a href=\"/en/node/93\" title=\"Visiting Masterâs at CERGE-EI\">Visiting Masterâs at CERGE-EI</a>\n",
       "</li>\n",
       "<li>\n",
       "<a href=\"/en/node/95\" title=\"National (PhDr.) Exam\">National (PhDr.) Exam</a>\n",
       "</li>\n",
       "</ul>\n",
       "<h5>Study abroad</h5>\n",
       "<ul>\n",
       "<li>\n",
       "<a href=\"/en/node/97\" title=\"Erasmus+\">Erasmus+</a>\n",
       "</li>\n",
       "<li>\n",
       "<a href=\"/en/node/98\" title=\"Study abroad \">Study abroad </a>\n",
       "</li>\n",
       "<li>\n",
       "<a href=\"/en/node/286\" title=\"Degrees abroad\">Degrees abroad</a>\n",
       "</li>\n",
       "<li>\n",
       "<a href=\"/en/node/375\" title=\"Summer schools\">Summer schools</a>\n",
       "</li>\n",
       "</ul>\n",
       "</div>\n",
       "<div class=\"col-sm-4 col-xs-12\">\n",
       "<h5>Career</h5>\n",
       "<ul>\n",
       "<li>\n",
       "<a href=\"/en/node/72\" title=\"Career Advisor \">Career Advisor </a>\n",
       "</li>\n",
       "<li>\n",
       "<a href=\"/en/node/73\" title=\"Available internships\">Available internships</a>\n",
       "</li>\n",
       "<li>\n",
       "<a href=\"/en/node/74\" title=\"Internship for Bachelor students JEB134\">Internship for Bachelor students JEB134</a>\n",
       "</li>\n",
       "<li>\n",
       "<a href=\"/en/node/75\" title=\"Internship for Master students JEM201\">Internship for Master students JEM201</a>\n",
       "</li>\n",
       "<li>\n",
       "<a href=\"/en/node/76\" title=\"Mentoring\">Mentoring</a>\n",
       "</li>\n",
       "<li>\n",
       "<a href=\"/en/node/371\" title=\"Career abroad\">Career abroad</a>\n",
       "</li>\n",
       "</ul>\n",
       "<h5>Competitions</h5>\n",
       "<ul>\n",
       "<li>\n",
       "<a href=\"/en/node/190\" title=\"Thesis and essay competitions\">Thesis and essay competitions</a>\n",
       "</li>\n",
       "<li>\n",
       "<a href=\"/en/node/191\" title=\"Team competitions\">Team competitions</a>\n",
       "</li>\n",
       "</ul>\n",
       "</div>\n",
       "<div class=\"clearfix\"></div>\n",
       "</div>\n",
       "</div>\n",
       "</li>\n",
       "</ul>\n",
       "</li>\n",
       "<li class=\"mobile-search hidden-sm hidden-md hidden-lg\">\n",
       "<form action=\"/default/index/search/lang/en\" method=\"get\">\n",
       "<input name=\"search[text]\" placeholder=\"Enter search term\" required=\"\" type=\"search\"/>\n",
       "<button class=\"no-padding\" title=\"Click for search\" type=\"submit\"></button>\n",
       "</form>\n",
       "</li>\n",
       "</ul>\n",
       "</div>\n",
       "</div>\n",
       "</nav>\n",
       "<div class=\"header-bottom\">\n",
       "<div class=\"container\">\n",
       "<div class=\"row\">\n",
       "<div class=\"col-sm-12\">\n",
       "<h2>Current faculty</h2>\n",
       "</div>\n",
       "</div>\n",
       "</div>\n",
       "</div>\n",
       "<div class=\"breadcrumb\">\n",
       "<div class=\"container\">\n",
       "<div class=\"row\">\n",
       "<div class=\"col-sm-12\">\n",
       "<a href=\"/\" title=\"IES\">IES</a>\n",
       "<a href=\"/en/node/20\" title=\"About us\">About us</a>\n",
       "<a href=\"/en/node/47\" title=\"Members\">Members</a>\n",
       "<span>Current faculty</span>\n",
       "</div>\n",
       "</div>\n",
       "</div>\n",
       "</div>\n",
       "</header> <section class=\"content\">\n",
       "<div class=\"container no-padding\">\n",
       "<div class=\"row\">\n",
       "<div class=\"col-sm-12\">\n",
       "<table cellspacing=\"0\" class=\"list\" summary=\"Current faculty\">\n",
       "<tr>\n",
       "<th> </th>\n",
       "<th> </th>\n",
       "<th style=\"text-align: left\">Academic function</th>\n",
       "<th style=\"text-align: left\">Field of interest</th>\n",
       "</tr>\n",
       "<tr>\n",
       "<td>\n",
       "<div alt=\"Photo\" style=\"display: inline-block;\n",
       "                                              height: 133px;\n",
       "                                              width: 100px;\n",
       "                                              background: url('/default/file/get/id/32519') no-repeat center center;\n",
       "                                              background-size: cover ;\n",
       "                                              \">\n",
       "</div>\n",
       "</td>\n",
       "<td class=\"peopleTableCellName\">\n",
       "<a href=\"/en/staff/barunik\"><b>doc. PhDr. Jozef BarunÃ­k Ph.D.</b></a>\n",
       "</td>\n",
       "<td class=\"peopleTableCellAcf\">\n",
       "                                                                Associate Professor\n",
       "\n",
       "                          </td>\n",
       "<td>\n",
       "                             Financial Economics, Financial Econometrics\n",
       "                          </td>\n",
       "</tr>\n",
       "<tr>\n",
       "<td>\n",
       "<div alt=\"Photo\" style=\"display: inline-block;\n",
       "                                              height: 133px;\n",
       "                                              width: 100px;\n",
       "                                              background: url('/default/file/get/id/30207') no-repeat center center;\n",
       "                                              background-size: cover ;\n",
       "                                              \">\n",
       "</div>\n",
       "</td>\n",
       "<td class=\"peopleTableCellName\">\n",
       "<a href=\"/en/staff/bauerm\"><b>doc. PhDr. Michal Bauer Ph.D.</b></a>\n",
       "</td>\n",
       "<td class=\"peopleTableCellAcf\">\n",
       "                                                                Associate Professor\n",
       "\n",
       "                          </td>\n",
       "<td>\n",
       "                             Development Economics, Behavioral Economics, Experimental Economics\n",
       "                          </td>\n",
       "</tr>\n",
       "<tr>\n",
       "<td>\n",
       "<div alt=\"Photo\" style=\"display: inline-block;\n",
       "                                              height: 133px;\n",
       "                                              width: 100px;\n",
       "                                              background: url('/default/file/get/id/28915') no-repeat center center;\n",
       "                                              background-size: cover ;\n",
       "                                              \">\n",
       "</div>\n",
       "</td>\n",
       "<td class=\"peopleTableCellName\">\n",
       "<a href=\"/en/staff/baxajaromir\"><b>PhDr. JaromÃ­r Baxa Ph.D.</b></a>\n",
       "</td>\n",
       "<td class=\"peopleTableCellAcf\">\n",
       "                                                                Assistant Professor\n",
       "\n",
       "                          </td>\n",
       "<td>\n",
       "                             Macroeconomics, Institutional Economics\n",
       "                          </td>\n",
       "</tr>\n",
       "<tr>\n",
       "<td>\n",
       "<div alt=\"Photo\" style=\"display: inline-block;\n",
       "                                              height: 133px;\n",
       "                                              width: 100px;\n",
       "                                              background: url('/default/file/get/id/32607') no-repeat center center;\n",
       "                                              background-size: cover ;\n",
       "                                              \">\n",
       "</div>\n",
       "</td>\n",
       "<td class=\"peopleTableCellName\">\n",
       "<a href=\"/en/staff/bertoli\"><b> Paola Bertoli M.A., MSc., Ph.D.</b></a>\n",
       "</td>\n",
       "<td class=\"peopleTableCellAcf\">\n",
       "                                                                Assistant Professor\n",
       "\n",
       "                          </td>\n",
       "<td>\n",
       "                             Health Economics, Health Econometrics\n",
       "                          </td>\n",
       "</tr>\n",
       "<tr>\n",
       "<td>\n",
       "<div alt=\"Photo\" style=\"display: inline-block;\n",
       "                                              height: 133px;\n",
       "                                              width: 100px;\n",
       "                                              background: url('/default/file/get/id/31741') no-repeat center center;\n",
       "                                              background-size: cover ;\n",
       "                                              \">\n",
       "</div>\n",
       "</td>\n",
       "<td class=\"peopleTableCellName\">\n",
       "<a href=\"/en/staff/antosova\"><b>PhDr. Lucie BryndovÃ¡ </b></a>\n",
       "</td>\n",
       "<td class=\"peopleTableCellAcf\">\n",
       "                                                                Adjunct Lecturer, Research Fellow\n",
       "\n",
       "                          </td>\n",
       "<td>\n",
       "                             Health Economics, Health Policy\n",
       "                          </td>\n",
       "</tr>\n",
       "<tr>\n",
       "<td>\n",
       "<div alt=\"Photo\" style=\"display: inline-block;\n",
       "                                              height: 133px;\n",
       "                                              width: 100px;\n",
       "                                              background: url('/default/file/get/id/29102') no-repeat center center;\n",
       "                                              background-size: cover ;\n",
       "                                              \">\n",
       "</div>\n",
       "</td>\n",
       "<td class=\"peopleTableCellName\">\n",
       "<a href=\"/en/staff/cahlik\"><b>doc. Ing. TomÃ¡Å¡ CahlÃ­k CSc.</b></a>\n",
       "</td>\n",
       "<td class=\"peopleTableCellAcf\">\n",
       "                                                                Vice Dean for Graduate Studies, Associate Professor\n",
       "\n",
       "                          </td>\n",
       "<td>\n",
       "                             Macroeconomics, Economic Development and Growth, Comparative Economics, Integration, Scientometrics\n",
       "                          </td>\n",
       "</tr>\n",
       "<tr>\n",
       "<td>\n",
       "<div alt=\"Photo\" style=\"display: inline-block;\n",
       "                                              height: 133px;\n",
       "                                              width: 100px;\n",
       "                                              background: url('/default/file/get/id/31882') no-repeat center center;\n",
       "                                              background-size: cover ;\n",
       "                                              \">\n",
       "</div>\n",
       "</td>\n",
       "<td class=\"peopleTableCellName\">\n",
       "<a href=\"/en/staff/fcech\"><b>PhDr. FrantiÅ¡ek Äech Ph.D.</b></a>\n",
       "</td>\n",
       "<td class=\"peopleTableCellAcf\">\n",
       "                                                                Assistant Professor\n",
       "\n",
       "                          </td>\n",
       "<td>\n",
       "                             Asset Pricing; Financial Econometrics; Time-Series Models; Portfolio Choice; International Financial Markets\n",
       "                          </td>\n",
       "</tr>\n",
       "<tr>\n",
       "<td>\n",
       "<div alt=\"Photo\" style=\"display: inline-block;\n",
       "                                              height: 133px;\n",
       "                                              width: 100px;\n",
       "                                              background: url('/default/file/get/id/31769') no-repeat center center;\n",
       "                                              background-size: cover ;\n",
       "                                              \">\n",
       "</div>\n",
       "</td>\n",
       "<td class=\"peopleTableCellName\">\n",
       "<a href=\"/en/staff/cervinka\"><b>RNDr. Michal Äervinka Ph.D.</b></a>\n",
       "</td>\n",
       "<td class=\"peopleTableCellAcf\">\n",
       "                                                                Senior Lecturer\n",
       "\n",
       "                          </td>\n",
       "<td>\n",
       "                             Oligopoly Markets, Nash and Generalized Nash Equilibria, Modern Variational Analysis, Nonsmooth Optimization, Sensitivity Analysis of Generalized Equations\n",
       "                          </td>\n",
       "</tr>\n",
       "<tr>\n",
       "<td>\n",
       "<div alt=\"Photo\" style=\"display: inline-block;\n",
       "                                              height: 133px;\n",
       "                                              width: 100px;\n",
       "                                              background: url('/default/file/get/id/32512') no-repeat center center;\n",
       "                                              background-size: cover ;\n",
       "                                              \">\n",
       "</div>\n",
       "</td>\n",
       "<td class=\"peopleTableCellName\">\n",
       "<a href=\"/en/staff/chytilova\"><b>doc. PhDr. Julie ChytilovÃ¡ Ph.D.</b></a>\n",
       "</td>\n",
       "<td class=\"peopleTableCellAcf\">\n",
       "                                                                Associate Professor, Head of Department of Institutional Economics, Director of Undergraduate Studies\n",
       "\n",
       "                          </td>\n",
       "<td>\n",
       "                             Behavioral Economics, Experimental Economics, Development Economics, Social Preferences, Time Preferences and Self-control, Individual and Group Decision-making, Discrimination\n",
       "                          </td>\n",
       "</tr>\n",
       "<tr>\n",
       "<td>\n",
       "<div alt=\"Photo\" style=\"display: inline-block;\n",
       "                                              height: 133px;\n",
       "                                              width: 100px;\n",
       "                                              background: url('/default/file/get/id/28941') no-repeat center center;\n",
       "                                              background-size: cover ;\n",
       "                                              \">\n",
       "</div>\n",
       "</td>\n",
       "<td class=\"peopleTableCellName\">\n",
       "<a href=\"/en/staff/dedek\"><b>prof. Ing. OldÅich DÄdek CSc.</b></a>\n",
       "</td>\n",
       "<td class=\"peopleTableCellAcf\">\n",
       "                                                                Professor\n",
       "\n",
       "                          </td>\n",
       "<td>\n",
       "                             Monetary Policy, European Integration\n",
       "                          </td>\n",
       "</tr>\n",
       "<tr>\n",
       "<td>\n",
       "<div alt=\"Photo\" style=\"display: inline-block;\n",
       "                                              height: 133px;\n",
       "                                              width: 100px;\n",
       "                                              background: url('/default/file/get/id/32420') no-repeat center center;\n",
       "                                              background-size: cover ;\n",
       "                                              \">\n",
       "</div>\n",
       "</td>\n",
       "<td class=\"peopleTableCellName\">\n",
       "<a href=\"/en/staff/dolezalova\"><b>doc. PhDr. Ing. Antonie DoleÅ¾alovÃ¡ Ph.D.</b></a>\n",
       "</td>\n",
       "<td class=\"peopleTableCellAcf\">\n",
       "                                                                Senior Lecturer\n",
       "\n",
       "                          </td>\n",
       "<td>\n",
       "                             Economic History\n",
       "History of Economic Thought\n",
       "Historiography and Methodology\n",
       "                          </td>\n",
       "</tr>\n",
       "<tr>\n",
       "<td>\n",
       "<div alt=\"Photo\" style=\"display: inline-block;\n",
       "                                              height: 133px;\n",
       "                                              width: 100px;\n",
       "                                              background: url('/default/file/get/id/28601') no-repeat center center;\n",
       "                                              background-size: cover ;\n",
       "                                              \">\n",
       "</div>\n",
       "</td>\n",
       "<td class=\"peopleTableCellName\">\n",
       "<a href=\"/en/staff/gersl\"><b>doc. PhDr. Adam GerÅ¡l Ph.D.</b></a>\n",
       "</td>\n",
       "<td class=\"peopleTableCellAcf\">\n",
       "                                                                Associate Professor\n",
       "\n",
       "                          </td>\n",
       "<td>\n",
       "                             Financial Stability, International Finance, Political Economy, Foreign Direct Investment, Corporate Finance\n",
       "                          </td>\n",
       "</tr>\n",
       "<tr>\n",
       "<td>\n",
       "<div alt=\"Photo\" style=\"display: inline-block;\n",
       "                                              height: 133px;\n",
       "                                              width: 100px;\n",
       "                                              background: url('/default/file/get/id/31970') no-repeat center center;\n",
       "                                              background-size: cover ;\n",
       "                                              \">\n",
       "</div>\n",
       "</td>\n",
       "<td class=\"peopleTableCellName\">\n",
       "<a href=\"/en/staff/gregor\"><b>doc. PhDr. Martin Gregor Ph.D.</b></a>\n",
       "</td>\n",
       "<td class=\"peopleTableCellAcf\">\n",
       "                                                                Director, Associate Professor\n",
       "\n",
       "                          </td>\n",
       "<td>\n",
       "                             Applied Microeconomic Theory, Organizational Economics, Political Economy\n",
       "                          </td>\n",
       "</tr>\n",
       "<tr>\n",
       "<td>\n",
       "<div alt=\"Photo\" style=\"display: inline-block;\n",
       "                                              height: 133px;\n",
       "                                              width: 100px;\n",
       "                                              background: url('/default/file/get/id/31421') no-repeat center center;\n",
       "                                              background-size: cover ;\n",
       "                                              \">\n",
       "</div>\n",
       "</td>\n",
       "<td class=\"peopleTableCellName\">\n",
       "<a href=\"/en/staff/havranek\"><b>doc. PhDr. TomÃ¡Å¡ HavrÃ¡nek Ph.D.</b></a>\n",
       "</td>\n",
       "<td class=\"peopleTableCellAcf\">\n",
       "                                                                Associate Professor\n",
       "\n",
       "                          </td>\n",
       "<td>\n",
       "                             International Trade, Monetary Policy, Meta-Analysis\n",
       "                          </td>\n",
       "</tr>\n",
       "<tr>\n",
       "<td>\n",
       "<div alt=\"Photo\" style=\"display: inline-block;\n",
       "                                              height: 133px;\n",
       "                                              width: 100px;\n",
       "                                              background: url('/default/file/get/id/30617') no-repeat center center;\n",
       "                                              background-size: cover ;\n",
       "                                              \">\n",
       "</div>\n",
       "</td>\n",
       "<td class=\"peopleTableCellName\">\n",
       "<a href=\"/en/staff/irsova\"><b>doc. PhDr. Zuzana HavrÃ¡nkovÃ¡ Ph.D.</b></a>\n",
       "</td>\n",
       "<td class=\"peopleTableCellAcf\">\n",
       "                                                                Associate Professor\n",
       "\n",
       "                          </td>\n",
       "<td>\n",
       "                             Efficiency Analysis, Meta-analysis, Resource and Energy Economics\n",
       "                          </td>\n",
       "</tr>\n",
       "<tr>\n",
       "<td>\n",
       "<div alt=\"Photo\" style=\"display: inline-block;\n",
       "                                              height: 133px;\n",
       "                                              width: 100px;\n",
       "                                              background: url('/default/file/get/id/28588') no-repeat center center;\n",
       "                                              background-size: cover ;\n",
       "                                              \">\n",
       "</div>\n",
       "</td>\n",
       "<td class=\"peopleTableCellName\">\n",
       "<a href=\"/en/staff/hlavacekm\"><b>PhDr. Michal HlavÃ¡Äek Ph.D.</b></a>\n",
       "</td>\n",
       "<td class=\"peopleTableCellAcf\">\n",
       "                                                                Senior Lecturer\n",
       "\n",
       "                          </td>\n",
       "<td>\n",
       "                             Macroeconomics\n",
       "                          </td>\n",
       "</tr>\n",
       "<tr>\n",
       "<td>\n",
       "<div alt=\"Photo\" style=\"display: inline-block;\n",
       "                                              height: 133px;\n",
       "                                              width: 100px;\n",
       "                                              background: url('/default/file/get/id/26537') no-repeat center center;\n",
       "                                              background-size: cover ;\n",
       "                                              \">\n",
       "</div>\n",
       "</td>\n",
       "<td class=\"peopleTableCellName\">\n",
       "<a href=\"/en/staff/hollmannov\"><b>Ing. Monika HollmannovÃ¡ </b></a>\n",
       "</td>\n",
       "<td class=\"peopleTableCellAcf\">\n",
       "                                                                Senior Lecturer, Chief Administrator\n",
       "\n",
       "                          </td>\n",
       "<td>\n",
       "                             Accounting\n",
       "                          </td>\n",
       "</tr>\n",
       "<tr>\n",
       "<td>\n",
       "<div alt=\"Photo\" style=\"display: inline-block;\n",
       "                                              height: 133px;\n",
       "                                              width: 100px;\n",
       "                                              background: url('/default/file/get/id/28600') no-repeat center center;\n",
       "                                              background-size: cover ;\n",
       "                                              \">\n",
       "</div>\n",
       "</td>\n",
       "<td class=\"peopleTableCellName\">\n",
       "<a href=\"/en/staff/holub\"><b>doc. Mgr. TomÃ¡Å¡ Holub Ph.D.</b></a>\n",
       "</td>\n",
       "<td class=\"peopleTableCellAcf\">\n",
       "                                                                Associate Professor\n",
       "\n",
       "                          </td>\n",
       "<td>\n",
       "                             Macroeconomics, Monetary Economics\n",
       "                          </td>\n",
       "</tr>\n",
       "<tr>\n",
       "<td>\n",
       "<div alt=\"Photo\" style=\"display: inline-block;\n",
       "                                              height: 133px;\n",
       "                                              width: 100px;\n",
       "                                              background: url('/default/file/get/id/28593') no-repeat center center;\n",
       "                                              background-size: cover ;\n",
       "                                              \">\n",
       "</div>\n",
       "</td>\n",
       "<td class=\"peopleTableCellName\">\n",
       "<a href=\"/en/staff/horvath\"><b>prof. Roman HorvÃ¡th Ph.D.</b></a>\n",
       "</td>\n",
       "<td class=\"peopleTableCellAcf\">\n",
       "                                                                Professor, Head of Department of Macroeconomics and Econometrics, Director for Research\n",
       "\n",
       "                          </td>\n",
       "<td>\n",
       "                             Monetary Policy, Political Economy, Financial Institutions\n",
       "                          </td>\n",
       "</tr>\n",
       "<tr>\n",
       "<td>\n",
       "<div alt=\"Photo\" style=\"display: inline-block;\n",
       "                                              height: 133px;\n",
       "                                              width: 100px;\n",
       "                                              background: url('/default/file/get/id/28592') no-repeat center center;\n",
       "                                              background-size: cover ;\n",
       "                                              \">\n",
       "</div>\n",
       "</td>\n",
       "<td class=\"peopleTableCellName\">\n",
       "<a href=\"/en/staff/jakubik\"><b>doc. PhDr. Ing. Ing. Petr JakubÃ­k Ph.D. Ph.D.</b></a>\n",
       "</td>\n",
       "<td class=\"peopleTableCellAcf\">\n",
       "                                                                Associate Professor\n",
       "\n",
       "                          </td>\n",
       "<td>\n",
       "                             Financial Stability, Credit Risk, Banking, Insurance, Financial Regulation\n",
       "                          </td>\n",
       "</tr>\n",
       "<tr>\n",
       "<td>\n",
       "<div alt=\"Photo\" style=\"display: inline-block;\n",
       "                                              height: 133px;\n",
       "                                              width: 100px;\n",
       "                                              background: url('/default/file/get/id/30315') no-repeat center center;\n",
       "                                              background-size: cover ;\n",
       "                                              \">\n",
       "</div>\n",
       "</td>\n",
       "<td class=\"peopleTableCellName\">\n",
       "<a href=\"/en/staff/janda\"><b>prof. Ing. Karel Janda M.A., Dr., Ph.D.</b></a>\n",
       "</td>\n",
       "<td class=\"peopleTableCellAcf\">\n",
       "                                                                Professor, Head of Department of Microeconomics\n",
       "\n",
       "                          </td>\n",
       "<td>\n",
       "                             Microeconomics of Banking, Resource Economics\n",
       "                          </td>\n",
       "</tr>\n",
       "<tr>\n",
       "<td>\n",
       "<div alt=\"Photo\" style=\"display: inline-block;\n",
       "                                              height: 133px;\n",
       "                                              width: 100px;\n",
       "                                              background: url('/default/file/get/id/31767') no-repeat center center;\n",
       "                                              background-size: cover ;\n",
       "                                              \">\n",
       "</div>\n",
       "</td>\n",
       "<td class=\"peopleTableCellName\">\n",
       "<a href=\"/en/staff/jansky\"><b>doc. Petr JanskÃ½ Ph.D.</b></a>\n",
       "</td>\n",
       "<td class=\"peopleTableCellAcf\">\n",
       "                                                                Associate Professor, Head of Department of European Economic Integration and Economic Policy\n",
       "\n",
       "                          </td>\n",
       "<td>\n",
       "                             International Economics, Development Economics, Public Finance, Taxation, International Corporate Tax Avoidance, Tax Havens, Illicit Financial Flows, Income Inequality\n",
       "                          </td>\n",
       "</tr>\n",
       "<tr>\n",
       "<td>\n",
       "<div alt=\"Photo\" style=\"display: inline-block;\n",
       "                                              height: 133px;\n",
       "                                              width: 100px;\n",
       "                                              background: url('/default/file/get/id/28947') no-repeat center center;\n",
       "                                              background-size: cover ;\n",
       "                                              \">\n",
       "</div>\n",
       "</td>\n",
       "<td class=\"peopleTableCellName\">\n",
       "<a href=\"/en/staff/kemenyova\"><b>Ing. Irena KemÃ©ny </b></a>\n",
       "</td>\n",
       "<td class=\"peopleTableCellAcf\">\n",
       "                                                                Senior Lecturer\n",
       "\n",
       "                          </td>\n",
       "<td>\n",
       "                             Accounting, Tax Systems\n",
       "                          </td>\n",
       "</tr>\n",
       "<tr>\n",
       "<td>\n",
       "<div alt=\"Photo\" style=\"display: inline-block;\n",
       "                                              height: 133px;\n",
       "                                              width: 100px;\n",
       "                                              background: url('/default/file/get/id/31799') no-repeat center center;\n",
       "                                              background-size: cover ;\n",
       "                                              \">\n",
       "</div>\n",
       "</td>\n",
       "<td class=\"peopleTableCellName\">\n",
       "<a href=\"/en/staff/kocenda\"><b>prof. Ing. EvÅ¾en KoÄenda M.A., Ph.D., DSc.</b></a>\n",
       "</td>\n",
       "<td class=\"peopleTableCellAcf\">\n",
       "                                                                Professor, Head of Department of Finance, Director of Graduate Studies\n",
       "\n",
       "                          </td>\n",
       "<td>\n",
       "                             Applied Economics and Econometrics, International Money and Finance, Transition and European Integration, Corporate Performance and Governance, Nonlinear Procedures\n",
       "                          </td>\n",
       "</tr>\n",
       "<tr>\n",
       "<td>\n",
       "<div alt=\"Photo\" style=\"display: inline-block;\n",
       "                                              height: 133px;\n",
       "                                              width: 100px;\n",
       "                                              background: url('/default/file/get/id/30612') no-repeat center center;\n",
       "                                              background-size: cover ;\n",
       "                                              \">\n",
       "</div>\n",
       "</td>\n",
       "<td class=\"peopleTableCellName\">\n",
       "<a href=\"/en/staff/komarek\"><b>prof. Ing. et Ing. LuboÅ¡ KomÃ¡rek Ph.D., MSc., MBA</b></a>\n",
       "</td>\n",
       "<td class=\"peopleTableCellAcf\">\n",
       "                                                                Professor\n",
       "\n",
       "                          </td>\n",
       "<td>\n",
       "                             Monetary Economics, Macroprudential Policy, Fiscal Policy, European Integration\n",
       "                          </td>\n",
       "</tr>\n",
       "<tr>\n",
       "<td>\n",
       "<div alt=\"Photo\" style=\"display: inline-block;\n",
       "                                              height: 133px;\n",
       "                                              width: 100px;\n",
       "                                              background: url('/default/file/get/id/26339') no-repeat center center;\n",
       "                                              background-size: cover ;\n",
       "                                              \">\n",
       "</div>\n",
       "</td>\n",
       "<td class=\"peopleTableCellName\">\n",
       "<a href=\"/en/staff/kristoufek\"><b>doc. PhDr. Ladislav KriÅ¡toufek Ph.D.</b></a>\n",
       "</td>\n",
       "<td class=\"peopleTableCellAcf\">\n",
       "                                                                Vice-Dean for Student Affairs, Associate Professor\n",
       "\n",
       "                          </td>\n",
       "<td>\n",
       "                             Financial Econometrics, Computational Economics and Finance, Interdisciplinary Finance and Economics, Long-Range Dependence, Fractality, Multifractality, Financial Market Crashes, Scaling in Finance, Extreme Events, Efficient Capital Markets, Energy Finance, Cryptoassets\n",
       "                          </td>\n",
       "</tr>\n",
       "<tr>\n",
       "<td>\n",
       "<div alt=\"Photo\" style=\"display: inline-block;\n",
       "                                              height: 133px;\n",
       "                                              width: 100px;\n",
       "                                              background: url('/default/file/get/id/26320') no-repeat center center;\n",
       "                                              background-size: cover ;\n",
       "                                              \">\n",
       "</div>\n",
       "</td>\n",
       "<td class=\"peopleTableCellName\">\n",
       "<a href=\"/en/staff/kukacka\"><b>PhDr. JiÅÃ­ KukaÄka Ph.D.</b></a>\n",
       "</td>\n",
       "<td class=\"peopleTableCellAcf\">\n",
       "                                                                Assistant Professor\n",
       "\n",
       "                          </td>\n",
       "<td>\n",
       "                             Financial Econometrics, Behavioral Finance and Macroeconomics, Heterogeneous Agent Models\n",
       "                          </td>\n",
       "</tr>\n",
       "<tr>\n",
       "<td>\n",
       "<div alt=\"Photo\" style=\"display: inline-block;\n",
       "                                              height: 133px;\n",
       "                                              width: 100px;\n",
       "                                              background: url('/default/file/get/id/31599') no-repeat center center;\n",
       "                                              background-size: cover ;\n",
       "                                              \">\n",
       "</div>\n",
       "</td>\n",
       "<td class=\"peopleTableCellName\">\n",
       "<a href=\"/en/staff/maresj\"><b>Mgr. Jan MareÅ¡ </b></a>\n",
       "</td>\n",
       "<td class=\"peopleTableCellAcf\">\n",
       "                                                                Junior Researcher\n",
       "\n",
       "                          </td>\n",
       "<td>\n",
       "                             Economic Growth, Financial Markets, Econometric Modelling, Bayesian Analysis\n",
       "                          </td>\n",
       "</tr>\n",
       "<tr>\n",
       "<td>\n",
       "<div alt=\"Photo\" style=\"display: inline-block;\n",
       "                                              height: 133px;\n",
       "                                              width: 100px;\n",
       "                                              background: url('/default/file/get/id/28950') no-repeat center center;\n",
       "                                              background-size: cover ;\n",
       "                                              \">\n",
       "</div>\n",
       "</td>\n",
       "<td class=\"peopleTableCellName\">\n",
       "<a href=\"/en/staff/mejstrik\"><b>prof. Ing. Michal MejstÅÃ­k CSc.</b></a>\n",
       "</td>\n",
       "<td class=\"peopleTableCellAcf\">\n",
       "                                                                Professor, Director of Master Studies, Chairman of Advisory Board\n",
       "\n",
       "                          </td>\n",
       "<td>\n",
       "                             Banking, Corporate Finance, Financial Markets\n",
       "                          </td>\n",
       "</tr>\n",
       "<tr>\n",
       "<td>\n",
       "<div alt=\"Photo\" style=\"display: inline-block;\n",
       "                                              height: 133px;\n",
       "                                              width: 100px;\n",
       "                                              background: url('/default/file/get/id/31872') no-repeat center center;\n",
       "                                              background-size: cover ;\n",
       "                                              \">\n",
       "</div>\n",
       "</td>\n",
       "<td class=\"peopleTableCellName\">\n",
       "<a href=\"/en/staff/nevrla\"><b>Mgr. Ing. MatÄj Nevrla </b></a>\n",
       "</td>\n",
       "<td class=\"peopleTableCellAcf\">\n",
       "                                                                Junior Researcher\n",
       "\n",
       "                          </td>\n",
       "<td>\n",
       "                             Financial Economics and Econometrics, Time-series Analysis\n",
       "                          </td>\n",
       "</tr>\n",
       "<tr>\n",
       "<td>\n",
       "<div alt=\"Photo\" style=\"display: inline-block;\n",
       "                                              height: 133px;\n",
       "                                              width: 100px;\n",
       "                                              background: url('/default/file/get/id/28951') no-repeat center center;\n",
       "                                              background-size: cover ;\n",
       "                                              \">\n",
       "</div>\n",
       "</td>\n",
       "<td class=\"peopleTableCellName\">\n",
       "<a href=\"/en/staff/novakji\"><b> JiÅÃ­ NovÃ¡k M.Sc., Ph.D., Deloitte Corporate Chair</b></a>\n",
       "</td>\n",
       "<td class=\"peopleTableCellAcf\">\n",
       "                                                                Senior Lecturer\n",
       "\n",
       "                          </td>\n",
       "<td>\n",
       "                             Financial Accounting, Corporate Finance, Company Valuation\n",
       "                          </td>\n",
       "</tr>\n",
       "<tr>\n",
       "<td>\n",
       "<div alt=\"Photo\" style=\"display: inline-block;\n",
       "                                              height: 133px;\n",
       "                                              width: 100px;\n",
       "                                              background: url('/default/file/get/id/31557') no-repeat center center;\n",
       "                                              background-size: cover ;\n",
       "                                              \">\n",
       "</div>\n",
       "</td>\n",
       "<td class=\"peopleTableCellName\">\n",
       "<a href=\"/en/staff/opatrny\"><b> MatÄj OpatrnÃ½ MSc.</b></a>\n",
       "</td>\n",
       "<td class=\"peopleTableCellAcf\">\n",
       "                                                                Junior Researcher\n",
       "\n",
       "                          </td>\n",
       "<td>\n",
       "                             Behavioural Economics, Macroeconomics, Comparative analysis\n",
       "                          </td>\n",
       "</tr>\n",
       "<tr>\n",
       "<td>\n",
       "<div alt=\"Photo\" style=\"display: inline-block;\n",
       "                                              height: 133px;\n",
       "                                              width: 100px;\n",
       "                                              background: url('/default/file/get/id/32147') no-repeat center center;\n",
       "                                              background-size: cover ;\n",
       "                                              \">\n",
       "</div>\n",
       "</td>\n",
       "<td class=\"peopleTableCellName\">\n",
       "<a href=\"/en/staff/malirova\"><b>Mgr. Tereza PalanskÃ¡ M.A.</b></a>\n",
       "</td>\n",
       "<td class=\"peopleTableCellAcf\">\n",
       "                                                                Junior Researcher\n",
       "\n",
       "                          </td>\n",
       "<td>\n",
       "                             Transfer pricing, Base erosion and profit shifting, Taxation\n",
       "                          </td>\n",
       "</tr>\n",
       "<tr>\n",
       "<td>\n",
       "<div alt=\"Photo\" style=\"display: inline-block;\n",
       "                                              height: 133px;\n",
       "                                              width: 100px;\n",
       "                                              background: url('/default/file/get/id/30470') no-repeat center center;\n",
       "                                              background-size: cover ;\n",
       "                                              \">\n",
       "</div>\n",
       "</td>\n",
       "<td class=\"peopleTableCellName\">\n",
       "<a href=\"/en/staff/palansky\"><b>Mgr. Miroslav PalanskÃ½ M.A.</b></a>\n",
       "</td>\n",
       "<td class=\"peopleTableCellAcf\">\n",
       "                                                                Researcher, PhD Candidate\n",
       "\n",
       "                          </td>\n",
       "<td>\n",
       "                             Political economy, public finance, development economics, taxation, tax abuse, international corporate tax avoidance\n",
       "                          </td>\n",
       "</tr>\n",
       "<tr>\n",
       "<td>\n",
       "<div alt=\"Photo\" style=\"display: inline-block;\n",
       "                                              height: 133px;\n",
       "                                              width: 100px;\n",
       "                                              background: url('/default/file/get/id/28952') no-repeat center center;\n",
       "                                              background-size: cover ;\n",
       "                                              \">\n",
       "</div>\n",
       "</td>\n",
       "<td class=\"peopleTableCellName\">\n",
       "<a href=\"/en/staff/paulus\"><b>Mgr. Michal Paulus </b></a>\n",
       "</td>\n",
       "<td class=\"peopleTableCellAcf\">\n",
       "                                                                Junior Lecturer\n",
       "\n",
       "                          </td>\n",
       "<td>\n",
       "                             International Economics, International Political Economy, Trade Policy\n",
       "                          </td>\n",
       "</tr>\n",
       "<tr>\n",
       "<td>\n",
       "<div alt=\"Photo\" style=\"display: inline-block;\n",
       "                                              height: 133px;\n",
       "                                              width: 100px;\n",
       "                                              background: url('/default/file/get/id/28954') no-repeat center center;\n",
       "                                              background-size: cover ;\n",
       "                                              \">\n",
       "</div>\n",
       "</td>\n",
       "<td class=\"peopleTableCellName\">\n",
       "<a href=\"/en/staff/neprasova\"><b>Mgr. Magda PeÄenÃ¡  Ph.D.</b></a>\n",
       "</td>\n",
       "<td class=\"peopleTableCellAcf\">\n",
       "                                                                Senior Lecturer\n",
       "\n",
       "                          </td>\n",
       "<td>\n",
       "                             Banking\n",
       "                          </td>\n",
       "</tr>\n",
       "<tr>\n",
       "<td>\n",
       "<div alt=\"Photo\" style=\"display: inline-block;\n",
       "                                              height: 133px;\n",
       "                                              width: 100px;\n",
       "                                              background: url('/default/file/get/id/30297') no-repeat center center;\n",
       "                                              background-size: cover ;\n",
       "                                              \">\n",
       "</div>\n",
       "</td>\n",
       "<td class=\"peopleTableCellName\">\n",
       "<a href=\"/en/staff/gebicka\"><b>Mgr. Barbara Pertold-GebickÃ¡ M.A., Ph.D.</b></a>\n",
       "</td>\n",
       "<td class=\"peopleTableCellAcf\">\n",
       "                                                                Assistant Professor\n",
       "\n",
       "                          </td>\n",
       "<td>\n",
       "                             Labor Economics, Applied Microeconometrics\n",
       "                          </td>\n",
       "</tr>\n",
       "<tr>\n",
       "<td>\n",
       "<div alt=\"Photo\" style=\"display: inline-block;\n",
       "                                              height: 133px;\n",
       "                                              width: 100px;\n",
       "                                              background: url('/default/file/get/id/32327') no-repeat center center;\n",
       "                                              background-size: cover ;\n",
       "                                              \">\n",
       "</div>\n",
       "</td>\n",
       "<td class=\"peopleTableCellName\">\n",
       "<a href=\"/en/staff/pinter\"><b> Julien Pinter Ph.D.</b></a>\n",
       "</td>\n",
       "<td class=\"peopleTableCellAcf\">\n",
       "                                                                Post-doctoral Researcher\n",
       "\n",
       "                          </td>\n",
       "<td>\n",
       "                             Central banking, Monetary policy, Applied Macroeconomics, Exchange rates\n",
       "                          </td>\n",
       "</tr>\n",
       "<tr>\n",
       "<td>\n",
       "<div alt=\"Photo\" style=\"display: inline-block;\n",
       "                                              height: 133px;\n",
       "                                              width: 100px;\n",
       "                                              background: url('/default/file/get/id/32859') no-repeat center center;\n",
       "                                              background-size: cover ;\n",
       "                                              \">\n",
       "</div>\n",
       "</td>\n",
       "<td class=\"peopleTableCellName\">\n",
       "<a href=\"/en/staff/scasny\"><b>Mgr. Milan Å ÄasnÃ½ PhD.</b></a>\n",
       "</td>\n",
       "<td class=\"peopleTableCellAcf\">\n",
       "                                                                Senior Lecturer, Research Fellow\n",
       "\n",
       "                          </td>\n",
       "<td>\n",
       "                             Environmental Economics, Behavioral Economics, Residential demand, Health Risk Valuation, Non-market Valuation; regulatory impact assesment (TIMES, CGE, BCA, external costs)\n",
       "                          </td>\n",
       "</tr>\n",
       "<tr>\n",
       "<td>\n",
       "<div alt=\"Photo\" style=\"display: inline-block;\n",
       "                                              height: 133px;\n",
       "                                              width: 100px;\n",
       "                                              background: url('/default/file/get/id/28614') no-repeat center center;\n",
       "                                              background-size: cover ;\n",
       "                                              \">\n",
       "</div>\n",
       "</td>\n",
       "<td class=\"peopleTableCellName\">\n",
       "<a href=\"/en/staff/schneider\"><b>doc. Ing. OndÅej Schneider MPhil., Ph.D.</b></a>\n",
       "</td>\n",
       "<td class=\"peopleTableCellAcf\">\n",
       "                                                                Associate Professor\n",
       "\n",
       "                          </td>\n",
       "<td>\n",
       "                             Public Finance, Political Economy, European Integration\n",
       "                          </td>\n",
       "</tr>\n",
       "<tr>\n",
       "<td>\n",
       "<div alt=\"Photo\" style=\"display: inline-block;\n",
       "                                              height: 133px;\n",
       "                                              width: 100px;\n",
       "                                              background: url('/default/file/get/id/24217') no-repeat center center;\n",
       "                                              background-size: cover ;\n",
       "                                              \">\n",
       "</div>\n",
       "</td>\n",
       "<td class=\"peopleTableCellName\">\n",
       "<a href=\"/en/staff/schwarz\"><b>PhDr. JiÅÃ­ Schwarz Ph.D.</b></a>\n",
       "</td>\n",
       "<td class=\"peopleTableCellAcf\">\n",
       "                                                                Senior Lecturer\n",
       "\n",
       "                          </td>\n",
       "<td>\n",
       "                             Institutional economics, law &amp; economics, industrial organization, intellectual property rights, institutions and growth\n",
       "                          </td>\n",
       "</tr>\n",
       "<tr>\n",
       "<td>\n",
       "<div alt=\"Photo\" style=\"display: inline-block;\n",
       "                                              height: 133px;\n",
       "                                              width: 100px;\n",
       "                                              background: url('/default/file/get/id/32804') no-repeat center center;\n",
       "                                              background-size: cover ;\n",
       "                                              \">\n",
       "</div>\n",
       "</td>\n",
       "<td class=\"peopleTableCellName\">\n",
       "<a href=\"/en/staff/sedivy\"><b>Mgr. Marek Å edivÃ½ </b></a>\n",
       "</td>\n",
       "<td class=\"peopleTableCellAcf\">\n",
       "                                                                Junior Researcher\n",
       "\n",
       "                          </td>\n",
       "<td>\n",
       "                             Development Economics, Public Finance, Income Inequality\n",
       "                          </td>\n",
       "</tr>\n",
       "<tr>\n",
       "<td>\n",
       "<div alt=\"Photo\" style=\"display: inline-block;\n",
       "                                              height: 133px;\n",
       "                                              width: 100px;\n",
       "                                              background: url('/default/file/get/id/29031') no-repeat center center;\n",
       "                                              background-size: cover ;\n",
       "                                              \">\n",
       "</div>\n",
       "</td>\n",
       "<td class=\"peopleTableCellName\">\n",
       "<a href=\"/en/staff/semerak\"><b>Ing. VilÃ©m SemerÃ¡k M.A., Ph.D.</b></a>\n",
       "</td>\n",
       "<td class=\"peopleTableCellAcf\">\n",
       "                                                                Senior Lecturer\n",
       "\n",
       "                          </td>\n",
       "<td>\n",
       "                             International Trade, Trade Policy, Chinese Economy, Input-Output Analysis\n",
       "                          </td>\n",
       "</tr>\n",
       "<tr>\n",
       "<td>\n",
       "<div alt=\"Photo\" style=\"display: inline-block;\n",
       "                                              height: 133px;\n",
       "                                              width: 100px;\n",
       "                                              background: url('/default/file/get/id/31461') no-repeat center center;\n",
       "                                              background-size: cover ;\n",
       "                                              \">\n",
       "</div>\n",
       "</td>\n",
       "<td class=\"peopleTableCellName\">\n",
       "<a href=\"/en/staff/reckova\"><b>Mgr. Dominika Å polcovÃ¡ </b></a>\n",
       "</td>\n",
       "<td class=\"peopleTableCellAcf\">\n",
       "                                                                Junior Researcher \n",
       "\n",
       "                          </td>\n",
       "<td>\n",
       "                             Applied Microeconometrics,  Efficiency Analysis, Energy Economics, Meta-analysis\n",
       "                          </td>\n",
       "</tr>\n",
       "<tr>\n",
       "<td>\n",
       "<div alt=\"Photo\" style=\"display: inline-block;\n",
       "                                              height: 133px;\n",
       "                                              width: 100px;\n",
       "                                              background: url('/default/file/get/id/26332') no-repeat center center;\n",
       "                                              background-size: cover ;\n",
       "                                              \">\n",
       "</div>\n",
       "</td>\n",
       "<td class=\"peopleTableCellName\">\n",
       "<a href=\"/en/staff/gregorovalenka\"><b>PhDr. Lenka Å Å¥astnÃ¡ Ph.D.</b></a>\n",
       "</td>\n",
       "<td class=\"peopleTableCellAcf\">\n",
       "                                                                Senior Lecturer\n",
       "\n",
       "                          </td>\n",
       "<td>\n",
       "                             Public Finance, Spatial Econometrics, Urban Economics\n",
       "                          </td>\n",
       "</tr>\n",
       "<tr>\n",
       "<td>\n",
       "<div alt=\"Photo\" style=\"display: inline-block;\n",
       "                                              height: 133px;\n",
       "                                              width: 100px;\n",
       "                                              background: url('/default/file/get/id/22374') no-repeat center center;\n",
       "                                              background-size: cover ;\n",
       "                                              \">\n",
       "</div>\n",
       "</td>\n",
       "<td class=\"peopleTableCellName\">\n",
       "<a href=\"/en/staff/reichlova\"><b>PhDr. NatÃ¡lie Å varcovÃ¡ Ph.D.</b></a>\n",
       "</td>\n",
       "<td class=\"peopleTableCellAcf\">\n",
       "                                                                Senior Lecturer\n",
       "\n",
       "                          </td>\n",
       "<td>\n",
       "                             Public Finance, European Economic Integration\n",
       "                          </td>\n",
       "</tr>\n",
       "<tr>\n",
       "<td>\n",
       "<div alt=\"Photo\" style=\"display: inline-block;\n",
       "                                              height: 133px;\n",
       "                                              width: 100px;\n",
       "                                              background: url('/default/file/get/id/28955') no-repeat center center;\n",
       "                                              background-size: cover ;\n",
       "                                              \">\n",
       "</div>\n",
       "</td>\n",
       "<td class=\"peopleTableCellName\">\n",
       "<a href=\"/en/staff/teply\"><b>doc. PhDr. Petr TeplÃ½ Ph.D.</b></a>\n",
       "</td>\n",
       "<td class=\"peopleTableCellAcf\">\n",
       "                                                                Associate Professor\n",
       "\n",
       "                          </td>\n",
       "<td>\n",
       "                             Banking, Financial Markets Regulation, Risk Management\n",
       "                          </td>\n",
       "</tr>\n",
       "<tr>\n",
       "<td>\n",
       "<div alt=\"Photo\" style=\"display: inline-block;\n",
       "                                              height: 133px;\n",
       "                                              width: 100px;\n",
       "                                              background: url('/default/file/get/id/27000') no-repeat center center;\n",
       "                                              background-size: cover ;\n",
       "                                              \">\n",
       "</div>\n",
       "</td>\n",
       "<td class=\"peopleTableCellName\">\n",
       "<a href=\"/en/staff/vacek\"><b>PhDr. Pavel Vacek Ph.D.</b></a>\n",
       "</td>\n",
       "<td class=\"peopleTableCellAcf\">\n",
       "                                                                Senior Lecturer\n",
       "\n",
       "                          </td>\n",
       "<td>\n",
       "                             Antitrust Economics, Industrial Organization, International Economics, Economic Policy\n",
       "                          </td>\n",
       "</tr>\n",
       "<tr>\n",
       "<td>\n",
       "<div alt=\"Photo\" style=\"display: inline-block;\n",
       "                                              height: 133px;\n",
       "                                              width: 100px;\n",
       "                                              background: url('/default/file/get/id/31863') no-repeat center center;\n",
       "                                              background-size: cover ;\n",
       "                                              \">\n",
       "</div>\n",
       "</td>\n",
       "<td class=\"peopleTableCellName\">\n",
       "<a href=\"/en/staff/vacha\"><b>Mgr. LukÃ¡Å¡ VÃ¡cha Ph.D.</b></a>\n",
       "</td>\n",
       "<td class=\"peopleTableCellAcf\">\n",
       "                                                                Senior Lecturer, Research Fellow\n",
       "\n",
       "                          </td>\n",
       "<td>\n",
       "                             Financial markets\n",
       "                          </td>\n",
       "</tr>\n",
       "<tr>\n",
       "<td>\n",
       "<div alt=\"Photo\" style=\"display: inline-block;\n",
       "                                              height: 133px;\n",
       "                                              width: 100px;\n",
       "                                              background: url('/default/file/get/id/29639') no-repeat center center;\n",
       "                                              background-size: cover ;\n",
       "                                              \">\n",
       "</div>\n",
       "</td>\n",
       "<td class=\"peopleTableCellName\">\n",
       "<a href=\"/en/staff/visek\"><b>prof. RNDr. Jan Ãmos VÃ­Å¡ek CSc.</b></a>\n",
       "</td>\n",
       "<td class=\"peopleTableCellAcf\">\n",
       "                                                                Professor Emeritus\n",
       "\n",
       "                          </td>\n",
       "<td>\n",
       "                             Robust Econometrics and Statistics\n",
       "                          </td>\n",
       "</tr>\n",
       "<tr>\n",
       "<td>\n",
       "<div alt=\"Photo\" style=\"display: inline-block;\n",
       "                                              height: 133px;\n",
       "                                              width: 100px;\n",
       "                                              background: url('/default/file/get/id/28598') no-repeat center center;\n",
       "                                              background-size: cover ;\n",
       "                                              \">\n",
       "</div>\n",
       "</td>\n",
       "<td class=\"peopleTableCellName\">\n",
       "<a href=\"/en/staff/vosvrda\"><b>prof. Ing. Miloslav VoÅ¡vrda CSc.</b></a>\n",
       "</td>\n",
       "<td class=\"peopleTableCellAcf\">\n",
       "                                                                Professor\n",
       "\n",
       "                          </td>\n",
       "<td>\n",
       "                             Mathematical Finance, Econometrics\n",
       "                          </td>\n",
       "</tr>\n",
       "<tr>\n",
       "<td>\n",
       "<div alt=\"Photo\" style=\"display: inline-block;\n",
       "                                              height: 133px;\n",
       "                                              width: 100px;\n",
       "                                              background: url('/default/file/get/id/28599') no-repeat center center;\n",
       "                                              background-size: cover ;\n",
       "                                              \">\n",
       "</div>\n",
       "</td>\n",
       "<td class=\"peopleTableCellName\">\n",
       "<a href=\"/en/staff/prochazkova\"><b>PhDr. Jana VotÃ¡pkovÃ¡ </b></a>\n",
       "</td>\n",
       "<td class=\"peopleTableCellAcf\">\n",
       "                                                                Junior Researcher\n",
       "\n",
       "                          </td>\n",
       "<td>\n",
       "                             Healthcare Markets, Production, Fertility, Child Care, Size and Spatial Distributions of Regional Economic Activity\n",
       "                          </td>\n",
       "</tr>\n",
       "<tr>\n",
       "<td>\n",
       "<div alt=\"Photo\" style=\"display: inline-block;\n",
       "                                              height: 133px;\n",
       "                                              width: 100px;\n",
       "                                              background: url('/default/file/get/id/32664') no-repeat center center;\n",
       "                                              background-size: cover ;\n",
       "                                              \">\n",
       "</div>\n",
       "</td>\n",
       "<td class=\"peopleTableCellName\">\n",
       "<a href=\"/en/staff/zacek\"><b>Mgr. Jan Å½Ã¡Äek </b></a>\n",
       "</td>\n",
       "<td class=\"peopleTableCellAcf\">\n",
       "                                                                Junior Researcher\n",
       "\n",
       "                          </td>\n",
       "<td>\n",
       "                             Economic Modelling, Macroeconomics, Monetary Economics\n",
       "                          </td>\n",
       "</tr>\n",
       "</table>\n",
       "</div>\n",
       "</div>\n",
       "</div>\n",
       "</section>\n",
       "<section class=\"calendar\">\n",
       "<div class=\"container no-padding\">\n",
       "<div class=\"row\">\n",
       "<div class=\"col-sm-4 col-xs-12 cal-side\">\n",
       "<img alt=\"English Language Bachelorâs Programmes Open Day Event\" src=\"/img/places/calendar-left.jpg\"/>\n",
       "<p class=\"date-day\">26</p>\n",
       "<span class=\"date-month\">November</span>\n",
       "<p class=\"date-text\"><a href=\"https://www.facebook.com/events/474026149874225/\"> English Language Bachelorâs Programmes Open Day Event</a></p>\n",
       "</div>\n",
       "<div class=\"col-sm-4 col-xs-12 cal-content\" id=\"calendar-div\">\n",
       "<div id=\"calendar\"><div class=\"head\"><a class=\"get-left\" href=\"/default/index/index/time/1569880800\" onclick=\"new Ajax.Updater('calendar-div', '/news/board/update-calendar/time/1569880800');return false;\"><span></span></a><a class=\"get-right\" href=\"/default/index/index/time/1575154800\" onclick=\"new Ajax.Updater('calendar-div', '/news/board/update-calendar/time/1575154800');return false;\"><span></span></a><span>November 2019</span></div><table id=\"caltable\" summary=\"Calendar\"><tr><th>Mon</th><th>Tue</th><th>Wed</th><th>Thu</th><th>Fri</th><th>Sat</th><th>Sun</th></tr><tr><td> </td><td> </td><td> </td><td> </td><td>1</td><td class=\"weekend\">2</td><td class=\"weekend\">3</td></tr><tr><td>4</td><td class=\"action\"><span>5</span><div class=\"bubble\" id=\"cal5\"><p><a href=\"https://fsv.cuni.cz/studium/studium-v-zahranici/mobilita/mezifakultni-dohody\">Deadline for applications for inter-university and inter-faculty agreements exchange</a></p></div></td><td class=\"action\"><span>6</span><div class=\"bubble\" id=\"cal6\"><p><a href=\"/default/file/get/id/32795\">Defense of Tomas Adam</a></p></div></td><td>7</td><td>8</td><td class=\"weekend\">9</td><td class=\"weekend\">10</td></tr><tr><td>11</td><td>12</td><td>13</td><td>14</td><td>15</td><td class=\"weekend\">16</td><td class=\"weekend\">17</td></tr><tr><td>18</td><td>19</td><td class=\"action\"><span>20</span><div class=\"bubble\" id=\"cal20\"><p><a href=\"\">Mobility Fair</a></p></div></td><td>21</td><td class=\"action\"><span>22</span><div class=\"bubble\" id=\"cal22\"><p><a href=\"\"></a></p></div></td><td class=\"current\">23</td><td class=\"weekend\">24</td></tr><tr><td>25</td><td class=\"action\"><span>26</span><div class=\"bubble\" id=\"cal26\"><p><a href=\"https://www.facebook.com/events/474026149874225/\">English Language Bachelorâs Programmes Open Day Event</a></p></div></td><td>27</td><td>28</td><td>29</td><td class=\"weekend\">30</td><td class=\"weekend\"> </td></tr></table></div>\n",
       "</div>\n",
       "<div class=\"col-sm-4 col-xs-12 cal-side\">\n",
       "<img alt=\"Calendar\" src=\"/img/places/calendar-right.jpg\"/>\n",
       "<p class=\"date-text\"><a class=\"studujies\" href=\"http://studujies.cz/\" title=\"studujIES.cz\">studujIES.cz</a></p>\n",
       "</div>\n",
       "<div class=\"clearfix\"></div>\n",
       "</div>\n",
       "</div>\n",
       "</section>\n",
       "<section class=\"partners\">\n",
       "<div class=\"container\">\n",
       "<h3>Partners</h3>\n",
       "<div class=\"row\">\n",
       "<div class=\"col-md-2 col-sponsors\">\n",
       "<a href=\"http://ies.fsv.cuni.cz/cs/node/346\" title=\"Deloitte\"><img alt=\"Deloitte\" src=\"/uploads/deloitte_small.jpg\"/></a>\n",
       "</div>\n",
       "<div class=\"col-md-2 col-sponsors\">\n",
       "<a href=\"http://ies.fsv.cuni.cz/en/node/363\" title=\"McKinsey &amp; Company\"><img alt=\"McKinsey &amp; Company\" src=\"/uploads/mckinsey-300x300.png\"/></a>\n",
       "</div>\n",
       "<div class=\"col-md-2 col-sponsors\">\n",
       "<a href=\"http://ies.fsv.cuni.cz/cs/node/392\" title=\"Moneta Money Bank\"><img alt=\"Moneta Money Bank\" src=\"/uploads/moneta_na_web.jpg\"/></a>\n",
       "</div>\n",
       "</div>\n",
       "<h3>Sponsors</h3>\n",
       "<div class=\"row\">\n",
       "<div class=\"col-md-2 col-sponsors\">\n",
       "<a href=\"http://ies.fsv.cuni.cz/en/node/347\" title=\"CRIF\"><img alt=\"CRIF\" src=\"/uploads/crif.jpg\"/></a>\n",
       "</div>\n",
       "<div class=\"col-md-2 col-sponsors\">\n",
       "<a href=\"http://ies.fsv.cuni.cz/cs/node/311\" title=\"ÄSOB\"><img alt=\"ÄSOB\" src=\"/uploads/Äsob__kopie.jpg\"/></a>\n",
       "</div>\n",
       "</div>\n",
       "</div>\n",
       "</section>\n",
       "<footer>\n",
       "<div class=\"container\">\n",
       "<ul>\n",
       "<li class=\"hidden-xs\">\n",
       "<a href=\"/en/sitemap\" title=\"Sitemap\">Sitemap</a>\n",
       "</li>\n",
       "<li class=\"hidden-xs\">\n",
       "<a href=\"#topAnchor\" title=\"To top\">To top</a>\n",
       "</li>\n",
       "<li class=\"last\">\n",
       "<p>© 2004-2018 IES FSV UK, Foto: IES a Thinkstock.com</p>\n",
       "</li>\n",
       "</ul>\n",
       "</div>\n",
       "</footer>\n",
       "<script src=\"/js/vendor/bootstrap.min.js\"></script>\n",
       "<script src=\"//cdnjs.cloudflare.com/ajax/libs/masonry/3.2.2/masonry.pkgd.min.js\"></script>\n",
       "<script src=\"/js/chosen.jquery.min.js\"></script>\n",
       "<script>\n",
       "          jQuery(\"select\").chosen({\n",
       "          disable_search: true\n",
       "        });\n",
       "        </script>\n",
       "<script src=\"/js/prototype.js\"></script>\n",
       "<script src=\"/js/forms.js\"></script>\n",
       "<script src=\"/js/main.js\"></script>\n",
       "<script src=\"/js/google.js\"></script>\n",
       "</body>"
      ]
     },
     "execution_count": 226,
     "metadata": {},
     "output_type": "execute_result"
    }
   ],
   "source": [
    "body=soup.find('body')\n",
    "body"
   ]
  },
  {
   "cell_type": "markdown",
   "metadata": {},
   "source": [
    "Toto je jen ukazka ze se nesmi dat int(t.text) kdyz neni vyseldek cislo. Nepatri do navodu"
   ]
  },
  {
   "cell_type": "code",
   "execution_count": 231,
   "metadata": {
    "scrolled": true
   },
   "outputs": [
    {
     "data": {
      "text/plain": [
       "['\\n\\n\\n',\n",
       " '\\ndoc. PhDr. Jozef BarunÃ\\xadk Ph.D.\\n',\n",
       " '\\r\\n                                                                Associate Professor\\r\\n\\r\\n                          ',\n",
       " '\\r\\n                             Financial Economics, Financial Econometrics\\r\\n                          ',\n",
       " '\\n\\n\\n',\n",
       " '\\ndoc. PhDr. Michal Bauer Ph.D.\\n',\n",
       " '\\r\\n                                                                Associate Professor\\r\\n\\r\\n                          ',\n",
       " '\\r\\n                             Development Economics, Behavioral Economics, Experimental Economics\\r\\n                          ',\n",
       " '\\n\\n\\n',\n",
       " '\\nPhDr. JaromÃ\\xadr Baxa Ph.D.\\n',\n",
       " '\\r\\n                                                                Assistant Professor\\r\\n\\r\\n                          ',\n",
       " '\\r\\n                             Macroeconomics, Institutional Economics\\r\\n                          ',\n",
       " '\\n\\n\\n',\n",
       " '\\n Paola Bertoli M.A., MSc., Ph.D.\\n',\n",
       " '\\r\\n                                                                Assistant Professor\\r\\n\\r\\n                          ',\n",
       " '\\r\\n                             Health Economics, Health Econometrics\\r\\n                          ',\n",
       " '\\n\\n\\n',\n",
       " '\\nPhDr. Lucie BryndovÃ¡ \\n',\n",
       " '\\r\\n                                                                Adjunct Lecturer, Research Fellow\\r\\n\\r\\n                          ',\n",
       " '\\r\\n                             Health Economics, Health Policy\\r\\n                          ',\n",
       " '\\n\\n\\n',\n",
       " '\\ndoc. Ing. TomÃ¡Å¡ CahlÃ\\xadk CSc.\\n',\n",
       " '\\r\\n                                                                Vice Dean for Graduate Studies, Associate Professor\\r\\n\\r\\n                          ',\n",
       " '\\r\\n                             Macroeconomics, Economic Development and Growth, Comparative Economics, Integration, Scientometrics\\r\\n                          ',\n",
       " '\\n\\n\\n',\n",
       " '\\nPhDr. FrantiÅ¡ek Ä\\x8cech Ph.D.\\n',\n",
       " '\\r\\n                                                                Assistant Professor\\r\\n\\r\\n                          ',\n",
       " '\\r\\n                             Asset Pricing; Financial Econometrics; Time-Series Models; Portfolio Choice; International Financial Markets\\r\\n                          ',\n",
       " '\\n\\n\\n',\n",
       " '\\nRNDr. Michal Ä\\x8cervinka Ph.D.\\n',\n",
       " '\\r\\n                                                                Senior Lecturer\\r\\n\\r\\n                          ',\n",
       " '\\r\\n                             Oligopoly Markets, Nash and Generalized Nash Equilibria, Modern Variational Analysis, Nonsmooth Optimization, Sensitivity Analysis of Generalized Equations\\r\\n                          ',\n",
       " '\\n\\n\\n',\n",
       " '\\ndoc. PhDr. Julie ChytilovÃ¡ Ph.D.\\n',\n",
       " '\\r\\n                                                                Associate Professor, Head of Department of Institutional Economics, Director of Undergraduate Studies\\r\\n\\r\\n                          ',\n",
       " '\\r\\n                             Behavioral Economics, Experimental Economics, Development Economics, Social Preferences, Time Preferences and Self-control, Individual and Group Decision-making, Discrimination\\r\\n                          ',\n",
       " '\\n\\n\\n',\n",
       " '\\nprof. Ing. OldÅ\\x99ich DÄ\\x9bdek CSc.\\n',\n",
       " '\\r\\n                                                                Professor\\r\\n\\r\\n                          ',\n",
       " '\\r\\n                             Monetary Policy, European Integration\\r\\n                          ',\n",
       " '\\n\\n\\n',\n",
       " '\\ndoc. PhDr. Ing. Antonie DoleÅ¾alovÃ¡ Ph.D.\\n',\n",
       " '\\r\\n                                                                Senior Lecturer\\r\\n\\r\\n                          ',\n",
       " '\\r\\n                             Economic History\\r\\nHistory of Economic Thought\\r\\nHistoriography and Methodology\\r\\n                          ',\n",
       " '\\n\\n\\n',\n",
       " '\\ndoc. PhDr. Adam GerÅ¡l Ph.D.\\n',\n",
       " '\\r\\n                                                                Associate Professor\\r\\n\\r\\n                          ',\n",
       " '\\r\\n                             Financial Stability, International Finance, Political Economy, Foreign Direct Investment, Corporate Finance\\r\\n                          ',\n",
       " '\\n\\n\\n',\n",
       " '\\ndoc. PhDr. Martin Gregor Ph.D.\\n',\n",
       " '\\r\\n                                                                Director, Associate Professor\\r\\n\\r\\n                          ',\n",
       " '\\r\\n                             Applied Microeconomic Theory, Organizational Economics, Political Economy\\r\\n                          ',\n",
       " '\\n\\n\\n',\n",
       " '\\ndoc. PhDr. TomÃ¡Å¡ HavrÃ¡nek Ph.D.\\n',\n",
       " '\\r\\n                                                                Associate Professor\\r\\n\\r\\n                          ',\n",
       " '\\r\\n                             International Trade, Monetary Policy, Meta-Analysis\\r\\n                          ',\n",
       " '\\n\\n\\n',\n",
       " '\\ndoc. PhDr. Zuzana HavrÃ¡nkovÃ¡ Ph.D.\\n',\n",
       " '\\r\\n                                                                Associate Professor\\r\\n\\r\\n                          ',\n",
       " '\\r\\n                             Efficiency Analysis, Meta-analysis, Resource and Energy Economics\\r\\n                          ',\n",
       " '\\n\\n\\n',\n",
       " '\\nPhDr. Michal HlavÃ¡Ä\\x8dek Ph.D.\\n',\n",
       " '\\r\\n                                                                Senior Lecturer\\r\\n\\r\\n                          ',\n",
       " '\\r\\n                             Macroeconomics\\r\\n                          ',\n",
       " '\\n\\n\\n',\n",
       " '\\nIng. Monika HollmannovÃ¡ \\n',\n",
       " '\\r\\n                                                                Senior Lecturer, Chief Administrator\\r\\n\\r\\n                          ',\n",
       " '\\r\\n                             Accounting\\r\\n                          ',\n",
       " '\\n\\n\\n',\n",
       " '\\ndoc. Mgr. TomÃ¡Å¡ Holub Ph.D.\\n',\n",
       " '\\r\\n                                                                Associate Professor\\r\\n\\r\\n                          ',\n",
       " '\\r\\n                             Macroeconomics, Monetary Economics\\r\\n                          ',\n",
       " '\\n\\n\\n',\n",
       " '\\nprof. Roman HorvÃ¡th Ph.D.\\n',\n",
       " '\\r\\n                                                                Professor, Head of Department of Macroeconomics and Econometrics, Director for Research\\r\\n\\r\\n                          ',\n",
       " '\\r\\n                             Monetary Policy, Political Economy, Financial Institutions\\r\\n                          ',\n",
       " '\\n\\n\\n',\n",
       " '\\ndoc. PhDr. Ing. Ing. Petr JakubÃ\\xadk Ph.D. Ph.D.\\n',\n",
       " '\\r\\n                                                                Associate Professor\\r\\n\\r\\n                          ',\n",
       " '\\r\\n                             Financial Stability, Credit Risk, Banking, Insurance, Financial Regulation\\r\\n                          ',\n",
       " '\\n\\n\\n',\n",
       " '\\nprof. Ing. Karel Janda M.A., Dr., Ph.D.\\n',\n",
       " '\\r\\n                                                                Professor, Head of Department of Microeconomics\\r\\n\\r\\n                          ',\n",
       " '\\r\\n                             Microeconomics of Banking, Resource Economics\\r\\n                          ',\n",
       " '\\n\\n\\n',\n",
       " '\\ndoc. Petr JanskÃ½ Ph.D.\\n',\n",
       " '\\r\\n                                                                Associate Professor, Head of Department of European Economic Integration and Economic Policy\\r\\n\\r\\n                          ',\n",
       " '\\r\\n                             International Economics, Development Economics, Public Finance, Taxation, International Corporate Tax Avoidance, Tax Havens, Illicit Financial Flows, Income Inequality\\r\\n                          ',\n",
       " '\\n\\n\\n',\n",
       " '\\nIng. Irena KemÃ©ny \\n',\n",
       " '\\r\\n                                                                Senior Lecturer\\r\\n\\r\\n                          ',\n",
       " '\\r\\n                             Accounting, Tax Systems\\r\\n                          ',\n",
       " '\\n\\n\\n',\n",
       " '\\nprof. Ing. EvÅ¾en KoÄ\\x8denda M.A., Ph.D., DSc.\\n',\n",
       " '\\r\\n                                                                Professor, Head of Department of Finance, Director of Graduate Studies\\r\\n\\r\\n                          ',\n",
       " '\\r\\n                             Applied Economics and Econometrics, International Money and Finance, Transition and European Integration, Corporate Performance and Governance, Nonlinear Procedures\\r\\n                          ',\n",
       " '\\n\\n\\n',\n",
       " '\\nprof. Ing. et Ing. LuboÅ¡ KomÃ¡rek Ph.D., MSc., MBA\\n',\n",
       " '\\r\\n                                                                Professor\\r\\n\\r\\n                          ',\n",
       " '\\r\\n                             Monetary Economics, Macroprudential Policy, Fiscal Policy, European Integration\\r\\n                          ',\n",
       " '\\n\\n\\n',\n",
       " '\\ndoc. PhDr. Ladislav KriÅ¡toufek Ph.D.\\n',\n",
       " '\\r\\n                                                                Vice-Dean for Student Affairs, Associate Professor\\r\\n\\r\\n                          ',\n",
       " '\\r\\n                             Financial Econometrics, Computational Economics and Finance, Interdisciplinary Finance and Economics, Long-Range Dependence, Fractality, Multifractality, Financial Market Crashes, Scaling in Finance, Extreme Events, Efficient Capital Markets, Energy Finance, Cryptoassets\\r\\n                          ',\n",
       " '\\n\\n\\n',\n",
       " '\\nPhDr. JiÅ\\x99Ã\\xad KukaÄ\\x8dka Ph.D.\\n',\n",
       " '\\r\\n                                                                Assistant Professor\\r\\n\\r\\n                          ',\n",
       " '\\r\\n                             Financial Econometrics, Behavioral Finance and Macroeconomics, Heterogeneous Agent Models\\r\\n                          ',\n",
       " '\\n\\n\\n',\n",
       " '\\nMgr. Jan MareÅ¡ \\n',\n",
       " '\\r\\n                                                                Junior Researcher\\r\\n\\r\\n                          ',\n",
       " '\\r\\n                             Economic Growth, Financial Markets, Econometric Modelling, Bayesian Analysis\\r\\n                          ',\n",
       " '\\n\\n\\n',\n",
       " '\\nprof. Ing. Michal MejstÅ\\x99Ã\\xadk CSc.\\n',\n",
       " '\\r\\n                                                                Professor, Director of Master Studies, Chairman of Advisory Board\\r\\n\\r\\n                          ',\n",
       " '\\r\\n                             Banking, Corporate Finance, Financial Markets\\r\\n                          ',\n",
       " '\\n\\n\\n',\n",
       " '\\nMgr. Ing. MatÄ\\x9bj Nevrla \\n',\n",
       " '\\r\\n                                                                Junior Researcher\\r\\n\\r\\n                          ',\n",
       " '\\r\\n                             Financial Economics and Econometrics, Time-series Analysis\\r\\n                          ',\n",
       " '\\n\\n\\n',\n",
       " '\\n JiÅ\\x99Ã\\xad NovÃ¡k M.Sc., Ph.D., Deloitte Corporate Chair\\n',\n",
       " '\\r\\n                                                                Senior Lecturer\\r\\n\\r\\n                          ',\n",
       " '\\r\\n                             Financial Accounting, Corporate Finance, Company Valuation\\r\\n                          ',\n",
       " '\\n\\n\\n',\n",
       " '\\n MatÄ\\x9bj OpatrnÃ½ MSc.\\n',\n",
       " '\\r\\n                                                                Junior Researcher\\r\\n\\r\\n                          ',\n",
       " '\\r\\n                             Behavioural Economics, Macroeconomics, Comparative analysis\\r\\n                          ',\n",
       " '\\n\\n\\n',\n",
       " '\\nMgr. Tereza PalanskÃ¡ M.A.\\n',\n",
       " '\\r\\n                                                                Junior Researcher\\r\\n\\r\\n                          ',\n",
       " '\\r\\n                             Transfer pricing, Base erosion and profit shifting, Taxation\\r\\n                          ',\n",
       " '\\n\\n\\n',\n",
       " '\\nMgr. Miroslav PalanskÃ½ M.A.\\n',\n",
       " '\\r\\n                                                                Researcher, PhD Candidate\\r\\n\\r\\n                          ',\n",
       " '\\r\\n                             Political economy, public finance, development economics, taxation, tax abuse, international corporate tax avoidance\\r\\n                          ',\n",
       " '\\n\\n\\n',\n",
       " '\\nMgr. Michal Paulus \\n',\n",
       " '\\r\\n                                                                Junior Lecturer\\r\\n\\r\\n                          ',\n",
       " '\\r\\n                             International Economics, International Political Economy, Trade Policy\\r\\n                          ',\n",
       " '\\n\\n\\n',\n",
       " '\\nMgr. Magda PeÄ\\x8denÃ¡  Ph.D.\\n',\n",
       " '\\r\\n                                                                Senior Lecturer\\r\\n\\r\\n                          ',\n",
       " '\\r\\n                             Banking\\r\\n                          ',\n",
       " '\\n\\n\\n',\n",
       " '\\nMgr. Barbara Pertold-GebickÃ¡ M.A., Ph.D.\\n',\n",
       " '\\r\\n                                                                Assistant Professor\\r\\n\\r\\n                          ',\n",
       " '\\r\\n                             Labor Economics, Applied Microeconometrics\\r\\n                          ',\n",
       " '\\n\\n\\n',\n",
       " '\\n Julien Pinter Ph.D.\\n',\n",
       " '\\r\\n                                                                Post-doctoral Researcher\\r\\n\\r\\n                          ',\n",
       " '\\r\\n                             Central banking, Monetary policy, Applied Macroeconomics, Exchange rates\\r\\n                          ',\n",
       " '\\n\\n\\n',\n",
       " '\\nMgr. Milan Å\\xa0Ä\\x8dasnÃ½ PhD.\\n',\n",
       " '\\r\\n                                                                Senior Lecturer, Research Fellow\\r\\n\\r\\n                          ',\n",
       " '\\r\\n                             Environmental Economics, Behavioral Economics, Residential demand, Health Risk Valuation, Non-market Valuation; regulatory impact assesment (TIMES, CGE, BCA, external costs)\\r\\n                          ',\n",
       " '\\n\\n\\n',\n",
       " '\\ndoc. Ing. OndÅ\\x99ej Schneider MPhil., Ph.D.\\n',\n",
       " '\\r\\n                                                                Associate Professor\\r\\n\\r\\n                          ',\n",
       " '\\r\\n                             Public Finance, Political Economy, European Integration\\r\\n                          ',\n",
       " '\\n\\n\\n',\n",
       " '\\nPhDr. JiÅ\\x99Ã\\xad Schwarz Ph.D.\\n',\n",
       " '\\r\\n                                                                Senior Lecturer\\r\\n\\r\\n                          ',\n",
       " '\\r\\n                             Institutional economics, law & economics, industrial organization, intellectual property rights, institutions and growth\\r\\n                          ',\n",
       " '\\n\\n\\n',\n",
       " '\\nMgr. Marek Å\\xa0edivÃ½ \\n',\n",
       " '\\r\\n                                                                Junior Researcher\\r\\n\\r\\n                          ',\n",
       " '\\r\\n                             Development Economics, Public Finance, Income Inequality\\r\\n                          ',\n",
       " '\\n\\n\\n',\n",
       " '\\nIng. VilÃ©m SemerÃ¡k M.A., Ph.D.\\n',\n",
       " '\\r\\n                                                                Senior Lecturer\\r\\n\\r\\n                          ',\n",
       " '\\r\\n                             International Trade, Trade Policy, Chinese Economy, Input-Output Analysis\\r\\n                          ',\n",
       " '\\n\\n\\n',\n",
       " '\\nMgr. Dominika Å\\xa0polcovÃ¡ \\n',\n",
       " '\\r\\n                                                                Junior Researcher \\r\\n\\r\\n                          ',\n",
       " '\\r\\n                             Applied Microeconometrics,  Efficiency Analysis, Energy Economics, Meta-analysis\\r\\n                          ',\n",
       " '\\n\\n\\n',\n",
       " '\\nPhDr. Lenka Å\\xa0Å¥astnÃ¡ Ph.D.\\n',\n",
       " '\\r\\n                                                                Senior Lecturer\\r\\n\\r\\n                          ',\n",
       " '\\r\\n                             Public Finance, Spatial Econometrics, Urban Economics\\r\\n                          ',\n",
       " '\\n\\n\\n',\n",
       " '\\nPhDr. NatÃ¡lie Å\\xa0varcovÃ¡ Ph.D.\\n',\n",
       " '\\r\\n                                                                Senior Lecturer\\r\\n\\r\\n                          ',\n",
       " '\\r\\n                             Public Finance, European Economic Integration\\r\\n                          ',\n",
       " '\\n\\n\\n',\n",
       " '\\ndoc. PhDr. Petr TeplÃ½ Ph.D.\\n',\n",
       " '\\r\\n                                                                Associate Professor\\r\\n\\r\\n                          ',\n",
       " '\\r\\n                             Banking, Financial Markets Regulation, Risk Management\\r\\n                          ',\n",
       " '\\n\\n\\n',\n",
       " '\\nPhDr. Pavel Vacek Ph.D.\\n',\n",
       " '\\r\\n                                                                Senior Lecturer\\r\\n\\r\\n                          ',\n",
       " '\\r\\n                             Antitrust Economics, Industrial Organization, International Economics, Economic Policy\\r\\n                          ',\n",
       " '\\n\\n\\n',\n",
       " '\\nMgr. LukÃ¡Å¡ VÃ¡cha Ph.D.\\n',\n",
       " '\\r\\n                                                                Senior Lecturer, Research Fellow\\r\\n\\r\\n                          ',\n",
       " '\\r\\n                             Financial markets\\r\\n                          ',\n",
       " '\\n\\n\\n',\n",
       " '\\nprof. RNDr. Jan Ã\\x81mos VÃ\\xadÅ¡ek CSc.\\n',\n",
       " '\\r\\n                                                                Professor Emeritus\\r\\n\\r\\n                          ',\n",
       " '\\r\\n                             Robust Econometrics and Statistics\\r\\n                          ',\n",
       " '\\n\\n\\n',\n",
       " '\\nprof. Ing. Miloslav VoÅ¡vrda CSc.\\n',\n",
       " '\\r\\n                                                                Professor\\r\\n\\r\\n                          ',\n",
       " '\\r\\n                             Mathematical Finance, Econometrics\\r\\n                          ',\n",
       " '\\n\\n\\n',\n",
       " '\\nPhDr. Jana VotÃ¡pkovÃ¡ \\n',\n",
       " '\\r\\n                                                                Junior Researcher\\r\\n\\r\\n                          ',\n",
       " '\\r\\n                             Healthcare Markets, Production, Fertility, Child Care, Size and Spatial Distributions of Regional Economic Activity\\r\\n                          ',\n",
       " '\\n\\n\\n',\n",
       " '\\nMgr. Jan Å½Ã¡Ä\\x8dek \\n',\n",
       " '\\r\\n                                                                Junior Researcher\\r\\n\\r\\n                          ',\n",
       " '\\r\\n                             Economic Modelling, Macroeconomics, Monetary Economics\\r\\n                          ',\n",
       " '\\xa0',\n",
       " '\\xa0',\n",
       " '\\xa0',\n",
       " '\\xa0',\n",
       " '1',\n",
       " '2',\n",
       " '3',\n",
       " '4',\n",
       " '5Deadline for applications for inter-university and inter-faculty agreements exchange',\n",
       " '6Defense of Tomas Adam',\n",
       " '7',\n",
       " '8',\n",
       " '9',\n",
       " '10',\n",
       " '11',\n",
       " '12',\n",
       " '13',\n",
       " '14',\n",
       " '15',\n",
       " '16',\n",
       " '17',\n",
       " '18',\n",
       " '19',\n",
       " '20Mobility Fair',\n",
       " '21',\n",
       " '22',\n",
       " '23',\n",
       " '24',\n",
       " '25',\n",
       " '26English Language Bachelorâ\\x80\\x99s Programmes Open Day Event',\n",
       " '27',\n",
       " '28',\n",
       " '29',\n",
       " '30',\n",
       " '\\xa0']"
      ]
     },
     "execution_count": 231,
     "metadata": {},
     "output_type": "execute_result"
    }
   ],
   "source": [
    "td=[t.text for t in body.findAll('td')]\n",
    "td"
   ]
  },
  {
   "cell_type": "code",
   "execution_count": 238,
   "metadata": {},
   "outputs": [
    {
     "data": {
      "text/plain": [
       "<td class=\"peopleTableCellAcf\">\n",
       "                                                                Associate Professor\n",
       "\n",
       "                          </td>"
      ]
     },
     "execution_count": 238,
     "metadata": {},
     "output_type": "execute_result"
    }
   ],
   "source": [
    "tituly=body.find('td',{'class':\"peopleTableCellAcf\"})\n",
    "tituly"
   ]
  },
  {
   "cell_type": "code",
   "execution_count": 239,
   "metadata": {},
   "outputs": [
    {
     "data": {
      "text/plain": [
       "['\\n\\n\\n',\n",
       " '\\ndoc. PhDr. Jozef BarunÃ\\xadk Ph.D.\\n',\n",
       " '\\r\\n                                                                Associate Professor\\r\\n\\r\\n                          ',\n",
       " '\\r\\n                             Financial Economics, Financial Econometrics\\r\\n                          ',\n",
       " '\\n\\n\\n',\n",
       " '\\ndoc. PhDr. Michal Bauer Ph.D.\\n',\n",
       " '\\r\\n                                                                Associate Professor\\r\\n\\r\\n                          ',\n",
       " '\\r\\n                             Development Economics, Behavioral Economics, Experimental Economics\\r\\n                          ',\n",
       " '\\n\\n\\n',\n",
       " '\\nPhDr. JaromÃ\\xadr Baxa Ph.D.\\n',\n",
       " '\\r\\n                                                                Assistant Professor\\r\\n\\r\\n                          ',\n",
       " '\\r\\n                             Macroeconomics, Institutional Economics\\r\\n                          ',\n",
       " '\\n\\n\\n',\n",
       " '\\n Paola Bertoli M.A., MSc., Ph.D.\\n',\n",
       " '\\r\\n                                                                Assistant Professor\\r\\n\\r\\n                          ',\n",
       " '\\r\\n                             Health Economics, Health Econometrics\\r\\n                          ',\n",
       " '\\n\\n\\n',\n",
       " '\\nPhDr. Lucie BryndovÃ¡ \\n',\n",
       " '\\r\\n                                                                Adjunct Lecturer, Research Fellow\\r\\n\\r\\n                          ',\n",
       " '\\r\\n                             Health Economics, Health Policy\\r\\n                          ',\n",
       " '\\n\\n\\n',\n",
       " '\\ndoc. Ing. TomÃ¡Å¡ CahlÃ\\xadk CSc.\\n',\n",
       " '\\r\\n                                                                Vice Dean for Graduate Studies, Associate Professor\\r\\n\\r\\n                          ',\n",
       " '\\r\\n                             Macroeconomics, Economic Development and Growth, Comparative Economics, Integration, Scientometrics\\r\\n                          ',\n",
       " '\\n\\n\\n',\n",
       " '\\nPhDr. FrantiÅ¡ek Ä\\x8cech Ph.D.\\n',\n",
       " '\\r\\n                                                                Assistant Professor\\r\\n\\r\\n                          ',\n",
       " '\\r\\n                             Asset Pricing; Financial Econometrics; Time-Series Models; Portfolio Choice; International Financial Markets\\r\\n                          ',\n",
       " '\\n\\n\\n',\n",
       " '\\nRNDr. Michal Ä\\x8cervinka Ph.D.\\n',\n",
       " '\\r\\n                                                                Senior Lecturer\\r\\n\\r\\n                          ',\n",
       " '\\r\\n                             Oligopoly Markets, Nash and Generalized Nash Equilibria, Modern Variational Analysis, Nonsmooth Optimization, Sensitivity Analysis of Generalized Equations\\r\\n                          ',\n",
       " '\\n\\n\\n',\n",
       " '\\ndoc. PhDr. Julie ChytilovÃ¡ Ph.D.\\n',\n",
       " '\\r\\n                                                                Associate Professor, Head of Department of Institutional Economics, Director of Undergraduate Studies\\r\\n\\r\\n                          ',\n",
       " '\\r\\n                             Behavioral Economics, Experimental Economics, Development Economics, Social Preferences, Time Preferences and Self-control, Individual and Group Decision-making, Discrimination\\r\\n                          ',\n",
       " '\\n\\n\\n',\n",
       " '\\nprof. Ing. OldÅ\\x99ich DÄ\\x9bdek CSc.\\n',\n",
       " '\\r\\n                                                                Professor\\r\\n\\r\\n                          ',\n",
       " '\\r\\n                             Monetary Policy, European Integration\\r\\n                          ',\n",
       " '\\n\\n\\n',\n",
       " '\\ndoc. PhDr. Ing. Antonie DoleÅ¾alovÃ¡ Ph.D.\\n',\n",
       " '\\r\\n                                                                Senior Lecturer\\r\\n\\r\\n                          ',\n",
       " '\\r\\n                             Economic History\\r\\nHistory of Economic Thought\\r\\nHistoriography and Methodology\\r\\n                          ',\n",
       " '\\n\\n\\n',\n",
       " '\\ndoc. PhDr. Adam GerÅ¡l Ph.D.\\n',\n",
       " '\\r\\n                                                                Associate Professor\\r\\n\\r\\n                          ',\n",
       " '\\r\\n                             Financial Stability, International Finance, Political Economy, Foreign Direct Investment, Corporate Finance\\r\\n                          ',\n",
       " '\\n\\n\\n',\n",
       " '\\ndoc. PhDr. Martin Gregor Ph.D.\\n',\n",
       " '\\r\\n                                                                Director, Associate Professor\\r\\n\\r\\n                          ',\n",
       " '\\r\\n                             Applied Microeconomic Theory, Organizational Economics, Political Economy\\r\\n                          ',\n",
       " '\\n\\n\\n',\n",
       " '\\ndoc. PhDr. TomÃ¡Å¡ HavrÃ¡nek Ph.D.\\n',\n",
       " '\\r\\n                                                                Associate Professor\\r\\n\\r\\n                          ',\n",
       " '\\r\\n                             International Trade, Monetary Policy, Meta-Analysis\\r\\n                          ',\n",
       " '\\n\\n\\n',\n",
       " '\\ndoc. PhDr. Zuzana HavrÃ¡nkovÃ¡ Ph.D.\\n',\n",
       " '\\r\\n                                                                Associate Professor\\r\\n\\r\\n                          ',\n",
       " '\\r\\n                             Efficiency Analysis, Meta-analysis, Resource and Energy Economics\\r\\n                          ',\n",
       " '\\n\\n\\n',\n",
       " '\\nPhDr. Michal HlavÃ¡Ä\\x8dek Ph.D.\\n',\n",
       " '\\r\\n                                                                Senior Lecturer\\r\\n\\r\\n                          ',\n",
       " '\\r\\n                             Macroeconomics\\r\\n                          ',\n",
       " '\\n\\n\\n',\n",
       " '\\nIng. Monika HollmannovÃ¡ \\n',\n",
       " '\\r\\n                                                                Senior Lecturer, Chief Administrator\\r\\n\\r\\n                          ',\n",
       " '\\r\\n                             Accounting\\r\\n                          ',\n",
       " '\\n\\n\\n',\n",
       " '\\ndoc. Mgr. TomÃ¡Å¡ Holub Ph.D.\\n',\n",
       " '\\r\\n                                                                Associate Professor\\r\\n\\r\\n                          ',\n",
       " '\\r\\n                             Macroeconomics, Monetary Economics\\r\\n                          ',\n",
       " '\\n\\n\\n',\n",
       " '\\nprof. Roman HorvÃ¡th Ph.D.\\n',\n",
       " '\\r\\n                                                                Professor, Head of Department of Macroeconomics and Econometrics, Director for Research\\r\\n\\r\\n                          ',\n",
       " '\\r\\n                             Monetary Policy, Political Economy, Financial Institutions\\r\\n                          ',\n",
       " '\\n\\n\\n',\n",
       " '\\ndoc. PhDr. Ing. Ing. Petr JakubÃ\\xadk Ph.D. Ph.D.\\n',\n",
       " '\\r\\n                                                                Associate Professor\\r\\n\\r\\n                          ',\n",
       " '\\r\\n                             Financial Stability, Credit Risk, Banking, Insurance, Financial Regulation\\r\\n                          ',\n",
       " '\\n\\n\\n',\n",
       " '\\nprof. Ing. Karel Janda M.A., Dr., Ph.D.\\n',\n",
       " '\\r\\n                                                                Professor, Head of Department of Microeconomics\\r\\n\\r\\n                          ',\n",
       " '\\r\\n                             Microeconomics of Banking, Resource Economics\\r\\n                          ',\n",
       " '\\n\\n\\n',\n",
       " '\\ndoc. Petr JanskÃ½ Ph.D.\\n',\n",
       " '\\r\\n                                                                Associate Professor, Head of Department of European Economic Integration and Economic Policy\\r\\n\\r\\n                          ',\n",
       " '\\r\\n                             International Economics, Development Economics, Public Finance, Taxation, International Corporate Tax Avoidance, Tax Havens, Illicit Financial Flows, Income Inequality\\r\\n                          ',\n",
       " '\\n\\n\\n',\n",
       " '\\nIng. Irena KemÃ©ny \\n',\n",
       " '\\r\\n                                                                Senior Lecturer\\r\\n\\r\\n                          ',\n",
       " '\\r\\n                             Accounting, Tax Systems\\r\\n                          ',\n",
       " '\\n\\n\\n',\n",
       " '\\nprof. Ing. EvÅ¾en KoÄ\\x8denda M.A., Ph.D., DSc.\\n',\n",
       " '\\r\\n                                                                Professor, Head of Department of Finance, Director of Graduate Studies\\r\\n\\r\\n                          ',\n",
       " '\\r\\n                             Applied Economics and Econometrics, International Money and Finance, Transition and European Integration, Corporate Performance and Governance, Nonlinear Procedures\\r\\n                          ',\n",
       " '\\n\\n\\n',\n",
       " '\\nprof. Ing. et Ing. LuboÅ¡ KomÃ¡rek Ph.D., MSc., MBA\\n',\n",
       " '\\r\\n                                                                Professor\\r\\n\\r\\n                          ',\n",
       " '\\r\\n                             Monetary Economics, Macroprudential Policy, Fiscal Policy, European Integration\\r\\n                          ',\n",
       " '\\n\\n\\n',\n",
       " '\\ndoc. PhDr. Ladislav KriÅ¡toufek Ph.D.\\n',\n",
       " '\\r\\n                                                                Vice-Dean for Student Affairs, Associate Professor\\r\\n\\r\\n                          ',\n",
       " '\\r\\n                             Financial Econometrics, Computational Economics and Finance, Interdisciplinary Finance and Economics, Long-Range Dependence, Fractality, Multifractality, Financial Market Crashes, Scaling in Finance, Extreme Events, Efficient Capital Markets, Energy Finance, Cryptoassets\\r\\n                          ',\n",
       " '\\n\\n\\n',\n",
       " '\\nPhDr. JiÅ\\x99Ã\\xad KukaÄ\\x8dka Ph.D.\\n',\n",
       " '\\r\\n                                                                Assistant Professor\\r\\n\\r\\n                          ',\n",
       " '\\r\\n                             Financial Econometrics, Behavioral Finance and Macroeconomics, Heterogeneous Agent Models\\r\\n                          ',\n",
       " '\\n\\n\\n',\n",
       " '\\nMgr. Jan MareÅ¡ \\n',\n",
       " '\\r\\n                                                                Junior Researcher\\r\\n\\r\\n                          ',\n",
       " '\\r\\n                             Economic Growth, Financial Markets, Econometric Modelling, Bayesian Analysis\\r\\n                          ',\n",
       " '\\n\\n\\n',\n",
       " '\\nprof. Ing. Michal MejstÅ\\x99Ã\\xadk CSc.\\n',\n",
       " '\\r\\n                                                                Professor, Director of Master Studies, Chairman of Advisory Board\\r\\n\\r\\n                          ',\n",
       " '\\r\\n                             Banking, Corporate Finance, Financial Markets\\r\\n                          ',\n",
       " '\\n\\n\\n',\n",
       " '\\nMgr. Ing. MatÄ\\x9bj Nevrla \\n',\n",
       " '\\r\\n                                                                Junior Researcher\\r\\n\\r\\n                          ',\n",
       " '\\r\\n                             Financial Economics and Econometrics, Time-series Analysis\\r\\n                          ',\n",
       " '\\n\\n\\n',\n",
       " '\\n JiÅ\\x99Ã\\xad NovÃ¡k M.Sc., Ph.D., Deloitte Corporate Chair\\n',\n",
       " '\\r\\n                                                                Senior Lecturer\\r\\n\\r\\n                          ',\n",
       " '\\r\\n                             Financial Accounting, Corporate Finance, Company Valuation\\r\\n                          ',\n",
       " '\\n\\n\\n',\n",
       " '\\n MatÄ\\x9bj OpatrnÃ½ MSc.\\n',\n",
       " '\\r\\n                                                                Junior Researcher\\r\\n\\r\\n                          ',\n",
       " '\\r\\n                             Behavioural Economics, Macroeconomics, Comparative analysis\\r\\n                          ',\n",
       " '\\n\\n\\n',\n",
       " '\\nMgr. Tereza PalanskÃ¡ M.A.\\n',\n",
       " '\\r\\n                                                                Junior Researcher\\r\\n\\r\\n                          ',\n",
       " '\\r\\n                             Transfer pricing, Base erosion and profit shifting, Taxation\\r\\n                          ',\n",
       " '\\n\\n\\n',\n",
       " '\\nMgr. Miroslav PalanskÃ½ M.A.\\n',\n",
       " '\\r\\n                                                                Researcher, PhD Candidate\\r\\n\\r\\n                          ',\n",
       " '\\r\\n                             Political economy, public finance, development economics, taxation, tax abuse, international corporate tax avoidance\\r\\n                          ',\n",
       " '\\n\\n\\n',\n",
       " '\\nMgr. Michal Paulus \\n',\n",
       " '\\r\\n                                                                Junior Lecturer\\r\\n\\r\\n                          ',\n",
       " '\\r\\n                             International Economics, International Political Economy, Trade Policy\\r\\n                          ',\n",
       " '\\n\\n\\n',\n",
       " '\\nMgr. Magda PeÄ\\x8denÃ¡  Ph.D.\\n',\n",
       " '\\r\\n                                                                Senior Lecturer\\r\\n\\r\\n                          ',\n",
       " '\\r\\n                             Banking\\r\\n                          ',\n",
       " '\\n\\n\\n',\n",
       " '\\nMgr. Barbara Pertold-GebickÃ¡ M.A., Ph.D.\\n',\n",
       " '\\r\\n                                                                Assistant Professor\\r\\n\\r\\n                          ',\n",
       " '\\r\\n                             Labor Economics, Applied Microeconometrics\\r\\n                          ',\n",
       " '\\n\\n\\n',\n",
       " '\\n Julien Pinter Ph.D.\\n',\n",
       " '\\r\\n                                                                Post-doctoral Researcher\\r\\n\\r\\n                          ',\n",
       " '\\r\\n                             Central banking, Monetary policy, Applied Macroeconomics, Exchange rates\\r\\n                          ',\n",
       " '\\n\\n\\n',\n",
       " '\\nMgr. Milan Å\\xa0Ä\\x8dasnÃ½ PhD.\\n',\n",
       " '\\r\\n                                                                Senior Lecturer, Research Fellow\\r\\n\\r\\n                          ',\n",
       " '\\r\\n                             Environmental Economics, Behavioral Economics, Residential demand, Health Risk Valuation, Non-market Valuation; regulatory impact assesment (TIMES, CGE, BCA, external costs)\\r\\n                          ',\n",
       " '\\n\\n\\n',\n",
       " '\\ndoc. Ing. OndÅ\\x99ej Schneider MPhil., Ph.D.\\n',\n",
       " '\\r\\n                                                                Associate Professor\\r\\n\\r\\n                          ',\n",
       " '\\r\\n                             Public Finance, Political Economy, European Integration\\r\\n                          ',\n",
       " '\\n\\n\\n',\n",
       " '\\nPhDr. JiÅ\\x99Ã\\xad Schwarz Ph.D.\\n',\n",
       " '\\r\\n                                                                Senior Lecturer\\r\\n\\r\\n                          ',\n",
       " '\\r\\n                             Institutional economics, law & economics, industrial organization, intellectual property rights, institutions and growth\\r\\n                          ',\n",
       " '\\n\\n\\n',\n",
       " '\\nMgr. Marek Å\\xa0edivÃ½ \\n',\n",
       " '\\r\\n                                                                Junior Researcher\\r\\n\\r\\n                          ',\n",
       " '\\r\\n                             Development Economics, Public Finance, Income Inequality\\r\\n                          ',\n",
       " '\\n\\n\\n',\n",
       " '\\nIng. VilÃ©m SemerÃ¡k M.A., Ph.D.\\n',\n",
       " '\\r\\n                                                                Senior Lecturer\\r\\n\\r\\n                          ',\n",
       " '\\r\\n                             International Trade, Trade Policy, Chinese Economy, Input-Output Analysis\\r\\n                          ',\n",
       " '\\n\\n\\n',\n",
       " '\\nMgr. Dominika Å\\xa0polcovÃ¡ \\n',\n",
       " '\\r\\n                                                                Junior Researcher \\r\\n\\r\\n                          ',\n",
       " '\\r\\n                             Applied Microeconometrics,  Efficiency Analysis, Energy Economics, Meta-analysis\\r\\n                          ',\n",
       " '\\n\\n\\n',\n",
       " '\\nPhDr. Lenka Å\\xa0Å¥astnÃ¡ Ph.D.\\n',\n",
       " '\\r\\n                                                                Senior Lecturer\\r\\n\\r\\n                          ',\n",
       " '\\r\\n                             Public Finance, Spatial Econometrics, Urban Economics\\r\\n                          ',\n",
       " '\\n\\n\\n',\n",
       " '\\nPhDr. NatÃ¡lie Å\\xa0varcovÃ¡ Ph.D.\\n',\n",
       " '\\r\\n                                                                Senior Lecturer\\r\\n\\r\\n                          ',\n",
       " '\\r\\n                             Public Finance, European Economic Integration\\r\\n                          ',\n",
       " '\\n\\n\\n',\n",
       " '\\ndoc. PhDr. Petr TeplÃ½ Ph.D.\\n',\n",
       " '\\r\\n                                                                Associate Professor\\r\\n\\r\\n                          ',\n",
       " '\\r\\n                             Banking, Financial Markets Regulation, Risk Management\\r\\n                          ',\n",
       " '\\n\\n\\n',\n",
       " '\\nPhDr. Pavel Vacek Ph.D.\\n',\n",
       " '\\r\\n                                                                Senior Lecturer\\r\\n\\r\\n                          ',\n",
       " '\\r\\n                             Antitrust Economics, Industrial Organization, International Economics, Economic Policy\\r\\n                          ',\n",
       " '\\n\\n\\n',\n",
       " '\\nMgr. LukÃ¡Å¡ VÃ¡cha Ph.D.\\n',\n",
       " '\\r\\n                                                                Senior Lecturer, Research Fellow\\r\\n\\r\\n                          ',\n",
       " '\\r\\n                             Financial markets\\r\\n                          ',\n",
       " '\\n\\n\\n',\n",
       " '\\nprof. RNDr. Jan Ã\\x81mos VÃ\\xadÅ¡ek CSc.\\n',\n",
       " '\\r\\n                                                                Professor Emeritus\\r\\n\\r\\n                          ',\n",
       " '\\r\\n                             Robust Econometrics and Statistics\\r\\n                          ',\n",
       " '\\n\\n\\n',\n",
       " '\\nprof. Ing. Miloslav VoÅ¡vrda CSc.\\n',\n",
       " '\\r\\n                                                                Professor\\r\\n\\r\\n                          ',\n",
       " '\\r\\n                             Mathematical Finance, Econometrics\\r\\n                          ',\n",
       " '\\n\\n\\n',\n",
       " '\\nPhDr. Jana VotÃ¡pkovÃ¡ \\n',\n",
       " '\\r\\n                                                                Junior Researcher\\r\\n\\r\\n                          ',\n",
       " '\\r\\n                             Healthcare Markets, Production, Fertility, Child Care, Size and Spatial Distributions of Regional Economic Activity\\r\\n                          ',\n",
       " '\\n\\n\\n',\n",
       " '\\nMgr. Jan Å½Ã¡Ä\\x8dek \\n',\n",
       " '\\r\\n                                                                Junior Researcher\\r\\n\\r\\n                          ',\n",
       " '\\r\\n                             Economic Modelling, Macroeconomics, Monetary Economics\\r\\n                          ',\n",
       " '\\xa0',\n",
       " '\\xa0',\n",
       " '\\xa0',\n",
       " '\\xa0',\n",
       " '1',\n",
       " '2',\n",
       " '3',\n",
       " '4',\n",
       " '5Deadline for applications for inter-university and inter-faculty agreements exchange',\n",
       " '6Defense of Tomas Adam',\n",
       " '7',\n",
       " '8',\n",
       " '9',\n",
       " '10',\n",
       " '11',\n",
       " '12',\n",
       " '13',\n",
       " '14',\n",
       " '15',\n",
       " '16',\n",
       " '17',\n",
       " '18',\n",
       " '19',\n",
       " '20Mobility Fair',\n",
       " '21',\n",
       " '22',\n",
       " '23',\n",
       " '24',\n",
       " '25',\n",
       " '26English Language Bachelorâ\\x80\\x99s Programmes Open Day Event',\n",
       " '27',\n",
       " '28',\n",
       " '29',\n",
       " '30',\n",
       " '\\xa0']"
      ]
     },
     "execution_count": 239,
     "metadata": {},
     "output_type": "execute_result"
    }
   ],
   "source": []
  },
  {
   "cell_type": "markdown",
   "metadata": {},
   "source": [
    "### OOP Task 1 \n",
    "### Link!!!!!!"
   ]
  },
  {
   "cell_type": "code",
   "execution_count": 244,
   "metadata": {},
   "outputs": [],
   "source": [
    "def getSoup(link):\n",
    "    r = requests.get(link)\n",
    "    r.encoding = 'UTF-8'\n",
    "    return BeautifulSoup(r.text,'lxml')"
   ]
  },
  {
   "cell_type": "code",
   "execution_count": 247,
   "metadata": {},
   "outputs": [
    {
     "data": {
      "text/plain": [
       "['http://ies.fsv.cuni.cz/en/staff/barunik',\n",
       " 'http://ies.fsv.cuni.cz/en/staff/bauerm',\n",
       " 'http://ies.fsv.cuni.cz/en/staff/baxajaromir',\n",
       " 'http://ies.fsv.cuni.cz/en/staff/bertoli',\n",
       " 'http://ies.fsv.cuni.cz/en/staff/antosova',\n",
       " 'http://ies.fsv.cuni.cz/en/staff/cahlik',\n",
       " 'http://ies.fsv.cuni.cz/en/staff/fcech',\n",
       " 'http://ies.fsv.cuni.cz/en/staff/cervinka',\n",
       " 'http://ies.fsv.cuni.cz/en/staff/chytilova',\n",
       " 'http://ies.fsv.cuni.cz/en/staff/dedek',\n",
       " 'http://ies.fsv.cuni.cz/en/staff/dolezalova',\n",
       " 'http://ies.fsv.cuni.cz/en/staff/gersl',\n",
       " 'http://ies.fsv.cuni.cz/en/staff/gregor',\n",
       " 'http://ies.fsv.cuni.cz/en/staff/havranek',\n",
       " 'http://ies.fsv.cuni.cz/en/staff/irsova',\n",
       " 'http://ies.fsv.cuni.cz/en/staff/hlavacekm',\n",
       " 'http://ies.fsv.cuni.cz/en/staff/hollmannov',\n",
       " 'http://ies.fsv.cuni.cz/en/staff/holub',\n",
       " 'http://ies.fsv.cuni.cz/en/staff/horvath',\n",
       " 'http://ies.fsv.cuni.cz/en/staff/jakubik',\n",
       " 'http://ies.fsv.cuni.cz/en/staff/janda',\n",
       " 'http://ies.fsv.cuni.cz/en/staff/jansky',\n",
       " 'http://ies.fsv.cuni.cz/en/staff/kemenyova',\n",
       " 'http://ies.fsv.cuni.cz/en/staff/kocenda',\n",
       " 'http://ies.fsv.cuni.cz/en/staff/komarek',\n",
       " 'http://ies.fsv.cuni.cz/en/staff/kristoufek',\n",
       " 'http://ies.fsv.cuni.cz/en/staff/kukacka',\n",
       " 'http://ies.fsv.cuni.cz/en/staff/maresj',\n",
       " 'http://ies.fsv.cuni.cz/en/staff/mejstrik',\n",
       " 'http://ies.fsv.cuni.cz/en/staff/nevrla',\n",
       " 'http://ies.fsv.cuni.cz/en/staff/novakji',\n",
       " 'http://ies.fsv.cuni.cz/en/staff/opatrny',\n",
       " 'http://ies.fsv.cuni.cz/en/staff/malirova',\n",
       " 'http://ies.fsv.cuni.cz/en/staff/palansky',\n",
       " 'http://ies.fsv.cuni.cz/en/staff/paulus',\n",
       " 'http://ies.fsv.cuni.cz/en/staff/neprasova',\n",
       " 'http://ies.fsv.cuni.cz/en/staff/gebicka',\n",
       " 'http://ies.fsv.cuni.cz/en/staff/pinter',\n",
       " 'http://ies.fsv.cuni.cz/en/staff/scasny',\n",
       " 'http://ies.fsv.cuni.cz/en/staff/schneider',\n",
       " 'http://ies.fsv.cuni.cz/en/staff/schwarz',\n",
       " 'http://ies.fsv.cuni.cz/en/staff/sedivy',\n",
       " 'http://ies.fsv.cuni.cz/en/staff/semerak',\n",
       " 'http://ies.fsv.cuni.cz/en/staff/reckova',\n",
       " 'http://ies.fsv.cuni.cz/en/staff/gregorovalenka',\n",
       " 'http://ies.fsv.cuni.cz/en/staff/reichlova',\n",
       " 'http://ies.fsv.cuni.cz/en/staff/teply',\n",
       " 'http://ies.fsv.cuni.cz/en/staff/vacek',\n",
       " 'http://ies.fsv.cuni.cz/en/staff/vacha',\n",
       " 'http://ies.fsv.cuni.cz/en/staff/visek',\n",
       " 'http://ies.fsv.cuni.cz/en/staff/vosvrda',\n",
       " 'http://ies.fsv.cuni.cz/en/staff/prochazkova',\n",
       " 'http://ies.fsv.cuni.cz/en/staff/zacek']"
      ]
     },
     "execution_count": 247,
     "metadata": {},
     "output_type": "execute_result"
    }
   ],
   "source": [
    "def getAllLinks(link):\n",
    "    soup = getSoup(link)\n",
    "    tds = soup.findAll('td', {'class':'peopleTableCellName'})\n",
    "    return ['http://ies.fsv.cuni.cz' + td.find('a')['href'] for td in tds]\n",
    "\n",
    "links = getAllLinks('http://ies.fsv.cuni.cz/en/node/48')\n",
    "links"
   ]
  },
  {
   "cell_type": "markdown",
   "metadata": {},
   "source": [
    "zkusim pro DE Mobile"
   ]
  },
  {
   "cell_type": "code",
   "execution_count": 249,
   "metadata": {},
   "outputs": [],
   "source": [
    "def getSoup(link):\n",
    "    r = requests.get(link)\n",
    "    r.encoding = 'UTF-8'\n",
    "    return BeautifulSoup(r.text,'lxml')"
   ]
  },
  {
   "cell_type": "code",
   "execution_count": 257,
   "metadata": {},
   "outputs": [
    {
     "data": {
      "text/plain": [
       "[]"
      ]
     },
     "execution_count": 257,
     "metadata": {},
     "output_type": "execute_result"
    }
   ],
   "source": [
    "def getAllLinks(link):\n",
    "    soup = getSoup(link)\n",
    "    tds = soup.findAll('div', {'class':'Box-body cBox-body--resultitem steeredAd dealerAd rbt-reg rbt-no-top'})\n",
    "    return [ td.find('a')['href'] for td in tds]\n",
    "\n",
    "links = getAllLinks('https://suchen.mobile.de/fahrzeuge/search.html?dam=0&isSearchRequest=true&ms=1100&sfmr=false&vc=Car')\n",
    "links"
   ]
  },
  {
   "cell_type": "code",
   "execution_count": 258,
   "metadata": {},
   "outputs": [
    {
     "data": {
      "text/plain": [
       "[]"
      ]
     },
     "execution_count": 258,
     "metadata": {},
     "output_type": "execute_result"
    }
   ],
   "source": [
    "def getAllLinks(link):\n",
    "    soup = getSoup(link)\n",
    "    tds = soup.findAll('div', {'class':'Box-body cBox-body--resultitem steeredAd dealerAd rbt-reg rbt-no-top'})\n",
    "    return [ td.find('a') for td in tds]\n",
    "\n",
    "links = getAllLinks('https://suchen.mobile.de/fahrzeuge/search.html?dam=0&isSearchRequest=true&ms=1100&sfmr=false&vc=Car')\n",
    "links"
   ]
  },
  {
   "cell_type": "code",
   "execution_count": 259,
   "metadata": {},
   "outputs": [
    {
     "data": {
      "text/plain": [
       "'<!DOCTYPE html>\\n<html>\\n  <!--\\nLeider koennen wir Dir an dieser Stelle keinen Zugriff auf unsere Daten gewaehren.\\nSolltest Du weiterhin Interesse an einem Bezug unserer Daten haben, wende Dich bitte an:\\n\\nUnfortunately, automated access to this page was denied.\\nIf you are interested in accessing our data, please contact us:\\n\\nPhone:\\n+49 (0) 30 8109-7573\\n\\nMail:\\nDatenpartner@team.mobile.de\\n  -->\\n  <head>\\n    <meta charset=\"UTF-8\">\\n\\n    <title>Ups, bist Du ein Mensch? / Are you a human?</title>\\n    <link rel=\"stylesheet\" href=\"https://static.classistatic.de/shared/mde-style/2.1.0/style.css\">\\n    <link rel=\"stylesheet\" href=\"https://static.classistatic.de/shared/mde-icons/3.22.4/icons.data.svg.css\">\\n    <link rel=\"icon\" type=\"image/x-icon\" href=\"data:image/x-icon;base64,AAABAAEAEBAAAAAAAABoBAAAFgAAACgAAAAQAAAAIAAAAAEAIAAAAAAAAAQAAAAAAAAAAAAAAAAAAAAAAAAAAAAAbJ7yGTV+7Msdbuv/hKzr6/347tLw8O/S8vLy0vPz89Ly8vLS8PDw0vDw79Lt7e3S6urqnNDQ0AQAAAAAXpbwGih27MEfcOv/DWbr/4iv7P//+vD/8vLy//X19f/29vb/9fX1//Pz8//y8vL/7+/v/+3t7f3q6em05OTkGTR97c4fcOv/H3Dr/w5m6/+Ir+z///rw//Ly8v/19fX/9vb2//X19f/z8/P/8vLy/+/v7//t7e3/6urq/+fn5s8hcev/H3Dr/x9w6/8OZuv/iK/s///67/////////////X19f////////////Hx8f/6+vr//v7+/+vr6//n5+f/H3Dr/x9w6/8fcOv/Dmbr/4iw7f///fX/nJ2d/5mamf/6+vr/pqen/4+Qj//4+Pj/ra6u/4WGhv/m5ub/6urq/x9w6/8fcOv/H3Dr/w5m6/+IsO3////8/y0vL/8iJCT//////0FCQv8OEBD//////1laWv8AAgL/4eHh/+3t7f8fcOv/H3Dr/x9w6/8OZuv/iLDt////+/88Pj7/MjQ0//////9PUFD/HyEh//////9kZWX/EhQU/+Li4v/t7e3/H3Dr/x9w6/8fcOv/Dmbr/4iw7f////v/PD4+/zI0NP//////T1BQ/x8hIf//////ZGVl/xIUFP/i4uL/7e3t/x9w6/8fcOv/H3Dr/w5m6/+IsO3////7/zw+Pv80Njb//////1JTU/8gIiL//////2hpaf8RExP/4uLi/+3t7f8fcOv/H3Dr/x9w6/8OZuv/iLDt////+/8/QED/ERMT/8XGxv8/QUH/BggI/7+/v/9KTEz/ExUV/+Tk5P/t7Oz/H3Dr/x9w6/8fcOv/Dmbr/4iw7f////r/SktL/y0vL/8oKir/AgMD/2FiYv82Nzf/AAAA/2BhYf/19fT/6Ojo/x9w6/8fcOv/H3Dr/w5m6/+Ir+z///rx/+jo6P/y8vL/7O3t/87Ozv/8/Pz/7e3t/8nJyf/v7u7/7Ozs/+fn5/8fcOv/H3Dr/x9w6/8OZuv/iK/s///68P/19fX/9/f3//n5+f/9/f3/9PT0//X19f/39/f/7u7u/+rq6v/n5+f/MXvs4x5w6/8fcOv/Dmbr/4iv7P//+vD/8vLy//X19f/29vb/9fX1//Pz8//y8vL/7+/v/+3t7f/q6ur/5+fmwU2M7yUoduzGH3Dr/w5m6/+Ir+z///rw//Ly8v/19fX/9vb2//X19f/z8/P/8vLy/+/v7//t7e3/6urpu+Pj4hMAAAAAc6PyGDN87McRaOv/hq7r//347f/v7+//8fHx//Ly8v/x8fH/8PDw/+/v7//t7e386+vqtuLi4RAAAAAAwAMAAIABAAAAAAAAAAAAAAAAAAAAAAAAAAAAAAAAAAAAAAAAAAAAAAAAAAAAAAAAAAAAAAAAAACAAQAAwAMAAA==\">\\n    <script src=\\'https://www.google.com/recaptcha/api.js\\'></script>\\n  </head>\\n  <body>\\n    <header id=\"mdeHeader\" class=\"header\">\\n      <div class=\"header-meta-container header-hidden-small\">\\n        <!-- placeholder for desktop meta -->\\n      </div>\\n      <div class=\"header-navbar clearfix\">\\n        <div class=\"header-corporate\">\\n          <a href=\"//www.mobile.de\"><i class=\"gicon-mobilede-logo\"></i></a>\\n          <span class=\"claim header-hidden-small\">Deutschlands größter Fahrzeugmarkt</span>\\n        </div>\\n      </div>\\n    </header>\\n  <div class=\"g-container\">\\n    <h2 class=\"u-pad-bottom-18 u-margin-top-18\">Ups, bist Du ein Mensch? / Are you a human?</h2>\\n\\n\\n    <div id=\"root\"></div>\\n    <div class=\"cBox cBox--content\">\\n      <p><b>\\n        Um fortzufahren muss dein Browser Cookies unterstützen und JavaScript aktiviert sein.<br>\\n        To continue your browser has to accept cookies and has to have JavaScript enabled.</b>\\n      </p>\\n\\n      <p>\\n        Bei Problemen wende Dich bitte an:<br>\\n        In case of problems please contact:\\n      </p>\\n      <p>\\n        Phone: 030 81097-601<br>\\n        Mail: service@team.mobile.de\\n      </p>\\n\\n      <p>\\n        Sollte grundsätzliches Interesse am Bezug von mobile.de Daten bestehen, wende Dich bitte an:<br/>\\n        If you are primarily interested in purchasing data from mobile.de, please contact:\\n      </p>\\n      <p>\\n        Mail: Datenpartner@team.mobile.de\\n      </p>\\n    </div>\\n    <hr class=\"u-pad-top-9 u-pad-bottom-18\"/>\\n    <div id=\"footer\"></div>\\n    <script async src=\"https://www.mobile.de/adv/consent/consentBanner.js\"></script>\\n  <script type=\"text/javascript\" src=\"https://www.mobile.de/youre-blocked/app.js\"></script><script type=\"text/javascript\" >var _cf = _cf || []; _cf.push([\\'_setFsp\\', true]); _cf.push([\\'_setBm\\', true]); _cf.push([\\'_setAu\\', \\'/static/ca9788ffdf2206f1e09205dc7b5f1d2\\']);</script><script type=\"text/javascript\"  src=\"/static/ca9788ffdf2206f1e09205dc7b5f1d2\"></script></body>\\n</html>\\n'"
      ]
     },
     "execution_count": 259,
     "metadata": {},
     "output_type": "execute_result"
    }
   ],
   "source": [
    "import requests\n",
    "r = requests.get('https://suchen.mobile.de/fahrzeuge/search.html?dam=0&isSearchRequest=true&ms=1100&sfmr=false&vc=Car')\n",
    "r.text"
   ]
  },
  {
   "cell_type": "markdown",
   "metadata": {},
   "source": [
    "Zkusim nejakou random stranku protoze DE mobil zakazan"
   ]
  },
  {
   "cell_type": "markdown",
   "metadata": {},
   "source": [
    "https://www.fufu-kabelky.cz/kabelky/?collection=malovane"
   ]
  },
  {
   "cell_type": "code",
   "execution_count": 260,
   "metadata": {},
   "outputs": [],
   "source": [
    "def getSoup(link):\n",
    "    r = requests.get(link)\n",
    "    r.encoding = 'UTF-8'\n",
    "    return BeautifulSoup(r.text,'lxml')"
   ]
  },
  {
   "cell_type": "code",
   "execution_count": 262,
   "metadata": {
    "scrolled": false
   },
   "outputs": [
    {
     "data": {
      "text/plain": [
       "['https://www.fufu-kabelky.cz/p/p/malovana-kabelka-ap05/',\n",
       " 'https://www.fufu-kabelky.cz/p/p/malovana-kabelka-ap03/',\n",
       " 'https://www.fufu-kabelky.cz/p/p/malovana-kabelka-ap02/',\n",
       " 'https://www.fufu-kabelky.cz/p/p/malovana-kabelka-ap01/',\n",
       " 'https://www.fufu-kabelky.cz/p/p/kabelka-kmm05/',\n",
       " 'https://www.fufu-kabelky.cz/p/p/kabelka-kmm04/',\n",
       " 'https://www.fufu-kabelky.cz/p/p/malovanla-kabelka-kum06/',\n",
       " 'https://www.fufu-kabelky.cz/p/p/malovana-kabelka-ku4/',\n",
       " 'https://www.fufu-kabelky.cz/p/p/malovana-kabelku-kum02/',\n",
       " 'https://www.fufu-kabelky.cz/p/p/malovana-kabelka-km05/',\n",
       " 'https://www.fufu-kabelky.cz/p/p/kabelka-kmm02/',\n",
       " 'https://www.fufu-kabelky.cz/p/p/kabelka-kmm01/',\n",
       " 'https://www.fufu-kabelky.cz/p/p/malovana-kabelka-km04/',\n",
       " 'https://www.fufu-kabelky.cz/p/p/malovana-kabelka-km03/',\n",
       " 'https://www.fufu-kabelky.cz/p/p/malovana-kabelka-km02/',\n",
       " 'https://www.fufu-kabelky.cz/p/p/malovana-kabelka-km01/']"
      ]
     },
     "execution_count": 262,
     "metadata": {},
     "output_type": "execute_result"
    }
   ],
   "source": [
    "def getAllLinks(link):\n",
    "    soup = getSoup(link)\n",
    "    tds = soup.findAll('div', {'class':'item-wrapper cf'})\n",
    "    return ['https://www.fufu-kabelky.cz/p' +td.find('a')['href'] for td in tds]\n",
    "\n",
    "links = getAllLinks('https://www.fufu-kabelky.cz/kabelky/?collection=malovane')\n",
    "links"
   ]
  },
  {
   "cell_type": "markdown",
   "metadata": {},
   "source": [
    "Zkusime Autobazar eu"
   ]
  },
  {
   "cell_type": "markdown",
   "metadata": {},
   "source": [
    "https://dacia.autobazar.eu/hledej/?currency=1"
   ]
  },
  {
   "cell_type": "code",
   "execution_count": 267,
   "metadata": {},
   "outputs": [],
   "source": [
    "def getSoup(link):\n",
    "    r = requests.get(link)\n",
    "    r.encoding = 'UTF-8'\n",
    "    return BeautifulSoup(r.text,'lxml')"
   ]
  },
  {
   "cell_type": "code",
   "execution_count": 269,
   "metadata": {},
   "outputs": [
    {
     "data": {
      "text/plain": [
       "['//www.autobazar.eu/cz/dacia-duster-16-16v-4x4-arctica-music-id15440697.html',\n",
       " '//www.autobazar.eu/cz/dacia-dokker-16-i-aaaid15439420.html',\n",
       " '//www.autobazar.eu/cz/dacia-sandero-10-aaaid15374444.html',\n",
       " '//www.autobazar.eu/cz/dacia-logan-12-16v-aaaid15302183.html',\n",
       " '//www.autobazar.eu/cz/dacia-logan-10-aaaid15403876.html',\n",
       " '//www.autobazar.eu/cz/dacia-duster-16-aaaid15399709.html',\n",
       " '//www.autobazar.eu/cz/dacia-duster-16-i-16v-aaaid15167413.html',\n",
       " '//www.autobazar.eu/cz/dacia-duster-12-tce-aaaid15418674.html',\n",
       " '//www.autobazar.eu/cz/dacia-dokker-16-aaaid15272365.html',\n",
       " '//www.autobazar.eu/cz/dacia-duster-16-aaaid15413362.html',\n",
       " '//www.autobazar.eu/cz/dacia-duster-15-dci-4x4-arctica-id15394925.html',\n",
       " '//www.autobazar.eu/cz/dacia-logan-mcv-16-ambiance-slusny-aj-vymenim-id13281913.html',\n",
       " '//www.autobazar.eu/cz/dacia-logan-mcv-15-dci-85k-laureate-5m-aj-vymenim-id15229215.html',\n",
       " '//www.autobazar.eu/cz/dacia-logan-14-base-id15264519.html',\n",
       " '//www.autobazar.eu/cz/dacia-logan-14-ambiance-id13279717.html',\n",
       " '//www.autobazar.eu/cz/dacia-logan-14-aaaid14745350.html',\n",
       " '//www.autobazar.eu/cz/dacia-logan-15-dci-ambiance-sk-x160;pz-id15035518.html',\n",
       " '//www.autobazar.eu/cz/dacia-logan-14-aaaid15066668.html',\n",
       " '//www.autobazar.eu/cz/dacia-sandero-14-aaaid15301730.html',\n",
       " '//www.autobazar.eu/cz/dacia-logan-van-15-dci-ambiance-id11643194.html']"
      ]
     },
     "execution_count": 269,
     "metadata": {},
     "output_type": "execute_result"
    }
   ],
   "source": [
    "def getAllLinks(link):\n",
    "    soup = getSoup(link)\n",
    "    tds = soup.findAll('div', {'class':'header'})\n",
    "    return [td.find('a')['href'] for td in tds]\n",
    "\n",
    "links = getAllLinks('https://dacia.autobazar.eu/hledej/?currency=1')\n",
    "links"
   ]
  },
  {
   "cell_type": "code",
   "execution_count": null,
   "metadata": {},
   "outputs": [],
   "source": []
  },
  {
   "cell_type": "code",
   "execution_count": null,
   "metadata": {},
   "outputs": [],
   "source": []
  },
  {
   "cell_type": "markdown",
   "metadata": {},
   "source": [
    "Pokracovani navodu"
   ]
  },
  {
   "cell_type": "code",
   "execution_count": 271,
   "metadata": {},
   "outputs": [],
   "source": [
    "def getSoup(link):\n",
    "    r = requests.get(link)\n",
    "    r.encoding = 'UTF-8'\n",
    "    return BeautifulSoup(r.text,'lxml')"
   ]
  },
  {
   "cell_type": "code",
   "execution_count": 272,
   "metadata": {},
   "outputs": [
    {
     "data": {
      "text/plain": [
       "['http://ies.fsv.cuni.cz/en/staff/barunik',\n",
       " 'http://ies.fsv.cuni.cz/en/staff/bauerm',\n",
       " 'http://ies.fsv.cuni.cz/en/staff/baxajaromir',\n",
       " 'http://ies.fsv.cuni.cz/en/staff/bertoli',\n",
       " 'http://ies.fsv.cuni.cz/en/staff/antosova',\n",
       " 'http://ies.fsv.cuni.cz/en/staff/cahlik',\n",
       " 'http://ies.fsv.cuni.cz/en/staff/fcech',\n",
       " 'http://ies.fsv.cuni.cz/en/staff/cervinka',\n",
       " 'http://ies.fsv.cuni.cz/en/staff/chytilova',\n",
       " 'http://ies.fsv.cuni.cz/en/staff/dedek',\n",
       " 'http://ies.fsv.cuni.cz/en/staff/dolezalova',\n",
       " 'http://ies.fsv.cuni.cz/en/staff/gersl',\n",
       " 'http://ies.fsv.cuni.cz/en/staff/gregor',\n",
       " 'http://ies.fsv.cuni.cz/en/staff/havranek',\n",
       " 'http://ies.fsv.cuni.cz/en/staff/irsova',\n",
       " 'http://ies.fsv.cuni.cz/en/staff/hlavacekm',\n",
       " 'http://ies.fsv.cuni.cz/en/staff/hollmannov',\n",
       " 'http://ies.fsv.cuni.cz/en/staff/holub',\n",
       " 'http://ies.fsv.cuni.cz/en/staff/horvath',\n",
       " 'http://ies.fsv.cuni.cz/en/staff/jakubik',\n",
       " 'http://ies.fsv.cuni.cz/en/staff/janda',\n",
       " 'http://ies.fsv.cuni.cz/en/staff/jansky',\n",
       " 'http://ies.fsv.cuni.cz/en/staff/kemenyova',\n",
       " 'http://ies.fsv.cuni.cz/en/staff/kocenda',\n",
       " 'http://ies.fsv.cuni.cz/en/staff/komarek',\n",
       " 'http://ies.fsv.cuni.cz/en/staff/kristoufek',\n",
       " 'http://ies.fsv.cuni.cz/en/staff/kukacka',\n",
       " 'http://ies.fsv.cuni.cz/en/staff/maresj',\n",
       " 'http://ies.fsv.cuni.cz/en/staff/mejstrik',\n",
       " 'http://ies.fsv.cuni.cz/en/staff/nevrla',\n",
       " 'http://ies.fsv.cuni.cz/en/staff/novakji',\n",
       " 'http://ies.fsv.cuni.cz/en/staff/opatrny',\n",
       " 'http://ies.fsv.cuni.cz/en/staff/malirova',\n",
       " 'http://ies.fsv.cuni.cz/en/staff/palansky',\n",
       " 'http://ies.fsv.cuni.cz/en/staff/paulus',\n",
       " 'http://ies.fsv.cuni.cz/en/staff/neprasova',\n",
       " 'http://ies.fsv.cuni.cz/en/staff/gebicka',\n",
       " 'http://ies.fsv.cuni.cz/en/staff/pinter',\n",
       " 'http://ies.fsv.cuni.cz/en/staff/scasny',\n",
       " 'http://ies.fsv.cuni.cz/en/staff/schneider',\n",
       " 'http://ies.fsv.cuni.cz/en/staff/schwarz',\n",
       " 'http://ies.fsv.cuni.cz/en/staff/sedivy',\n",
       " 'http://ies.fsv.cuni.cz/en/staff/semerak',\n",
       " 'http://ies.fsv.cuni.cz/en/staff/reckova',\n",
       " 'http://ies.fsv.cuni.cz/en/staff/gregorovalenka',\n",
       " 'http://ies.fsv.cuni.cz/en/staff/reichlova',\n",
       " 'http://ies.fsv.cuni.cz/en/staff/teply',\n",
       " 'http://ies.fsv.cuni.cz/en/staff/vacek',\n",
       " 'http://ies.fsv.cuni.cz/en/staff/vacha',\n",
       " 'http://ies.fsv.cuni.cz/en/staff/visek',\n",
       " 'http://ies.fsv.cuni.cz/en/staff/vosvrda',\n",
       " 'http://ies.fsv.cuni.cz/en/staff/prochazkova',\n",
       " 'http://ies.fsv.cuni.cz/en/staff/zacek']"
      ]
     },
     "execution_count": 272,
     "metadata": {},
     "output_type": "execute_result"
    }
   ],
   "source": [
    "def getAllLinks(link):\n",
    "    soup = getSoup(link)\n",
    "    tds = soup.findAll('td', {'class':'peopleTableCellName'})\n",
    "    return ['http://ies.fsv.cuni.cz' + td.find('a')['href'] for td in tds]\n",
    "\n",
    "links = getAllLinks('http://ies.fsv.cuni.cz/en/node/48')\n",
    "links"
   ]
  },
  {
   "cell_type": "code",
   "execution_count": 273,
   "metadata": {},
   "outputs": [
    {
     "data": {
      "text/plain": [
       "['doc. PhDr. Jozef Baruník Ph.D.',\n",
       " 'doc. PhDr. Michal Bauer Ph.D.',\n",
       " 'PhDr. Jaromír Baxa Ph.D.',\n",
       " ' Paola Bertoli M.A., MSc., Ph.D.',\n",
       " 'PhDr. Lucie Bryndová ',\n",
       " 'doc. Ing. Tomáš Cahlík CSc.',\n",
       " 'PhDr. František Čech Ph.D.',\n",
       " 'RNDr. Michal Červinka Ph.D.',\n",
       " 'doc. PhDr. Julie Chytilová Ph.D.',\n",
       " 'prof. Ing. Oldřich Dědek CSc.',\n",
       " 'doc. PhDr. Ing. Antonie Doležalová Ph.D.',\n",
       " 'doc. PhDr. Adam Geršl Ph.D.',\n",
       " 'doc. PhDr. Martin Gregor Ph.D.',\n",
       " 'doc. PhDr. Tomáš Havránek Ph.D.',\n",
       " 'doc. PhDr. Zuzana Havránková Ph.D.',\n",
       " 'PhDr. Michal Hlaváček Ph.D.',\n",
       " 'Ing. Monika Hollmannová ',\n",
       " 'doc. Mgr. Tomáš Holub Ph.D.',\n",
       " 'prof. Roman Horváth Ph.D.',\n",
       " 'doc. PhDr. Ing. Ing. Petr Jakubík Ph.D. Ph.D.',\n",
       " 'prof. Ing. Karel Janda M.A., Dr., Ph.D.',\n",
       " 'doc. Petr Janský Ph.D.',\n",
       " 'Ing. Irena Kemény ',\n",
       " 'prof. Ing. Evžen Kočenda M.A., Ph.D., DSc.',\n",
       " 'prof. Ing. et Ing. Luboš Komárek Ph.D., MSc., MBA',\n",
       " 'doc. PhDr. Ladislav Krištoufek Ph.D.',\n",
       " 'PhDr. Jiří Kukačka Ph.D.',\n",
       " 'Mgr. Jan Mareš ',\n",
       " 'prof. Ing. Michal Mejstřík CSc.',\n",
       " 'Mgr. Ing. Matěj Nevrla ',\n",
       " ' Jiří Novák M.Sc., Ph.D., Deloitte Corporate Chair',\n",
       " ' Matěj Opatrný MSc.',\n",
       " 'Mgr. Tereza Palanská M.A.',\n",
       " 'Mgr. Miroslav Palanský M.A.',\n",
       " 'Mgr. Michal Paulus ',\n",
       " 'Mgr. Magda Pečená  Ph.D.',\n",
       " 'Mgr. Barbara Pertold-Gebická M.A., Ph.D.',\n",
       " ' Julien Pinter Ph.D.',\n",
       " 'Mgr. Milan Ščasný PhD.',\n",
       " 'doc. Ing. Ondřej Schneider MPhil., Ph.D.',\n",
       " 'PhDr. Jiří Schwarz Ph.D.',\n",
       " 'Mgr. Marek Šedivý ',\n",
       " 'Ing. Vilém Semerák M.A., Ph.D.',\n",
       " 'Mgr. Dominika Špolcová ',\n",
       " 'PhDr. Lenka Šťastná Ph.D.',\n",
       " 'PhDr. Natálie Švarcová Ph.D.',\n",
       " 'doc. PhDr. Petr Teplý Ph.D.',\n",
       " 'PhDr. Pavel Vacek Ph.D.',\n",
       " 'Mgr. Lukáš Vácha Ph.D.',\n",
       " 'prof. RNDr. Jan Ámos Víšek CSc.',\n",
       " 'prof. Ing. Miloslav Vošvrda CSc.',\n",
       " 'PhDr. Jana Votápková ',\n",
       " 'Mgr. Jan Žáček ']"
      ]
     },
     "execution_count": 273,
     "metadata": {},
     "output_type": "execute_result"
    }
   ],
   "source": [
    "def getName(link):\n",
    "    soup = getSoup(link)\n",
    "    return soup.find('h2').text\n",
    "[getName(link) for link in links]"
   ]
  },
  {
   "cell_type": "code",
   "execution_count": 274,
   "metadata": {},
   "outputs": [
    {
     "data": {
      "text/plain": [
       "['\\nPosition: Associate Professor Field of interest:\\xa0Financial Economics, Financial Econometrics Membership: Internal, Macroeconomics and Econometrics',\n",
       " '\\nPosition: Associate Professor Field of interest:\\xa0Development Economics, Behavioral Economics, Experimental Economics Membership: Institutional Economics, Internal',\n",
       " '\\nPosition: Assistant Professor Field of interest:\\xa0Macroeconomics, Institutional Economics Membership: Internal, Macroeconomics and Econometrics',\n",
       " '\\nPosition: Assistant Professor Field of interest:\\xa0Health Economics, Health Econometrics Membership: European Economic Integration and Economic Policy, Internal',\n",
       " '\\nPosition: Adjunct Lecturer, Research Fellow Field of interest:\\xa0Health Economics, Health Policy Membership: European Economic Integration and Economic Policy, Internal',\n",
       " '\\nPosition: Vice Dean for Graduate Studies, Associate Professor Field of interest:\\xa0Macroeconomics, Economic Development and Growth, Comparative Economics, Integration, Scientometrics Membership: Internal, Macroeconomics and Econometrics',\n",
       " '\\nPosition: Assistant Professor Field of interest:\\xa0Asset Pricing; Financial Econometrics; Time-Series Models; Portfolio Choice; International Financial Markets Membership: Finance and Capital Markets, Former PhD students, Internal',\n",
       " '\\nPosition: Senior Lecturer Field of interest:\\xa0Oligopoly Markets, Nash and Generalized Nash Equilibria, Modern Variational Analysis, Nonsmooth Optimization, Sensitivity Analysis of Generalized Equations Membership: Internal, Macroeconomics and Econometrics',\n",
       " '\\nPosition: Associate Professor, Head of Department of Institutional Economics, Director of Undergraduate Studies Field of interest:\\xa0Behavioral Economics, Experimental Economics, Development Economics, Social Preferences, Time Preferences and Self-control, Individual and Group Decision-making, Discrimination Membership: Institutional Economics, Internal',\n",
       " '\\nPosition: Professor Field of interest:\\xa0Monetary Policy, European Integration Membership: Internal, Macroeconomics and Econometrics',\n",
       " '\\nPosition: Senior Lecturer Field of interest:\\xa0Economic History\\r\\nHistory of Economic Thought\\r\\nHistoriography and Methodology Membership: Institutional Economics, Internal',\n",
       " '\\nPosition: Associate Professor Field of interest:\\xa0Financial Stability, International Finance, Political Economy, Foreign Direct Investment, Corporate Finance Membership: Finance and Capital Markets, Internal',\n",
       " '\\nPosition: Director, Associate Professor Field of interest:\\xa0Applied Microeconomic Theory, Organizational Economics, Political Economy Membership: European Economic Integration and Economic Policy, Internal',\n",
       " '\\nPosition: Associate Professor Field of interest:\\xa0International Trade, Monetary Policy, Meta-Analysis Membership: Internal, Macroeconomics and Econometrics',\n",
       " '\\nPosition: Associate Professor Field of interest:\\xa0Efficiency Analysis, Meta-analysis, Resource and Energy Economics Membership: Internal, Macroeconomics and Econometrics',\n",
       " '\\nPosition: Senior Lecturer Field of interest:\\xa0Macroeconomics Membership: Internal, Macroeconomics and Econometrics',\n",
       " '\\nPosition: Senior Lecturer, Chief Administrator Field of interest:\\xa0Accounting Membership: Finance and Capital Markets, Internal',\n",
       " '\\nPosition: Associate Professor Field of interest:\\xa0Macroeconomics, Monetary Economics Membership: Internal, Macroeconomics and Econometrics',\n",
       " '\\nPosition: Professor, Head of Department of Macroeconomics and Econometrics, Director for Research Field of interest:\\xa0Monetary Policy, Political Economy, Financial Institutions Membership: Internal, Macroeconomics and Econometrics',\n",
       " '\\nPosition: Associate Professor Field of interest:\\xa0Financial Stability, Credit Risk, Banking, Insurance, Financial Regulation Membership: Finance and Capital Markets, Internal',\n",
       " '\\nPosition: Professor, Head of Department of Microeconomics Field of interest:\\xa0Microeconomics of Banking, Resource Economics Membership: Internal, Microeconomics and Mathematical Methods',\n",
       " '\\nPosition: Associate Professor, Head of Department of European Economic Integration and Economic Policy Field of interest:\\xa0International Economics, Development Economics, Public Finance, Taxation, International Corporate Tax Avoidance, Tax Havens, Illicit Financial Flows, Income Inequality Membership: European Economic Integration and Economic Policy, Internal',\n",
       " '\\nPosition: Senior Lecturer Field of interest:\\xa0Accounting, Tax Systems Membership: Finance and Capital Markets, Internal',\n",
       " '\\nPosition: Professor, Head of Department of Finance, Director of Graduate Studies Field of interest:\\xa0Applied Economics and Econometrics, International Money and Finance, Transition and European Integration, Corporate Performance and Governance, Nonlinear Procedures Membership: Finance and Capital Markets, Internal',\n",
       " '\\nPosition: Professor Field of interest:\\xa0Monetary Economics, Macroprudential Policy, Fiscal Policy, European Integration Membership: European Economic Integration and Economic Policy, Internal',\n",
       " '\\nPosition: Vice-Dean for Student Affairs, Associate Professor Field of interest:\\xa0Financial Econometrics, Computational Economics and Finance, Interdisciplinary Finance and Economics, Long-Range Dependence, Fractality, Multifractality, Financial Market Crashes, Scaling in Finance, Extreme Events, Efficient Capital Markets, Energy Finance, Cryptoassets Membership: Finance and Capital Markets, Internal',\n",
       " '\\nPosition: Assistant Professor Field of interest:\\xa0Financial Econometrics, Behavioral Finance and Macroeconomics, Heterogeneous Agent Models Membership: Internal, Macroeconomics and Econometrics',\n",
       " '\\nPosition: Junior Researcher Field of interest:\\xa0Economic Growth, Financial Markets, Econometric Modelling, Bayesian Analysis Membership: European Economic Integration and Economic Policy, Internal, PhD Candidates',\n",
       " '\\nPosition: Professor, Director of Master Studies, Chairman of Advisory Board Field of interest:\\xa0Banking, Corporate Finance, Financial Markets Membership: Finance and Capital Markets, Internal',\n",
       " '\\nPosition: Junior Researcher Field of interest:\\xa0Financial Economics and Econometrics, Time-series Analysis Membership: Center for Doctoral Studies, Internal, Macroeconomics and Econometrics, PhD Candidates',\n",
       " '\\nPosition: Senior Lecturer Field of interest:\\xa0Financial Accounting, Corporate Finance, Company Valuation Membership: Finance and Capital Markets, Internal',\n",
       " '\\nPosition: Junior Researcher Field of interest:\\xa0Behavioural Economics, Macroeconomics, Comparative analysis Membership: Center for Doctoral Studies, Internal, Macroeconomics and Econometrics, PhD Candidates',\n",
       " '\\nPosition: Junior Researcher Field of interest:\\xa0Transfer pricing, Base erosion and profit shifting, Taxation Membership: Center for Doctoral Studies, Finance and Capital Markets, Internal, PhD Candidates',\n",
       " '\\nPosition: Researcher, PhD Candidate Field of interest:\\xa0Political economy, public finance, development economics, taxation, tax abuse, international corporate tax avoidance Membership: European Economic Integration and Economic Policy, Internal, PhD Candidates',\n",
       " '\\nPosition: Junior Lecturer Field of interest:\\xa0International Economics, International Political Economy, Trade Policy Membership: Center for Doctoral Studies, Internal, Macroeconomics and Econometrics, PhD Candidates',\n",
       " '\\nPosition: Senior Lecturer Field of interest:\\xa0Banking Membership: Finance and Capital Markets, Internal',\n",
       " '\\nPosition: Assistant Professor Field of interest:\\xa0Labor Economics, Applied Microeconometrics Membership: Internal, Macroeconomics and Econometrics',\n",
       " '\\nPosition: Post-doctoral Researcher Field of interest:\\xa0Central banking, Monetary policy, Applied Macroeconomics, Exchange rates Membership: European Economic Integration and Economic Policy, Internal',\n",
       " '\\nPosition: Senior Lecturer, Research Fellow Field of interest:\\xa0Environmental Economics, Behavioral Economics, Residential demand, Health Risk Valuation, Non-market Valuation; regulatory impact assesment (TIMES, CGE, BCA, external costs) Membership: Internal, Microeconomics and Mathematical Methods',\n",
       " '\\nPosition: Associate Professor Field of interest:\\xa0Public Finance, Political Economy, European Integration Membership: European Economic Integration and Economic Policy, Internal',\n",
       " '\\nPosition: Senior Lecturer Field of interest:\\xa0Institutional economics, law & economics, industrial organization, intellectual property rights, institutions and growth Membership: Institutional Economics, Internal',\n",
       " '\\nPosition: Junior Researcher Field of interest:\\xa0Development Economics, Public Finance, Income Inequality Membership: Center for Doctoral Studies, European Economic Integration and Economic Policy, Internal, PhD Candidates',\n",
       " '\\nPosition: Senior Lecturer Field of interest:\\xa0International Trade, Trade Policy, Chinese Economy, Input-Output Analysis Membership: European Economic Integration and Economic Policy, Internal',\n",
       " '\\nPosition: Junior Researcher  Field of interest:\\xa0Applied Microeconometrics,  Efficiency Analysis, Energy Economics, Meta-analysis Membership: Center for Doctoral Studies, Internal, Macroeconomics and Econometrics, PhD Candidates',\n",
       " '\\nPosition: Senior Lecturer Field of interest:\\xa0Public Finance, Spatial Econometrics, Urban Economics Membership: European Economic Integration and Economic Policy, Internal',\n",
       " '\\nPosition: Senior Lecturer Field of interest:\\xa0Public Finance, European Economic Integration Membership: Internal, Microeconomics and Mathematical Methods',\n",
       " '\\nPosition: Associate Professor Field of interest:\\xa0Banking, Financial Markets Regulation, Risk Management Membership: Finance and Capital Markets, Internal',\n",
       " '\\nPosition: Senior Lecturer Field of interest:\\xa0Antitrust Economics, Industrial Organization, International Economics, Economic Policy Membership: European Economic Integration and Economic Policy, Internal',\n",
       " '\\nPosition: Senior Lecturer, Research Fellow Field of interest:\\xa0Financial markets Membership: Finance and Capital Markets, Internal',\n",
       " '\\nPosition: Professor Emeritus Field of interest:\\xa0Robust Econometrics and Statistics Membership: Internal, Macroeconomics and Econometrics',\n",
       " '\\nPosition: Professor Field of interest:\\xa0Mathematical Finance, Econometrics Membership: Finance and Capital Markets, Internal',\n",
       " '\\nPosition: Junior Researcher Field of interest:\\xa0Healthcare Markets, Production, Fertility, Child Care, Size and Spatial Distributions of Regional Economic Activity Membership: European Economic Integration and Economic Policy, Internal, PhD Candidates',\n",
       " '\\nPosition: Junior Researcher Field of interest:\\xa0Economic Modelling, Macroeconomics, Monetary Economics Membership: Center for Doctoral Studies, Internal, Macroeconomics and Econometrics, PhD Candidates']"
      ]
     },
     "execution_count": 274,
     "metadata": {},
     "output_type": "execute_result"
    }
   ],
   "source": [
    "def getName(link):\n",
    "    soup = getSoup(link)\n",
    "    return soup.find('div',{'class':\"overFlowed\"}).find('p').text\n",
    "[getName(link) for link in links]"
   ]
  },
  {
   "cell_type": "code",
   "execution_count": 276,
   "metadata": {},
   "outputs": [
    {
     "data": {
      "text/plain": [
       "['doc. PhDr. Jozef Baruník Ph.D.',\n",
       " 'doc. PhDr. Michal Bauer Ph.D.',\n",
       " 'PhDr. Jaromír Baxa Ph.D.',\n",
       " ' Paola Bertoli M.A., MSc., Ph.D.',\n",
       " 'PhDr. Lucie Bryndová ',\n",
       " 'doc. Ing. Tomáš Cahlík CSc.',\n",
       " 'PhDr. František Čech Ph.D.',\n",
       " 'RNDr. Michal Červinka Ph.D.',\n",
       " 'doc. PhDr. Julie Chytilová Ph.D.',\n",
       " 'prof. Ing. Oldřich Dědek CSc.',\n",
       " 'doc. PhDr. Ing. Antonie Doležalová Ph.D.',\n",
       " 'doc. PhDr. Adam Geršl Ph.D.',\n",
       " 'doc. PhDr. Martin Gregor Ph.D.',\n",
       " 'doc. PhDr. Tomáš Havránek Ph.D.',\n",
       " 'doc. PhDr. Zuzana Havránková Ph.D.',\n",
       " 'PhDr. Michal Hlaváček Ph.D.',\n",
       " 'Ing. Monika Hollmannová ',\n",
       " 'doc. Mgr. Tomáš Holub Ph.D.',\n",
       " 'prof. Roman Horváth Ph.D.',\n",
       " 'doc. PhDr. Ing. Ing. Petr Jakubík Ph.D. Ph.D.',\n",
       " 'prof. Ing. Karel Janda M.A., Dr., Ph.D.',\n",
       " 'doc. Petr Janský Ph.D.',\n",
       " 'Ing. Irena Kemény ',\n",
       " 'prof. Ing. Evžen Kočenda M.A., Ph.D., DSc.',\n",
       " 'prof. Ing. et Ing. Luboš Komárek Ph.D., MSc., MBA',\n",
       " 'doc. PhDr. Ladislav Krištoufek Ph.D.',\n",
       " 'PhDr. Jiří Kukačka Ph.D.',\n",
       " 'Mgr. Jan Mareš ',\n",
       " 'prof. Ing. Michal Mejstřík CSc.',\n",
       " 'Mgr. Ing. Matěj Nevrla ',\n",
       " ' Jiří Novák M.Sc., Ph.D., Deloitte Corporate Chair',\n",
       " ' Matěj Opatrný MSc.',\n",
       " 'Mgr. Tereza Palanská M.A.',\n",
       " 'Mgr. Miroslav Palanský M.A.',\n",
       " 'Mgr. Michal Paulus ',\n",
       " 'Mgr. Magda Pečená  Ph.D.',\n",
       " 'Mgr. Barbara Pertold-Gebická M.A., Ph.D.',\n",
       " ' Julien Pinter Ph.D.',\n",
       " 'Mgr. Milan Ščasný PhD.',\n",
       " 'doc. Ing. Ondřej Schneider MPhil., Ph.D.',\n",
       " 'PhDr. Jiří Schwarz Ph.D.',\n",
       " 'Mgr. Marek Šedivý ',\n",
       " 'Ing. Vilém Semerák M.A., Ph.D.',\n",
       " 'Mgr. Dominika Špolcová ',\n",
       " 'PhDr. Lenka Šťastná Ph.D.',\n",
       " 'PhDr. Natálie Švarcová Ph.D.',\n",
       " 'doc. PhDr. Petr Teplý Ph.D.',\n",
       " 'PhDr. Pavel Vacek Ph.D.',\n",
       " 'Mgr. Lukáš Vácha Ph.D.',\n",
       " 'prof. RNDr. Jan Ámos Víšek CSc.',\n",
       " 'prof. Ing. Miloslav Vošvrda CSc.',\n",
       " 'PhDr. Jana Votápková ',\n",
       " 'Mgr. Jan Žáček ']"
      ]
     },
     "execution_count": 276,
     "metadata": {},
     "output_type": "execute_result"
    }
   ],
   "source": [
    "def getName(link):\n",
    "    soup = getSoup(link)\n",
    "    return soup.find('h2').text\n",
    "[getName(link) for link in links]"
   ]
  },
  {
   "cell_type": "code",
   "execution_count": 277,
   "metadata": {},
   "outputs": [
    {
     "data": {
      "text/plain": [
       "[['http:', '', 'ies.fsv.cuni.cz', 'en', 'staff', 'barunik'],\n",
       " ['http:', '', 'ies.fsv.cuni.cz', 'en', 'staff', 'bauerm'],\n",
       " ['http:', '', 'ies.fsv.cuni.cz', 'en', 'staff', 'baxajaromir'],\n",
       " ['http:', '', 'ies.fsv.cuni.cz', 'en', 'staff', 'bertoli'],\n",
       " ['http:', '', 'ies.fsv.cuni.cz', 'en', 'staff', 'antosova'],\n",
       " ['http:', '', 'ies.fsv.cuni.cz', 'en', 'staff', 'cahlik'],\n",
       " ['http:', '', 'ies.fsv.cuni.cz', 'en', 'staff', 'fcech'],\n",
       " ['http:', '', 'ies.fsv.cuni.cz', 'en', 'staff', 'cervinka'],\n",
       " ['http:', '', 'ies.fsv.cuni.cz', 'en', 'staff', 'chytilova'],\n",
       " ['http:', '', 'ies.fsv.cuni.cz', 'en', 'staff', 'dedek'],\n",
       " ['http:', '', 'ies.fsv.cuni.cz', 'en', 'staff', 'dolezalova'],\n",
       " ['http:', '', 'ies.fsv.cuni.cz', 'en', 'staff', 'gersl'],\n",
       " ['http:', '', 'ies.fsv.cuni.cz', 'en', 'staff', 'gregor'],\n",
       " ['http:', '', 'ies.fsv.cuni.cz', 'en', 'staff', 'havranek'],\n",
       " ['http:', '', 'ies.fsv.cuni.cz', 'en', 'staff', 'irsova'],\n",
       " ['http:', '', 'ies.fsv.cuni.cz', 'en', 'staff', 'hlavacekm'],\n",
       " ['http:', '', 'ies.fsv.cuni.cz', 'en', 'staff', 'hollmannov'],\n",
       " ['http:', '', 'ies.fsv.cuni.cz', 'en', 'staff', 'holub'],\n",
       " ['http:', '', 'ies.fsv.cuni.cz', 'en', 'staff', 'horvath'],\n",
       " ['http:', '', 'ies.fsv.cuni.cz', 'en', 'staff', 'jakubik'],\n",
       " ['http:', '', 'ies.fsv.cuni.cz', 'en', 'staff', 'janda'],\n",
       " ['http:', '', 'ies.fsv.cuni.cz', 'en', 'staff', 'jansky'],\n",
       " ['http:', '', 'ies.fsv.cuni.cz', 'en', 'staff', 'kemenyova'],\n",
       " ['http:', '', 'ies.fsv.cuni.cz', 'en', 'staff', 'kocenda'],\n",
       " ['http:', '', 'ies.fsv.cuni.cz', 'en', 'staff', 'komarek'],\n",
       " ['http:', '', 'ies.fsv.cuni.cz', 'en', 'staff', 'kristoufek'],\n",
       " ['http:', '', 'ies.fsv.cuni.cz', 'en', 'staff', 'kukacka'],\n",
       " ['http:', '', 'ies.fsv.cuni.cz', 'en', 'staff', 'maresj'],\n",
       " ['http:', '', 'ies.fsv.cuni.cz', 'en', 'staff', 'mejstrik'],\n",
       " ['http:', '', 'ies.fsv.cuni.cz', 'en', 'staff', 'nevrla'],\n",
       " ['http:', '', 'ies.fsv.cuni.cz', 'en', 'staff', 'novakji'],\n",
       " ['http:', '', 'ies.fsv.cuni.cz', 'en', 'staff', 'opatrny'],\n",
       " ['http:', '', 'ies.fsv.cuni.cz', 'en', 'staff', 'malirova'],\n",
       " ['http:', '', 'ies.fsv.cuni.cz', 'en', 'staff', 'palansky'],\n",
       " ['http:', '', 'ies.fsv.cuni.cz', 'en', 'staff', 'paulus'],\n",
       " ['http:', '', 'ies.fsv.cuni.cz', 'en', 'staff', 'neprasova'],\n",
       " ['http:', '', 'ies.fsv.cuni.cz', 'en', 'staff', 'gebicka'],\n",
       " ['http:', '', 'ies.fsv.cuni.cz', 'en', 'staff', 'pinter'],\n",
       " ['http:', '', 'ies.fsv.cuni.cz', 'en', 'staff', 'scasny'],\n",
       " ['http:', '', 'ies.fsv.cuni.cz', 'en', 'staff', 'schneider'],\n",
       " ['http:', '', 'ies.fsv.cuni.cz', 'en', 'staff', 'schwarz'],\n",
       " ['http:', '', 'ies.fsv.cuni.cz', 'en', 'staff', 'sedivy'],\n",
       " ['http:', '', 'ies.fsv.cuni.cz', 'en', 'staff', 'semerak'],\n",
       " ['http:', '', 'ies.fsv.cuni.cz', 'en', 'staff', 'reckova'],\n",
       " ['http:', '', 'ies.fsv.cuni.cz', 'en', 'staff', 'gregorovalenka'],\n",
       " ['http:', '', 'ies.fsv.cuni.cz', 'en', 'staff', 'reichlova'],\n",
       " ['http:', '', 'ies.fsv.cuni.cz', 'en', 'staff', 'teply'],\n",
       " ['http:', '', 'ies.fsv.cuni.cz', 'en', 'staff', 'vacek'],\n",
       " ['http:', '', 'ies.fsv.cuni.cz', 'en', 'staff', 'vacha'],\n",
       " ['http:', '', 'ies.fsv.cuni.cz', 'en', 'staff', 'visek'],\n",
       " ['http:', '', 'ies.fsv.cuni.cz', 'en', 'staff', 'vosvrda'],\n",
       " ['http:', '', 'ies.fsv.cuni.cz', 'en', 'staff', 'prochazkova'],\n",
       " ['http:', '', 'ies.fsv.cuni.cz', 'en', 'staff', 'zacek']]"
      ]
     },
     "execution_count": 277,
     "metadata": {},
     "output_type": "execute_result"
    }
   ],
   "source": [
    "\n",
    "def getID(link):\n",
    "    #http://ies.fsv.cuni.cz/en/staff/barunik\n",
    "    return link.split('/')\n",
    "[getID(link) for link in links]"
   ]
  },
  {
   "cell_type": "code",
   "execution_count": 278,
   "metadata": {
    "scrolled": true
   },
   "outputs": [
    {
     "data": {
      "text/plain": [
       "['barunik',\n",
       " 'bauerm',\n",
       " 'baxajaromir',\n",
       " 'bertoli',\n",
       " 'antosova',\n",
       " 'cahlik',\n",
       " 'fcech',\n",
       " 'cervinka',\n",
       " 'chytilova',\n",
       " 'dedek',\n",
       " 'dolezalova',\n",
       " 'gersl',\n",
       " 'gregor',\n",
       " 'havranek',\n",
       " 'irsova',\n",
       " 'hlavacekm',\n",
       " 'hollmannov',\n",
       " 'holub',\n",
       " 'horvath',\n",
       " 'jakubik',\n",
       " 'janda',\n",
       " 'jansky',\n",
       " 'kemenyova',\n",
       " 'kocenda',\n",
       " 'komarek',\n",
       " 'kristoufek',\n",
       " 'kukacka',\n",
       " 'maresj',\n",
       " 'mejstrik',\n",
       " 'nevrla',\n",
       " 'novakji',\n",
       " 'opatrny',\n",
       " 'malirova',\n",
       " 'palansky',\n",
       " 'paulus',\n",
       " 'neprasova',\n",
       " 'gebicka',\n",
       " 'pinter',\n",
       " 'scasny',\n",
       " 'schneider',\n",
       " 'schwarz',\n",
       " 'sedivy',\n",
       " 'semerak',\n",
       " 'reckova',\n",
       " 'gregorovalenka',\n",
       " 'reichlova',\n",
       " 'teply',\n",
       " 'vacek',\n",
       " 'vacha',\n",
       " 'visek',\n",
       " 'vosvrda',\n",
       " 'prochazkova',\n",
       " 'zacek']"
      ]
     },
     "execution_count": 278,
     "metadata": {},
     "output_type": "execute_result"
    }
   ],
   "source": [
    "\n",
    "def getID(link):\n",
    "    #http://ies.fsv.cuni.cz/en/staff/barunik\n",
    "    return link.split('/')[-1]\n",
    "[getID(link) for link in links]"
   ]
  },
  {
   "cell_type": "code",
   "execution_count": 287,
   "metadata": {},
   "outputs": [
    {
     "data": {
      "text/plain": [
       "[[' +420(776)259273', ' 503'],\n",
       " [' 222 112 329', ' 402'],\n",
       " [' 222 112 309', ' 311'],\n",
       " [' ', ' 206 A (from 6/2019)'],\n",
       " [' ', ' '],\n",
       " [' 222 112 318', ' 410'],\n",
       " [' +420 776 535 106', ' 509'],\n",
       " ['  +420 26605 2345 ', ' O408(IES), 225(UTIA)'],\n",
       " [' 222 112 318', ' 410'],\n",
       " [' 222 112 325', ' 510'],\n",
       " [' n.a.', ' 311'],\n",
       " [' n.a.', ' on leave at JVI'],\n",
       " [' +420 222 112 306', ' 107'],\n",
       " [' Please contact me by e-mail', ' typically 314'],\n",
       " [' 222 112 309', ' 311'],\n",
       " [' 736 524 520', ' 408'],\n",
       " [' 222 112 324', ' 509'],\n",
       " [' +420/22441-2340', ' 311'],\n",
       " [' 222 112 317', ' 409'],\n",
       " [' +49 69 9511 19393', ' 311'],\n",
       " [' +420 222 112 316', ' 408'],\n",
       " [' ', ' 510'],\n",
       " [' 222 112 323', ' 509'],\n",
       " [' 222 112 321', ' 508'],\n",
       " [' 736524516', ' '],\n",
       " [' line 312 (IES), line 2243 (UTIA)', ' 406'],\n",
       " [' +420 602 767 305', ' 406 IES, 247 UTIA'],\n",
       " [' please use e-mail', ' 602'],\n",
       " [' +420 222 112 326', ' 511'],\n",
       " [' ', ' 602'],\n",
       " [' +420 222 112 314', ' 402'],\n",
       " [' +420 728 154 022', ' '],\n",
       " [' +420 602 396 703', ' IES 602'],\n",
       " [' +420776661654', ' 602'],\n",
       " [' ', ' 602'],\n",
       " [' 222 112 309', ' 311'],\n",
       " [' ', ' 408'],\n",
       " [' ', ' 402'],\n",
       " [' (+420) 220 199  477 ', ' #408, EnvCntr #1617'],\n",
       " [' +1 301 530 5032', ' Bethesda, Maryland'],\n",
       " [' ', ' 311'],\n",
       " [' ', ' '],\n",
       " [' ', ' 311'],\n",
       " [' ', ' 602'],\n",
       " [' 222 112 309', ' 406'],\n",
       " [' ', ' '],\n",
       " [' +420 222 112 326', ' 511'],\n",
       " [' 733-644-300', ' 508'],\n",
       " [' 602 161 710', ' 503'],\n",
       " [' 222 112 313', ' 407'],\n",
       " [' 222 112 314', ' 402'],\n",
       " [' +420 777 576 698', ' 602'],\n",
       " [' ', ' 602']]"
      ]
     },
     "execution_count": 287,
     "metadata": {},
     "output_type": "execute_result"
    }
   ],
   "source": [
    "def getNextSiblingOfStrong(link,characteristic):\n",
    "    soup = getSoup(link)\n",
    "    strong = soup.find('strong',text=characteristic)\n",
    "    return strong.next_sibling\n",
    "\n",
    "def getMoreCharacteristics(link, characteristics):\n",
    "    return [getNextSiblingOfStrong(link,char) for char in characteristics]\n",
    "\n",
    "\n",
    "\n",
    "[getMoreCharacteristics(link,['Phone:','Office:']) for link in links]"
   ]
  },
  {
   "cell_type": "code",
   "execution_count": 288,
   "metadata": {},
   "outputs": [
    {
     "data": {
      "text/plain": [
       "[[' +420(776)259273', ' Internal, Macroeconomics and Econometrics'],\n",
       " [' 222 112 329', ' Institutional Economics, Internal'],\n",
       " [' 222 112 309', ' Internal, Macroeconomics and Econometrics'],\n",
       " [' ', ' European Economic Integration and Economic Policy, Internal'],\n",
       " [' ', ' European Economic Integration and Economic Policy, Internal'],\n",
       " [' 222 112 318', ' Internal, Macroeconomics and Econometrics'],\n",
       " [' +420 776 535 106',\n",
       "  ' Finance and Capital Markets, Former PhD students, Internal'],\n",
       " ['  +420 26605 2345 ', ' Internal, Macroeconomics and Econometrics'],\n",
       " [' 222 112 318', ' Institutional Economics, Internal'],\n",
       " [' 222 112 325', ' Internal, Macroeconomics and Econometrics'],\n",
       " [' n.a.', ' Institutional Economics, Internal'],\n",
       " [' n.a.', ' Finance and Capital Markets, Internal'],\n",
       " [' +420 222 112 306',\n",
       "  ' European Economic Integration and Economic Policy, Internal'],\n",
       " [' Please contact me by e-mail',\n",
       "  ' Internal, Macroeconomics and Econometrics'],\n",
       " [' 222 112 309', ' Internal, Macroeconomics and Econometrics'],\n",
       " [' 736 524 520', ' Internal, Macroeconomics and Econometrics'],\n",
       " [' 222 112 324', ' Finance and Capital Markets, Internal'],\n",
       " [' +420/22441-2340', ' Internal, Macroeconomics and Econometrics'],\n",
       " [' 222 112 317', ' Internal, Macroeconomics and Econometrics'],\n",
       " [' +49 69 9511 19393', ' Finance and Capital Markets, Internal'],\n",
       " [' +420 222 112 316', ' Internal, Microeconomics and Mathematical Methods'],\n",
       " [' ', ' European Economic Integration and Economic Policy, Internal'],\n",
       " [' 222 112 323', ' Finance and Capital Markets, Internal'],\n",
       " [' 222 112 321', ' Finance and Capital Markets, Internal'],\n",
       " [' 736524516',\n",
       "  ' European Economic Integration and Economic Policy, Internal'],\n",
       " [' line 312 (IES), line 2243 (UTIA)',\n",
       "  ' Finance and Capital Markets, Internal'],\n",
       " [' +420 602 767 305', ' Internal, Macroeconomics and Econometrics'],\n",
       " [' please use e-mail',\n",
       "  ' European Economic Integration and Economic Policy, Internal, PhD Candidates'],\n",
       " [' +420 222 112 326', ' Finance and Capital Markets, Internal'],\n",
       " [' ',\n",
       "  ' Center for Doctoral Studies, Internal, Macroeconomics and Econometrics, PhD Candidates'],\n",
       " [' +420 222 112 314', ' Finance and Capital Markets, Internal'],\n",
       " [' +420 728 154 022',\n",
       "  ' Center for Doctoral Studies, Internal, Macroeconomics and Econometrics, PhD Candidates'],\n",
       " [' +420 602 396 703',\n",
       "  ' Center for Doctoral Studies, Finance and Capital Markets, Internal, PhD Candidates'],\n",
       " [' +420776661654',\n",
       "  ' European Economic Integration and Economic Policy, Internal, PhD Candidates'],\n",
       " [' ',\n",
       "  ' Center for Doctoral Studies, Internal, Macroeconomics and Econometrics, PhD Candidates'],\n",
       " [' 222 112 309', ' Finance and Capital Markets, Internal'],\n",
       " [' ', ' Internal, Macroeconomics and Econometrics'],\n",
       " [' ', ' European Economic Integration and Economic Policy, Internal'],\n",
       " [' (+420) 220 199  477 ',\n",
       "  ' Internal, Microeconomics and Mathematical Methods'],\n",
       " [' +1 301 530 5032',\n",
       "  ' European Economic Integration and Economic Policy, Internal'],\n",
       " [' ', ' Institutional Economics, Internal'],\n",
       " [' ',\n",
       "  ' Center for Doctoral Studies, European Economic Integration and Economic Policy, Internal, PhD Candidates'],\n",
       " [' ', ' European Economic Integration and Economic Policy, Internal'],\n",
       " [' ',\n",
       "  ' Center for Doctoral Studies, Internal, Macroeconomics and Econometrics, PhD Candidates'],\n",
       " [' 222 112 309',\n",
       "  ' European Economic Integration and Economic Policy, Internal'],\n",
       " [' ', ' Internal, Microeconomics and Mathematical Methods'],\n",
       " [' +420 222 112 326', ' Finance and Capital Markets, Internal'],\n",
       " [' 733-644-300',\n",
       "  ' European Economic Integration and Economic Policy, Internal'],\n",
       " [' 602 161 710', ' Finance and Capital Markets, Internal'],\n",
       " [' 222 112 313', ' Internal, Macroeconomics and Econometrics'],\n",
       " [' 222 112 314', ' Finance and Capital Markets, Internal'],\n",
       " [' +420 777 576 698',\n",
       "  ' European Economic Integration and Economic Policy, Internal, PhD Candidates'],\n",
       " [' ',\n",
       "  ' Center for Doctoral Studies, Internal, Macroeconomics and Econometrics, PhD Candidates']]"
      ]
     },
     "execution_count": 288,
     "metadata": {},
     "output_type": "execute_result"
    }
   ],
   "source": [
    "def getNextSiblingOfStrong(link,characteristic):\n",
    "    soup = getSoup(link)\n",
    "    strong = soup.find('strong',text=characteristic)\n",
    "    return strong.next_sibling\n",
    "\n",
    "def getMoreCharacteristics(link, characteristics):\n",
    "    return [getNextSiblingOfStrong(link,char) for char in characteristics]\n",
    "\n",
    "\n",
    "\n",
    "[getMoreCharacteristics(link,['Phone:','Membership:']) for link in links]"
   ]
  },
  {
   "cell_type": "code",
   "execution_count": null,
   "metadata": {},
   "outputs": [],
   "source": [
    "def getNextSiblingOfStrong(link,characteristic):\n",
    "    soup = getSoup(link)\n",
    "    strong = soup.find('strong',text=characteristic)\n",
    "    return strong.next_sibling\n",
    "\n",
    "def getMoreCharacteristics(link, characteristics):\n",
    "    return [getNextSiblingOfStrong(link,char) for char in characteristics]\n",
    "\n",
    "\n",
    "\n",
    "[getMoreCharacteristics(link,['Phone:','Office:']) for link in links]"
   ]
  },
  {
   "cell_type": "code",
   "execution_count": 289,
   "metadata": {},
   "outputs": [],
   "source": [
    "def getAnotherCharacteristic(link,characteristic):\n",
    "    pass"
   ]
  },
  {
   "cell_type": "code",
   "execution_count": 290,
   "metadata": {},
   "outputs": [],
   "source": [
    "class Person:\n",
    "    def __init__(self,link):\n",
    "        self.soup = getSoup(link)\n",
    "        self.office = self.getNextSiblingOfStrong('Office:')\n",
    "        self.phone = self.getNextSiblingOfStrong('Phone:')\n",
    "        \n",
    "    def getNextSiblingOfStrong(self,characteristic):\n",
    "        strong = self.soup.find('strong',text=characteristic)\n",
    "        return strong.next_sibling\n",
    "\n",
    "people = [Person(link) for link in links]"
   ]
  },
  {
   "cell_type": "code",
   "execution_count": 291,
   "metadata": {
    "scrolled": true
   },
   "outputs": [
    {
     "data": {
      "text/plain": [
       "[' 503',\n",
       " ' 402',\n",
       " ' 311',\n",
       " ' 206 A (from 6/2019)',\n",
       " ' ',\n",
       " ' 410',\n",
       " ' 509',\n",
       " ' O408(IES), 225(UTIA)',\n",
       " ' 410',\n",
       " ' 510',\n",
       " ' 311',\n",
       " ' on leave at JVI',\n",
       " ' 107',\n",
       " ' typically 314',\n",
       " ' 311',\n",
       " ' 408',\n",
       " ' 509',\n",
       " ' 311',\n",
       " ' 409',\n",
       " ' 311',\n",
       " ' 408',\n",
       " ' 510',\n",
       " ' 509',\n",
       " ' 508',\n",
       " ' ',\n",
       " ' 406',\n",
       " ' 406 IES, 247 UTIA',\n",
       " ' 602',\n",
       " ' 511',\n",
       " ' 602',\n",
       " ' 402',\n",
       " ' ',\n",
       " ' IES 602',\n",
       " ' 602',\n",
       " ' 602',\n",
       " ' 311',\n",
       " ' 408',\n",
       " ' 402',\n",
       " ' #408, EnvCntr #1617',\n",
       " ' Bethesda, Maryland',\n",
       " ' 311',\n",
       " ' ',\n",
       " ' 311',\n",
       " ' 602',\n",
       " ' 406',\n",
       " ' ',\n",
       " ' 511',\n",
       " ' 508',\n",
       " ' 503',\n",
       " ' 407',\n",
       " ' 402',\n",
       " ' 602',\n",
       " ' 602']"
      ]
     },
     "execution_count": 291,
     "metadata": {},
     "output_type": "execute_result"
    }
   ],
   "source": [
    "[p.office for p in people]"
   ]
  },
  {
   "cell_type": "code",
   "execution_count": 293,
   "metadata": {},
   "outputs": [
    {
     "data": {
      "text/plain": [
       "[' +420(776)259273',\n",
       " ' 222 112 329',\n",
       " ' 222 112 309',\n",
       " ' ',\n",
       " ' ',\n",
       " ' 222 112 318',\n",
       " ' +420 776 535 106',\n",
       " '  +420 26605 2345 ',\n",
       " ' 222 112 318',\n",
       " ' 222 112 325',\n",
       " ' n.a.',\n",
       " ' n.a.',\n",
       " ' +420 222 112 306',\n",
       " ' Please contact me by e-mail',\n",
       " ' 222 112 309',\n",
       " ' 736 524 520',\n",
       " ' 222 112 324',\n",
       " ' +420/22441-2340',\n",
       " ' 222 112 317',\n",
       " ' +49 69 9511 19393',\n",
       " ' +420 222 112 316',\n",
       " ' ',\n",
       " ' 222 112 323',\n",
       " ' 222 112 321',\n",
       " ' 736524516',\n",
       " ' line 312 (IES), line 2243 (UTIA)',\n",
       " ' +420 602 767 305',\n",
       " ' please use e-mail',\n",
       " ' +420 222 112 326',\n",
       " ' ',\n",
       " ' +420 222 112 314',\n",
       " ' +420 728 154 022',\n",
       " ' +420 602 396 703',\n",
       " ' +420776661654',\n",
       " ' ',\n",
       " ' 222 112 309',\n",
       " ' ',\n",
       " ' ',\n",
       " ' (+420) 220 199  477 ',\n",
       " ' +1 301 530 5032',\n",
       " ' ',\n",
       " ' ',\n",
       " ' ',\n",
       " ' ',\n",
       " ' 222 112 309',\n",
       " ' ',\n",
       " ' +420 222 112 326',\n",
       " ' 733-644-300',\n",
       " ' 602 161 710',\n",
       " ' 222 112 313',\n",
       " ' 222 112 314',\n",
       " ' +420 777 576 698',\n",
       " ' ']"
      ]
     },
     "execution_count": 293,
     "metadata": {},
     "output_type": "execute_result"
    }
   ],
   "source": [
    "[q.phone for q in people]\n"
   ]
  },
  {
   "cell_type": "code",
   "execution_count": null,
   "metadata": {},
   "outputs": [],
   "source": [
    "class Thesis \n",
    "    def _init_(self, link):\n",
    "    pass\n",
    "\n"
   ]
  },
  {
   "cell_type": "code",
   "execution_count": null,
   "metadata": {},
   "outputs": [],
   "source": [
    "class Person:\n",
    "    def __init__(self,link):\n",
    "        self.soup = getSoup(link)\n",
    "        self.office = self.getNextSiblingOfStrong('Office:')\n",
    "        self.phone = self.getNextSiblingOfStrong('Phone:')\n",
    "        \n",
    "    def getNextSiblingOfStrong(self,characteristic):\n",
    "        strong = self.soup.find('strong',text=characteristic)\n",
    "        return strong.next_sibling\n",
    "\n",
    "people = [Person(link) for link in links]"
   ]
  },
  {
   "cell_type": "code",
   "execution_count": 295,
   "metadata": {},
   "outputs": [
    {
     "ename": "NameError",
     "evalue": "name 'IES_Downloader' is not defined",
     "output_type": "error",
     "traceback": [
      "\u001b[1;31m---------------------------------------------------------------------------\u001b[0m",
      "\u001b[1;31mNameError\u001b[0m                                 Traceback (most recent call last)",
      "\u001b[1;32m<ipython-input-295-addc4a58ec25>\u001b[0m in \u001b[0;36m<module>\u001b[1;34m\u001b[0m\n\u001b[1;32m----> 1\u001b[1;33m \u001b[0mdl\u001b[0m \u001b[1;33m=\u001b[0m \u001b[0mIES_Downloader\u001b[0m\u001b[1;33m(\u001b[0m\u001b[0mallowLog\u001b[0m\u001b[1;33m=\u001b[0m\u001b[1;32mFalse\u001b[0m\u001b[1;33m)\u001b[0m\u001b[1;33m\u001b[0m\u001b[1;33m\u001b[0m\u001b[0m\n\u001b[0m\u001b[0;32m      2\u001b[0m \u001b[0mdl\u001b[0m\u001b[1;33m.\u001b[0m\u001b[0mgetThesesLinksForCategory\u001b[0m\u001b[1;33m(\u001b[0m\u001b[1;34m'http://ies.fsv.cuni.cz/en/node/270/'\u001b[0m\u001b[1;33m,\u001b[0m\u001b[1;34m'Doctoral'\u001b[0m\u001b[1;33m)\u001b[0m\u001b[1;33m\u001b[0m\u001b[1;33m\u001b[0m\u001b[0m\n\u001b[0;32m      3\u001b[0m \u001b[0mthesesLinks\u001b[0m \u001b[1;33m=\u001b[0m \u001b[0mdl\u001b[0m\u001b[1;33m.\u001b[0m\u001b[0mlinks\u001b[0m\u001b[1;33m[\u001b[0m\u001b[1;34m'theses'\u001b[0m\u001b[1;33m]\u001b[0m\u001b[1;33m[\u001b[0m\u001b[1;34m'Doctoral'\u001b[0m\u001b[1;33m]\u001b[0m\u001b[1;33m\u001b[0m\u001b[1;33m\u001b[0m\u001b[0m\n",
      "\u001b[1;31mNameError\u001b[0m: name 'IES_Downloader' is not defined"
     ]
    }
   ],
   "source": [
    "\n",
    "dl = IES_Downloader(allowLog=False)\n",
    "dl.getThesesLinksForCategory('http://ies.fsv.cuni.cz/en/node/270/','Doctoral')\n",
    "thesesLinks = dl.links['theses']['Doctoral']"
   ]
  },
  {
   "cell_type": "code",
   "execution_count": 294,
   "metadata": {},
   "outputs": [
    {
     "ename": "NameError",
     "evalue": "name 'tqdm' is not defined",
     "output_type": "error",
     "traceback": [
      "\u001b[1;31m---------------------------------------------------------------------------\u001b[0m",
      "\u001b[1;31mNameError\u001b[0m                                 Traceback (most recent call last)",
      "\u001b[1;32m<ipython-input-294-a50f7fe8926f>\u001b[0m in \u001b[0;36m<module>\u001b[1;34m\u001b[0m\n\u001b[0;32m      4\u001b[0m \u001b[1;33m\u001b[0m\u001b[0m\n\u001b[0;32m      5\u001b[0m \u001b[0mtheses\u001b[0m \u001b[1;33m=\u001b[0m \u001b[1;33m[\u001b[0m\u001b[1;33m]\u001b[0m\u001b[1;33m\u001b[0m\u001b[1;33m\u001b[0m\u001b[0m\n\u001b[1;32m----> 6\u001b[1;33m \u001b[1;32mfor\u001b[0m \u001b[0mt\u001b[0m \u001b[1;32min\u001b[0m \u001b[0mtqdm\u001b[0m\u001b[1;33m(\u001b[0m\u001b[0mthesesLinks\u001b[0m\u001b[1;33m)\u001b[0m\u001b[1;33m:\u001b[0m\u001b[1;33m\u001b[0m\u001b[1;33m\u001b[0m\u001b[0m\n\u001b[0m\u001b[0;32m      7\u001b[0m     \u001b[0mtheses\u001b[0m\u001b[1;33m.\u001b[0m\u001b[0mappend\u001b[0m\u001b[1;33m(\u001b[0m\u001b[0mThesis\u001b[0m\u001b[1;33m(\u001b[0m\u001b[0mt\u001b[0m\u001b[1;33m)\u001b[0m\u001b[1;33m)\u001b[0m\u001b[1;33m\u001b[0m\u001b[1;33m\u001b[0m\u001b[0m\n",
      "\u001b[1;31mNameError\u001b[0m: name 'tqdm' is not defined"
     ]
    }
   ],
   "source": [
    "\n",
    "class Thesis:\n",
    "    def __init__(self,link):\n",
    "        pass\n",
    "\n",
    "theses = []\n",
    "for t in tqdm(thesesLinks):\n",
    "    theses.append(Thesis(t))"
   ]
  },
  {
   "cell_type": "code",
   "execution_count": null,
   "metadata": {},
   "outputs": [],
   "source": []
  },
  {
   "cell_type": "code",
   "execution_count": null,
   "metadata": {},
   "outputs": [],
   "source": []
  }
 ],
 "metadata": {
  "kernelspec": {
   "display_name": "Python 3",
   "language": "python",
   "name": "python3"
  },
  "language_info": {
   "codemirror_mode": {
    "name": "ipython",
    "version": 3
   },
   "file_extension": ".py",
   "mimetype": "text/x-python",
   "name": "python",
   "nbconvert_exporter": "python",
   "pygments_lexer": "ipython3",
   "version": "3.7.4"
  }
 },
 "nbformat": 4,
 "nbformat_minor": 2
}
